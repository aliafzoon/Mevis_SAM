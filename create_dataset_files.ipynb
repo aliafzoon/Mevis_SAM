{
 "cells": [
  {
   "cell_type": "code",
   "execution_count": 1,
   "metadata": {},
   "outputs": [
    {
     "name": "stdout",
     "output_type": "stream",
     "text": [
      "env: CUDA_VISIBLE_DEVICES=MIG-4f53211e-ceab-5aa7-b0ba-6ef87e62c8ed\n"
     ]
    },
    {
     "data": {
      "text/plain": [
       "'MIG-4f53211e-ceab-5aa7-b0ba-6ef87e62c8ed'"
      ]
     },
     "execution_count": 1,
     "metadata": {},
     "output_type": "execute_result"
    }
   ],
   "source": [
    "%env CUDA_VISIBLE_DEVICES=MIG-4f53211e-ceab-5aa7-b0ba-6ef87e62c8ed\n",
    "# %env LD_LIBRARY_PATH=/home/ubuntu/miniconda3/envs/sab_env2/lib/python3.12/site-packages/nvidia/nvjitlink/lib/:$LD_LIBRARY_PATH\n",
    "%env CUDA_VISIBLE_DEVICES"
   ]
  },
  {
   "cell_type": "code",
   "execution_count": 2,
   "metadata": {},
   "outputs": [
    {
     "name": "stderr",
     "output_type": "stream",
     "text": [
      "/home/ubuntu/Thesis_code/models/sam/modeling/tiny_vit_sam.py:677: UserWarning: Overwriting tiny_vit_5m_224 in registry with models.sam.modeling.tiny_vit_sam.tiny_vit_5m_224. This is because the name being registered conflicts with an existing name. Please check if this is not expected.\n",
      "  return register_model(fn_wrapper)\n",
      "/home/ubuntu/Thesis_code/models/sam/modeling/tiny_vit_sam.py:677: UserWarning: Overwriting tiny_vit_11m_224 in registry with models.sam.modeling.tiny_vit_sam.tiny_vit_11m_224. This is because the name being registered conflicts with an existing name. Please check if this is not expected.\n",
      "  return register_model(fn_wrapper)\n",
      "/home/ubuntu/Thesis_code/models/sam/modeling/tiny_vit_sam.py:677: UserWarning: Overwriting tiny_vit_21m_224 in registry with models.sam.modeling.tiny_vit_sam.tiny_vit_21m_224. This is because the name being registered conflicts with an existing name. Please check if this is not expected.\n",
      "  return register_model(fn_wrapper)\n",
      "/home/ubuntu/Thesis_code/models/sam/modeling/tiny_vit_sam.py:677: UserWarning: Overwriting tiny_vit_21m_384 in registry with models.sam.modeling.tiny_vit_sam.tiny_vit_21m_384. This is because the name being registered conflicts with an existing name. Please check if this is not expected.\n",
      "  return register_model(fn_wrapper)\n",
      "/home/ubuntu/Thesis_code/models/sam/modeling/tiny_vit_sam.py:677: UserWarning: Overwriting tiny_vit_21m_512 in registry with models.sam.modeling.tiny_vit_sam.tiny_vit_21m_512. This is because the name being registered conflicts with an existing name. Please check if this is not expected.\n",
      "  return register_model(fn_wrapper)\n"
     ]
    }
   ],
   "source": [
    "import json\n",
    "import random\n",
    "import re\n",
    "from pathlib import Path\n",
    "\n",
    "import matplotlib.pyplot as plt\n",
    "import numpy as np\n",
    "import SimpleITK as sitk\n",
    "import torch\n",
    "import torch.nn.functional as F\n",
    "from monai.networks.nets import VNet\n",
    "from skimage.measure import label\n",
    "from torch.utils.data import Dataset\n",
    "from torchvision import transforms\n",
    "from tqdm.notebook import tqdm\n",
    "\n",
    "from funcs import *\n",
    "from predict_funs import pred_attention, torch_percentile\n",
    "\n",
    "%matplotlib inline"
   ]
  },
  {
   "cell_type": "code",
   "execution_count": 1,
   "metadata": {},
   "outputs": [
    {
     "name": "stdout",
     "output_type": "stream",
     "text": [
      "GPU 0: NVIDIA A100 80GB PCIe (UUID: GPU-c3316689-3235-53a1-8d30-24494d5868b9)\n",
      "  MIG 3g.40gb     Device  0: (UUID: MIG-51be5228-6c6d-56ad-ae45-a73071efd76a)\n",
      "  MIG 2g.20gb     Device  1: (UUID: MIG-4f53211e-ceab-5aa7-b0ba-6ef87e62c8ed)\n",
      "  MIG 1g.10gb     Device  2: (UUID: MIG-079b883d-bd08-5403-a958-cf1024f9dd0f)\n",
      "  MIG 1g.10gb     Device  3: (UUID: MIG-564785c9-6926-50a7-8466-531d8603d411)\n",
      "GPU 1: NVIDIA A100 80GB PCIe (UUID: GPU-e8dbd37f-2dc8-242c-e88a-814728409060)\n",
      "  MIG 7g.80gb     Device  0: (UUID: MIG-3b133eb8-ed94-51f8-937f-cbc3e3f3ff2a)\n"
     ]
    }
   ],
   "source": [
    "!nvidia-smi --list-gpus"
   ]
  },
  {
   "cell_type": "code",
   "execution_count": 4,
   "metadata": {},
   "outputs": [
    {
     "data": {
      "text/plain": [
       "'2.4.0+cu121'"
      ]
     },
     "execution_count": 4,
     "metadata": {},
     "output_type": "execute_result"
    }
   ],
   "source": [
    "import torch\n",
    "torch.__version__"
   ]
  },
  {
   "cell_type": "code",
   "execution_count": 3,
   "metadata": {},
   "outputs": [
    {
     "name": "stdout",
     "output_type": "stream",
     "text": [
      "True\n",
      "1\n",
      "NVIDIA A100 80GB PCIe MIG 2g.20gb\n"
     ]
    }
   ],
   "source": [
    "print(torch.cuda.is_available())\n",
    "print(torch.cuda.device_count())\n",
    "print(torch.cuda.get_device_name(0))"
   ]
  },
  {
   "cell_type": "code",
   "execution_count": 3,
   "metadata": {},
   "outputs": [
    {
     "data": {
      "text/plain": [
       "<torch.cuda.device at 0x791504aa2ae0>"
      ]
     },
     "execution_count": 3,
     "metadata": {},
     "output_type": "execute_result"
    }
   ],
   "source": [
    "device = torch.cuda.device(0)\n",
    "device"
   ]
  },
  {
   "cell_type": "code",
   "execution_count": 3,
   "metadata": {},
   "outputs": [],
   "source": [
    "SEED = 2003\n",
    "NUM_TEST, NUM_VALID = 45, 45    # not directly used. for information\n",
    "# IMGS_PATH = Path(\"/data/sab_data/images/resampled\")\n",
    "# MASKS_PATH = Path(\"/data/sab_data/masks/resampled\")\n",
    "IMGS_PATH = Path(\"/data/sab_data/images\")\n",
    "MASKS_PATH = Path(\"/data/sab_data/masks\")\n",
    "VNET_PATH = Path(\"/data/sab_data/checkpoints/atten.pth\")"
   ]
  },
  {
   "cell_type": "code",
   "execution_count": 4,
   "metadata": {},
   "outputs": [],
   "source": [
    "def sort_names(name):\n",
    "    # Extract number\n",
    "    match = re.search(r\"(\\d+)\", name)\n",
    "    # Extract type (t1, t2)\n",
    "    type_match = re.search(r\"_(t\\d+)\", name)\n",
    "    type_str = type_match.group(1) if type_match else \"\"\n",
    "    number = int(match.group(1)) if match else float(\"inf\")\n",
    "    return (number, type_str)\n",
    "\n",
    "\n",
    "def find_matching_data(images_path: Path, masks_path: Path):\n",
    "    \"\"\"Get all the .nii.gz files in the folder if they have a corresponding .nrrd file\"\"\"\n",
    "    files = []\n",
    "    sorted_iter_dir = sorted(\n",
    "        images_path.iterdir(), key=lambda x: sort_names(x.name), reverse=False\n",
    "    )\n",
    "    for file in sorted_iter_dir:\n",
    "        if file.name[-7:] == \".nii.gz\":\n",
    "            mask_file = masks_path / (file.name[:-7] + \".nrrd\")\n",
    "            if mask_file.exists():\n",
    "                files.append((file, mask_file))\n",
    "    print(f\"Found {len(files)} valid pairs of files\")\n",
    "    return files\n",
    "\n",
    "\n",
    "def load_vnet(model_path: Path, device: str = \"cuda\"):\n",
    "    vnet = VNet().to(device)\n",
    "    vnet.load_state_dict(\n",
    "        torch.load(\n",
    "            model_path,\n",
    "            map_location=torch.device(device),\n",
    "        )\n",
    "    )\n",
    "    return vnet\n",
    "\n",
    "\n",
    "def generate_attention_for_valid_slices(\n",
    "    img_path: Path,\n",
    "    mask_path: Path,\n",
    "    vnet: torch.nn.Module,\n",
    "    device: str = \"cuda\",\n",
    "    lower_percentile: int = 1,\n",
    "    upper_percentile: int = 99,\n",
    "    progress_bar=True,\n",
    "):\n",
    "    \"\"\"Given an image and mask path, validate the mask slices,\n",
    "    save the slice number and returns paths\"\"\"\n",
    "    attention_folder = \"attention_maps_masked\"\n",
    "    result_dict = {}\n",
    "    image_vol = sitk.ReadImage(img_path)\n",
    "    image_tensor = torch.from_numpy(\n",
    "        np.array(sitk.GetArrayFromImage(image_vol), dtype=np.float32)\n",
    "    )\n",
    "    lower_bound = torch_percentile(image_tensor, lower_percentile)\n",
    "    upper_bound = torch_percentile(image_tensor, upper_percentile)\n",
    "    # Clip the data\n",
    "    image_tensor = torch.clamp(image_tensor, lower_bound, upper_bound)\n",
    "    # Normalize the data to [0, 1]\n",
    "    image_tensor = (image_tensor - lower_bound) / (upper_bound - lower_bound)\n",
    "\n",
    "    mask = sitk.ReadImage(mask_path)\n",
    "    mask_tensor = torch.from_numpy(sitk.GetArrayFromImage(mask))\n",
    "    smallest_dimension_index = np.argmin(mask_tensor.shape)\n",
    "    if smallest_dimension_index != 0:\n",
    "        image_tensor = torch.moveaxis(image_tensor, smallest_dimension_index, 0)\n",
    "        mask_tensor = torch.moveaxis(mask_tensor, smallest_dimension_index, 0)\n",
    "    image_tensor = mask_sacrum_volume(image_tensor, mask_tensor)\n",
    "    n_slices = mask_tensor.shape[0]\n",
    "\n",
    "    result_dict[\"image_path\"] = str(img_path)\n",
    "    result_dict[\"mask_path\"] = str(mask_path)\n",
    "    result_dict[\"original_size\"] = image_tensor.shape[1:]\n",
    "    attention_paths = {}\n",
    "    with tqdm(\n",
    "        total=n_slices,\n",
    "        desc=f\"Processing slices of {mask_path.name}\",\n",
    "        unit=\"slice\",\n",
    "        leave=False,\n",
    "        disable=not progress_bar,\n",
    "    ) as pbar:\n",
    "        for slice_id in range(n_slices):\n",
    "            # take a slice from the mask\n",
    "            # mask_slice = np.take(mask_array, indices=slice_id, axis=0)\n",
    "            # check if the mask contains any labels\n",
    "            # if np.sum(mask_slice) < 1:\n",
    "            #     # tqdm.write(f\"No regions found in slice{i}\")\n",
    "            #     pbar.update(1)\n",
    "            #     continue\n",
    "            # else:\n",
    "            atten_map = pred_attention(image_tensor, vnet, int(slice_id), device)\n",
    "            attention_path = (\n",
    "                img_path.parent\n",
    "                / attention_folder\n",
    "                / img_path.name.replace(\".nii.gz\", f\"-{slice_id}.npy\")\n",
    "            )\n",
    "            attention_path.parent.mkdir(parents=False, exist_ok=True)\n",
    "            np.save(attention_path, np.array(atten_map))\n",
    "            attention_paths[str(slice_id)] = str(attention_path)\n",
    "            pbar.update(1)\n",
    "\n",
    "    if len(attention_paths) < 1:\n",
    "        print(img_path, mask_tensor.shape, image_tensor.shape)\n",
    "        raise ValueError(\"Something wrong with mask array\")\n",
    "    result_dict[\"attention_path\"] = attention_paths\n",
    "    result_dict[\"slices\"] = list(attention_paths.keys())\n",
    "    return result_dict\n",
    "\n",
    "\n",
    "def process_file_pairs(file_pairs: tuple[Path, Path], vnet: VNet, sub_bar=False):\n",
    "    \"\"\"Validate the data files and save the valid slices\"\"\"\n",
    "\n",
    "    result_dict = {}\n",
    "    with tqdm(\n",
    "        total=len(file_pairs), desc=\"Validating data files\", unit=\"image\"\n",
    "    ) as pbar:\n",
    "        for img_path, mask_path in file_pairs:\n",
    "            if img_path.name in result_dict:\n",
    "                print(\n",
    "                    f\"Name of {img_path} is duplicate. It will overwrite the {result_dict[img_path.name]} data.\"\n",
    "                )\n",
    "            result_dict[img_path.name] = generate_attention_for_valid_slices(\n",
    "                img_path,\n",
    "                mask_path,\n",
    "                vnet=vnet,\n",
    "                device=\"cuda\",\n",
    "                lower_percentile=1,\n",
    "                upper_percentile=99,\n",
    "                progress_bar=sub_bar,\n",
    "            )\n",
    "            pbar.update(1)\n",
    "    return result_dict\n",
    "\n",
    "\n",
    "def allocate_samples(data_dict, n_t1=20, n_t2=21, n_space=4):\n",
    "    all_keys = sorted(list(data_dict.keys()), key=sort_names)\n",
    "\n",
    "    t1s = [x for x in all_keys if \"t1\" in x]\n",
    "    t2s = [x for x in all_keys if \"t2\" in x and \"SPACE\" not in x]\n",
    "    space = [x for x in all_keys if \"SPACE\" in x]\n",
    "\n",
    "    train, test, valid = [], [], []\n",
    "    random.seed(SEED)\n",
    "    random.shuffle(t1s)\n",
    "    random.shuffle(t2s)\n",
    "    random.shuffle(space)\n",
    "    test.extend(space[:n_space])\n",
    "    valid.extend(space[n_space : 2 * n_space])\n",
    "    train.extend(space[2 * n_space :])\n",
    "\n",
    "    def find_match_id(group, rest):\n",
    "        matches = []\n",
    "        for x in group:\n",
    "            id_part = x.split(\"_\")[0]\n",
    "            matches.extend([y for y in rest if id_part == y.split(\"_\")[0]])\n",
    "        return matches\n",
    "\n",
    "    test.extend(find_match_id(test, t1s + t2s))\n",
    "    valid.extend(find_match_id(valid, t1s + t2s))\n",
    "\n",
    "    # Remove test and valid keys from t1s and t2s\n",
    "    test_ids = {x.split(\"_\")[0] for x in test}\n",
    "    valid_ids = {x.split(\"_\")[0] for x in valid}\n",
    "\n",
    "    t1s = [\n",
    "        x\n",
    "        for x in t1s\n",
    "        if x.split(\"_\")[0] not in test_ids and x.split(\"_\")[0] not in valid_ids\n",
    "    ]\n",
    "    t2s = [\n",
    "        x\n",
    "        for x in t2s\n",
    "        if x.split(\"_\")[0] not in test_ids and x.split(\"_\")[0] not in valid_ids\n",
    "    ]\n",
    "\n",
    "    test_t1 = n_t1 - sum(\"t1\" in x for x in test)\n",
    "    valid_t1 = n_t1 - sum(\"t1\" in x for x in valid)\n",
    "    test_t2 = n_t2 - sum((\"t2\" in x and \"SPACE\" not in x) for x in test)\n",
    "    valid_t2 = n_t2 - sum((\"t2\" in x and \"SPACE\" not in x) for x in valid)\n",
    "\n",
    "    test.extend(t1s[:test_t1])\n",
    "    valid.extend(t1s[test_t1 : test_t1 + valid_t1])\n",
    "    train.extend(t1s[test_t1 + valid_t1 :])\n",
    "\n",
    "    test.extend(t2s[:test_t2])\n",
    "    valid.extend(t2s[test_t2 : test_t2 + valid_t2])\n",
    "    train.extend(t2s[test_t2 + valid_t2 :])\n",
    "\n",
    "    train_set = {key: val for key, val in data_dict.items() if key in train}\n",
    "    test_set = {key: val for key, val in data_dict.items() if key in test}\n",
    "    valid_set = {key: val for key, val in data_dict.items() if key in valid}\n",
    "    # sort them\n",
    "    train_set = {\n",
    "        key: train_set[key] for key in sorted(train_set.keys(), key=sort_names)\n",
    "    }\n",
    "    test_set = {key: test_set[key] for key in sorted(test_set.keys(), key=sort_names)}\n",
    "    valid_set = {\n",
    "        key: valid_set[key] for key in sorted(valid_set.keys(), key=sort_names)\n",
    "    }\n",
    "    return train_set, test_set, valid_set\n",
    "\n",
    "\n",
    "def make_data_files_with_attention(\n",
    "    images_path: Path,\n",
    "    masks_path: Path,\n",
    "    model_path: Path,\n",
    "    device: str = \"cuda:0\",\n",
    "    sub_bar=False,\n",
    "):\n",
    "    \"\"\"Make the data files for the images and masks\"\"\"\n",
    "    file_pairs = find_matching_data(images_path, masks_path)\n",
    "    vnet = load_vnet(model_path, device)\n",
    "    result_dict = process_file_pairs(file_pairs, vnet=vnet, sub_bar=sub_bar)\n",
    "    # Separate train test files\n",
    "    train, test, valid = allocate_samples(result_dict)\n",
    "\n",
    "    return train, test, valid"
   ]
  },
  {
   "cell_type": "code",
   "execution_count": 5,
   "metadata": {},
   "outputs": [
    {
     "name": "stdout",
     "output_type": "stream",
     "text": [
      "Found 447 valid pairs of files\n"
     ]
    },
    {
     "name": "stderr",
     "output_type": "stream",
     "text": [
      "/tmp/ipykernel_171461/1207347915.py:29: FutureWarning: You are using `torch.load` with `weights_only=False` (the current default value), which uses the default pickle module implicitly. It is possible to construct malicious pickle data which will execute arbitrary code during unpickling (See https://github.com/pytorch/pytorch/blob/main/SECURITY.md#untrusted-models for more details). In a future release, the default value for `weights_only` will be flipped to `True`. This limits the functions that could be executed during unpickling. Arbitrary objects will no longer be allowed to be loaded via this mode unless they are explicitly allowlisted by the user via `torch.serialization.add_safe_globals`. We recommend you start setting `weights_only=True` for any use case where you don't have full control of the loaded file. Please open an issue on GitHub for any issues related to this experimental feature.\n",
      "  torch.load(\n"
     ]
    },
    {
     "data": {
      "application/vnd.jupyter.widget-view+json": {
       "model_id": "259aa66f25c045a9890f0592a65dc97c",
       "version_major": 2,
       "version_minor": 0
      },
      "text/plain": [
       "Validating data files:   0%|          | 0/447 [00:00<?, ?image/s]"
      ]
     },
     "metadata": {},
     "output_type": "display_data"
    }
   ],
   "source": [
    "if torch.cuda.is_available():\n",
    "    device = \"cuda:0\"\n",
    "else:\n",
    "    device = \"cpu\"\n",
    "# device = \"cuda\" if torch.cuda.is_available() else \"cpu\"\n",
    "train_set, test_set, valid_set = make_data_files_with_attention(\n",
    "    images_path=IMGS_PATH,\n",
    "    masks_path=MASKS_PATH,\n",
    "    model_path=VNET_PATH,\n",
    "    device=device,\n",
    "    sub_bar=False,\n",
    ")\n",
    "with open(\"Train_data_files_resampled_masking.json\", \"w\") as f:\n",
    "    json.dump(\n",
    "        train_set,\n",
    "        f,\n",
    "        indent=4,\n",
    "        sort_keys=False,\n",
    "        separators=(\",\", \": \"),\n",
    "    )\n",
    "with open(\"Test_data_files_resampled_masking.json\", \"w\") as f:\n",
    "    json.dump(\n",
    "        test_set,\n",
    "        f,\n",
    "        indent=4,\n",
    "        sort_keys=False,\n",
    "        separators=(\",\", \": \"),\n",
    "    )\n",
    "with open(\"Validation_data_files_resampled_masking.json\", \"w\") as f:\n",
    "    json.dump(\n",
    "        valid_set,\n",
    "        f,\n",
    "        indent=4,\n",
    "        sort_keys=False,\n",
    "        separators=(\",\", \": \"),\n",
    "    )"
   ]
  },
  {
   "cell_type": "code",
   "execution_count": 23,
   "metadata": {},
   "outputs": [
    {
     "name": "stdout",
     "output_type": "stream",
     "text": [
      "cuda\n"
     ]
    }
   ],
   "source": [
    "checkpoint_directory = Path('./checkpoints') \n",
    "device = 'cuda' if torch.cuda.is_available() else 'cpu'\n",
    "print(device)\n",
    "model_path = checkpoint_directory / \"atten.pth\"\n",
    "test_dict = json.load(open(\"leaky_data_files/Test_data_files.json\", \"r\"))\n",
    "train_dict = json.load(open(\"leaky_data_files/Train_data_files.json\", \"r\"))"
   ]
  },
  {
   "cell_type": "code",
   "execution_count": 28,
   "metadata": {},
   "outputs": [
    {
     "name": "stdout",
     "output_type": "stream",
     "text": [
      "All volumes: 447\n",
      "T1 volumes: 196\n",
      "T2s and SPACE T2s: 210 41\n",
      "Test Set: 45 dict_keys(['7_t1.nii.gz', '7_t2.nii.gz', '7_t2_SPACE.nii.gz', '24_t2.nii.gz', '28_t2.nii.gz', '39_t2.nii.gz', '45_t2.nii.gz', '50_t1.nii.gz', '50_t2_SPACE.nii.gz', '50_t2.nii.gz', '56_t1.nii.gz', '57_t1.nii.gz', '62_t2.nii.gz', '67_t2.nii.gz', '69_t1.nii.gz', '69_t2_SPACE.nii.gz', '69_t2.nii.gz', '71_t2.nii.gz', '81_t2.nii.gz', '83_t1.nii.gz', '109_t1.nii.gz', '117_t1.nii.gz', '118_t1.nii.gz', '131_t1.nii.gz', '140_t1.nii.gz', '140_t2.nii.gz', '145_t1.nii.gz', '146_t1.nii.gz', '166_t1.nii.gz', '186_t2.nii.gz', '191_t1.nii.gz', '192_t1.nii.gz', '193_t2.nii.gz', '204_t1.nii.gz', '204_t2.nii.gz', '208_t2.nii.gz', '222_t2.nii.gz', '224_t1.nii.gz', '226_t1.nii.gz', '226_t2.nii.gz', '236_t2.nii.gz', '241_t1.nii.gz', '241_t2_SPACE.nii.gz', '241_t2.nii.gz', '257_t2.nii.gz'])\n",
      "Validation Set: 45 dict_keys(['4_t2.nii.gz', '5_t1.nii.gz', '8_t2.nii.gz', '12_t1.nii.gz', '13_t2.nii.gz', '16_t1.nii.gz', '22_t1.nii.gz', '22_t2_SPACE.nii.gz', '22_t2.nii.gz', '23_t2.nii.gz', '29_t2.nii.gz', '31_t2.nii.gz', '36_t1.nii.gz', '52_t1.nii.gz', '60_t2.nii.gz', '64_t1.nii.gz', '96_t2.nii.gz', '100_t2.nii.gz', '105_t1.nii.gz', '118_t2.nii.gz', '127_t1.nii.gz', '127_t2.nii.gz', '127_t2_SPACE.nii.gz', '141_t2_SPACE.nii.gz', '145_t2.nii.gz', '151_t2.nii.gz', '160_t2.nii.gz', '161_t1.nii.gz', '162_t1.nii.gz', '162_t2_SPACE.nii.gz', '162_t2.nii.gz', '167_t2.nii.gz', '171_t2.nii.gz', '180_t1.nii.gz', '184_t1.nii.gz', '195_t1.nii.gz', '197_t2.nii.gz', '207_t1.nii.gz', '209_t2.nii.gz', '212_t1.nii.gz', '215_t1.nii.gz', '218_t1.nii.gz', '229_t2.nii.gz', '250_t1.nii.gz', '254_t1.nii.gz'])\n",
      "Train Set: 357 dict_keys(['1_t1.nii.gz', '1_t2.nii.gz', '2_t1.nii.gz', '2_t2.nii.gz', '3_t1.nii.gz', '3_t2.nii.gz', '4_t1.nii.gz', '5_t2_SPACE.nii.gz', '5_t2.nii.gz', '6_t2.nii.gz', '8_t1.nii.gz', '9_t1.nii.gz', '9_t2.nii.gz', '10_t1.nii.gz', '10_t2.nii.gz', '11_t1.nii.gz', '11_t2_SPACE.nii.gz', '11_t2.nii.gz', '12_t2.nii.gz', '13_t1.nii.gz', '15_t1.nii.gz', '15_t2.nii.gz', '16_t2.nii.gz', '17_t1.nii.gz', '17_t2.nii.gz', '18_t1.nii.gz', '18_t2.nii.gz', '18_t2_SPACE.nii.gz', '19_t1.nii.gz', '19_t2.nii.gz', '20_t2.nii.gz', '21_t2.nii.gz', '23_t1.nii.gz', '24_t1.nii.gz', '25_t1.nii.gz', '25_t2.nii.gz', '28_t1.nii.gz', '29_t1.nii.gz', '30_t1.nii.gz', '30_t2.nii.gz', '31_t1.nii.gz', '32_t1.nii.gz', '32_t2.nii.gz', '33_t1.nii.gz', '33_t2.nii.gz', '34_t1.nii.gz', '34_t2.nii.gz', '34_t2_SPACE.nii.gz', '35_t1.nii.gz', '35_t2_SPACE.nii.gz', '35_t2.nii.gz', '36_t2.nii.gz', '37_t1.nii.gz', '37_t2.nii.gz', '38_t1.nii.gz', '38_t2.nii.gz', '39_t1.nii.gz', '40_t1.nii.gz', '40_t2.nii.gz', '41_t2_SPACE.nii.gz', '42_t2.nii.gz', '44_t1.nii.gz', '44_t2.nii.gz', '45_t1.nii.gz', '45_t2_SPACE.nii.gz', '47_t1.nii.gz', '47_t2.nii.gz', '48_t1.nii.gz', '48_t2.nii.gz', '51_t1.nii.gz', '51_t2.nii.gz', '52_t2_SPACE.nii.gz', '52_t2.nii.gz', '53_t1.nii.gz', '53_t2.nii.gz', '55_t1.nii.gz', '55_t2_SPACE.nii.gz', '55_t2.nii.gz', '56_t2.nii.gz', '57_t2_SPACE.nii.gz', '57_t2.nii.gz', '58_t1.nii.gz', '58_t2.nii.gz', '59_t1.nii.gz', '59_t2.nii.gz', '60_t1.nii.gz', '61_t1.nii.gz', '61_t2_SPACE.nii.gz', '61_t2.nii.gz', '62_t1.nii.gz', '63_t1.nii.gz', '63_t2.nii.gz', '64_t2.nii.gz', '65_t1.nii.gz', '65_t2.nii.gz', '65_t2_SPACE.nii.gz', '66_t1.nii.gz', '66_t2.nii.gz', '67_t1.nii.gz', '68_t1.nii.gz', '68_t2.nii.gz', '71_t1.nii.gz', '72_t1.nii.gz', '73_t1.nii.gz', '73_t2.nii.gz', '74_t1.nii.gz', '74_t2.nii.gz', '75_t1.nii.gz', '75_t2.nii.gz', '77_t1.nii.gz', '78_t1.nii.gz', '78_t2_SPACE.nii.gz', '78_t2.nii.gz', '80_t1.nii.gz', '80_t2.nii.gz', '81_t1.nii.gz', '81_t2_SPACE.nii.gz', '82_t1.nii.gz', '82_t2.nii.gz', '83_t2.nii.gz', '85_t1.nii.gz', '85_t2.nii.gz', '86_t1.nii.gz', '86_t2.nii.gz', '87_t1.nii.gz', '87_t2.nii.gz', '88_t1.nii.gz', '88_t2.nii.gz', '89_t2.nii.gz', '90_t1.nii.gz', '90_t2.nii.gz', '91_t2.nii.gz', '93_t1.nii.gz', '93_t2.nii.gz', '94_t1.nii.gz', '94_t2.nii.gz', '95_t1.nii.gz', '95_t2.nii.gz', '96_t1.nii.gz', '97_t2.nii.gz', '98_t1.nii.gz', '98_t2.nii.gz', '98_t2_SPACE.nii.gz', '99_t2.nii.gz', '100_t1.nii.gz', '101_t1.nii.gz', '101_t2.nii.gz', '104_t1.nii.gz', '104_t2.nii.gz', '105_t2.nii.gz', '106_t1.nii.gz', '106_t2.nii.gz', '107_t1.nii.gz', '107_t2.nii.gz', '107_t2_SPACE.nii.gz', '108_t1.nii.gz', '108_t2.nii.gz', '109_t2.nii.gz', '110_t1.nii.gz', '110_t2.nii.gz', '110_t2_SPACE.nii.gz', '112_t1.nii.gz', '112_t2.nii.gz', '113_t1.nii.gz', '113_t2.nii.gz', '115_t1.nii.gz', '115_t2.nii.gz', '116_t1.nii.gz', '116_t2.nii.gz', '117_t2.nii.gz', '118_t2_SPACE.nii.gz', '120_t2.nii.gz', '121_t1.nii.gz', '121_t2.nii.gz', '122_t1.nii.gz', '122_t2.nii.gz', '123_t2.nii.gz', '124_t2.nii.gz', '125_t1.nii.gz', '125_t2.nii.gz', '126_t1.nii.gz', '129_t1.nii.gz', '129_t2_SPACE.nii.gz', '129_t2.nii.gz', '130_t1.nii.gz', '130_t2.nii.gz', '131_t2.nii.gz', '132_t1.nii.gz', '133_t1.nii.gz', '133_t2.nii.gz', '134_t2.nii.gz', '136_t1.nii.gz', '136_t2_SPACE.nii.gz', '136_t2.nii.gz', '137_t1.nii.gz', '137_t2.nii.gz', '138_t1.nii.gz', '138_t2.nii.gz', '142_t1.nii.gz', '142_t2.nii.gz', '142_t2_SPACE.nii.gz', '143_t1.nii.gz', '143_t2.nii.gz', '144_t1.nii.gz', '144_t2.nii.gz', '146_t2_SPACE.nii.gz', '146_t2.nii.gz', '147_t2.nii.gz', '149_t1.nii.gz', '149_t2.nii.gz', '152_t1.nii.gz', '152_t2_SPACE.nii.gz', '152_t2.nii.gz', '154_t1.nii.gz', '154_t2.nii.gz', '155_t1.nii.gz', '155_t2.nii.gz', '156_t1.nii.gz', '156_t2.nii.gz', '159_t2.nii.gz', '160_t1.nii.gz', '161_t2.nii.gz', '161_t2_SPACE.nii.gz', '163_t1.nii.gz', '163_t2.nii.gz', '165_t1.nii.gz', '165_t2.nii.gz', '166_t2.nii.gz', '166_t2_SPACE.nii.gz', '167_t1.nii.gz', '168_t1.nii.gz', '168_t2.nii.gz', '169_t1.nii.gz', '169_t2.nii.gz', '170_t1.nii.gz', '170_t2.nii.gz', '171_t1.nii.gz', '172_t1.nii.gz', '172_t2.nii.gz', '173_t1.nii.gz', '173_t2.nii.gz', '174_t1.nii.gz', '174_t2.nii.gz', '175_t1.nii.gz', '175_t2.nii.gz', '177_t1.nii.gz', '177_t2.nii.gz', '177_t2_SPACE.nii.gz', '179_t1.nii.gz', '179_t2.nii.gz', '181_t1.nii.gz', '181_t2.nii.gz', '182_t1.nii.gz', '182_t2.nii.gz', '183_t2.nii.gz', '184_t2.nii.gz', '185_t1.nii.gz', '185_t2.nii.gz', '185_t2_SPACE.nii.gz', '186_t1.nii.gz', '187_t1.nii.gz', '187_t2.nii.gz', '188_t1.nii.gz', '188_t2.nii.gz', '189_t1.nii.gz', '189_t2.nii.gz', '190_t1.nii.gz', '190_t2.nii.gz', '191_t2.nii.gz', '191_t2_SPACE.nii.gz', '192_t2.nii.gz', '193_t1.nii.gz', '195_t2.nii.gz', '196_t1.nii.gz', '196_t2.nii.gz', '198_t1.nii.gz', '198_t2.nii.gz', '200_t1.nii.gz', '200_t2_SPACE.nii.gz', '200_t2.nii.gz', '201_t2.nii.gz', '202_t1.nii.gz', '202_t2.nii.gz', '203_t1.nii.gz', '203_t2.nii.gz', '205_t1.nii.gz', '205_t2.nii.gz', '207_t2.nii.gz', '209_t1.nii.gz', '209_t2_SPACE.nii.gz', '210_t1.nii.gz', '210_t2.nii.gz', '212_t2.nii.gz', '213_t1.nii.gz', '213_t2.nii.gz', '214_t1.nii.gz', '214_t2.nii.gz', '215_t2.nii.gz', '217_t1.nii.gz', '217_t2.nii.gz', '218_t2.nii.gz', '219_t1.nii.gz', '220_t1.nii.gz', '220_t2.nii.gz', '220_t2_SPACE.nii.gz', '221_t1.nii.gz', '221_t2.nii.gz', '222_t1.nii.gz', '223_t1.nii.gz', '223_t2.nii.gz', '224_t2.nii.gz', '225_t1.nii.gz', '225_t2.nii.gz', '227_t1.nii.gz', '227_t2.nii.gz', '228_t1.nii.gz', '228_t2.nii.gz', '229_t1.nii.gz', '231_t1.nii.gz', '231_t2.nii.gz', '232_t1.nii.gz', '232_t2.nii.gz', '233_t1.nii.gz', '233_t2.nii.gz', '234_t1.nii.gz', '234_t2.nii.gz', '234_t2_SPACE.nii.gz', '236_t1.nii.gz', '237_t1.nii.gz', '237_t2.nii.gz', '239_t1.nii.gz', '239_t2.nii.gz', '239_t2_SPACE.nii.gz', '242_t1.nii.gz', '242_t2.nii.gz', '243_t1.nii.gz', '243_t2.nii.gz', '244_t1.nii.gz', '244_t2.nii.gz', '245_t1.nii.gz', '245_t2.nii.gz', '246_t2.nii.gz', '249_t1.nii.gz', '249_t2.nii.gz', '250_t2.nii.gz', '251_t1.nii.gz', '251_t2.nii.gz', '252_t1.nii.gz', '252_t2.nii.gz', '253_t1.nii.gz', '253_t2.nii.gz', '254_t2.nii.gz', '255_t1.nii.gz', '255_t2.nii.gz', '256_t1.nii.gz', '256_t2.nii.gz', '257_t1.nii.gz'])\n"
     ]
    }
   ],
   "source": [
    "test_keys, train_keys = list(test_dict.keys()), list(train_dict.keys())\n",
    "print(\"All volumes:\", len(test_keys) + len(train_keys))\n",
    "all_keys = test_keys + train_keys\n",
    "t1s = [x for x in all_keys if \"t1\" in x]\n",
    "print(\"T1 volumes:\", len(t1s))\n",
    "t2s = [x for x in all_keys if \"t2\" in x and \"SPACE\" not in x]\n",
    "space = [x for x in all_keys if \"SPACE\" in x]\n",
    "print(\"T2s and SPACE T2s:\", len(t2s), len(space))\n",
    "# test, valid, train = [], [], []\n",
    "# random.seed(SEED)\n",
    "# random.shuffle(t1s),\n",
    "# random.shuffle(t2s)\n",
    "# random.shuffle(space)\n",
    "# test.extend(space[:4])\n",
    "# valid.extend(space[4:8])\n",
    "# train.extend(space[8:])\n",
    "\n",
    "\n",
    "# def find_match_id(group, rest):\n",
    "#     matches = []\n",
    "#     for x in group:\n",
    "#         id_part = x.split(\"_\")[0]\n",
    "#         matches.extend([y for y in rest if id_part == y.split(\"_\")[0]])\n",
    "#     return matches\n",
    "\n",
    "\n",
    "# test.extend(find_match_id(test, t1s + t2s))\n",
    "# valid.extend(find_match_id(valid, t1s + t2s))\n",
    "\n",
    "# # Remove test and valid keys from t1s and t2s\n",
    "# test_ids = {x.split(\"_\")[0] for x in test}\n",
    "# valid_ids = {x.split(\"_\")[0] for x in valid}\n",
    "\n",
    "# t1s = [\n",
    "#     x\n",
    "#     for x in t1s\n",
    "#     if x.split(\"_\")[0] not in test_ids and x.split(\"_\")[0] not in valid_ids\n",
    "# ]\n",
    "# t2s = [\n",
    "#     x\n",
    "#     for x in t2s\n",
    "#     if x.split(\"_\")[0] not in test_ids and x.split(\"_\")[0] not in valid_ids\n",
    "# ]\n",
    "\n",
    "\n",
    "# Allocate the rest to train, test, and valid sets\n",
    "def allocate_samples(data_dict):\n",
    "    n_t1 = 20\n",
    "    n_t2 = 21\n",
    "    n_space = 4\n",
    "    all_keys = sorted(list(data_dict.keys()), key=sort_names)\n",
    "\n",
    "    t1s = [x for x in all_keys if \"t1\" in x]\n",
    "    t2s = [x for x in all_keys if \"t2\" in x and \"SPACE\" not in x]\n",
    "    space = [x for x in all_keys if \"SPACE\" in x]\n",
    "\n",
    "    train, test, valid = [], [], []\n",
    "    random.seed(SEED)\n",
    "    random.shuffle(t1s)\n",
    "    random.shuffle(t2s)\n",
    "    random.shuffle(space)\n",
    "    test.extend(space[:n_space])\n",
    "    valid.extend(space[n_space : 2 * n_space])\n",
    "    train.extend(space[2 * n_space :])\n",
    "\n",
    "    def find_match_id(group, rest):\n",
    "        matches = []\n",
    "        for x in group:\n",
    "            id_part = x.split(\"_\")[0]\n",
    "            matches.extend([y for y in rest if id_part == y.split(\"_\")[0]])\n",
    "        return matches\n",
    "\n",
    "    test.extend(find_match_id(test, t1s + t2s))\n",
    "    valid.extend(find_match_id(valid, t1s + t2s))\n",
    "\n",
    "    # Remove test and valid keys from t1s and t2s\n",
    "    test_ids = {x.split(\"_\")[0] for x in test}\n",
    "    valid_ids = {x.split(\"_\")[0] for x in valid}\n",
    "\n",
    "    t1s = [\n",
    "        x\n",
    "        for x in t1s\n",
    "        if x.split(\"_\")[0] not in test_ids and x.split(\"_\")[0] not in valid_ids\n",
    "    ]\n",
    "    t2s = [\n",
    "        x\n",
    "        for x in t2s\n",
    "        if x.split(\"_\")[0] not in test_ids and x.split(\"_\")[0] not in valid_ids\n",
    "    ]\n",
    "\n",
    "    test_t1 = n_t1 - sum(\"t1\" in x for x in test)\n",
    "    valid_t1 = n_t1 - sum(\"t1\" in x for x in valid)\n",
    "    test_t2 = n_t2 - sum((\"t2\" in x and \"SPACE\" not in x) for x in test)\n",
    "    valid_t2 = n_t2 - sum((\"t2\" in x and \"SPACE\" not in x) for x in valid)\n",
    "\n",
    "    test.extend(t1s[:test_t1])\n",
    "    valid.extend(t1s[test_t1 : test_t1 + valid_t1])\n",
    "    train.extend(t1s[test_t1 + valid_t1 :])\n",
    "\n",
    "    test.extend(t2s[:test_t2])\n",
    "    valid.extend(t2s[test_t2 : test_t2 + valid_t2])\n",
    "    train.extend(t2s[test_t2 + valid_t2 :])\n",
    "\n",
    "    train_set = {key: val for key, val in data_dict.items() if key in train}\n",
    "    test_set = {key: val for key, val in data_dict.items() if key in test}\n",
    "    valid_set = {key: val for key, val in data_dict.items() if key in valid}\n",
    "    # sort them\n",
    "    train_set = {\n",
    "        key: train_set[key] for key in sorted(train_set.keys(), key=sort_names)\n",
    "    }\n",
    "    test_set = {key: test_set[key] for key in sorted(test_set.keys(), key=sort_names)}\n",
    "    valid_set = {\n",
    "        key: valid_set[key] for key in sorted(valid_set.keys(), key=sort_names)\n",
    "    }\n",
    "    return train_set, test_set, valid_set\n",
    "\n",
    "\n",
    "train, test, valid = allocate_samples(train_dict | test_dict)\n",
    "\n",
    "print(\"Test Set:\", len(test), test.keys())\n",
    "print(\"Validation Set:\", len(valid), valid.keys())\n",
    "print(\"Train Set:\", len(train), train.keys())"
   ]
  },
  {
   "cell_type": "code",
   "execution_count": 47,
   "metadata": {},
   "outputs": [
    {
     "name": "stdout",
     "output_type": "stream",
     "text": [
      "torch.Size([1, 512, 120, 640])\n",
      "torch.Size([1, 64, 64, 64])\n"
     ]
    }
   ],
   "source": [
    "def resize_sitk(image, new_size, interpolator=sitk.sitkLinear):\n",
    "    original_size = image.GetSize()\n",
    "    original_spacing = image.GetSpacing()\n",
    "\n",
    "    new_spacing = [\n",
    "        (original_size[i] * original_spacing[i]) / new_size[i] for i in range(3)\n",
    "    ]\n",
    "\n",
    "    resample = sitk.ResampleImageFilter()\n",
    "    resample.SetOutputSpacing(new_spacing)\n",
    "    resample.SetSize(new_size)\n",
    "    resample.SetInterpolator(interpolator)\n",
    "    resample.SetOutputDirection(image.GetDirection())\n",
    "    resample.SetOutputOrigin(image.GetOrigin())\n",
    "    resample.SetDefaultPixelValue(image.GetPixelIDValue())\n",
    "\n",
    "    return resample.Execute(image)\n",
    "\n",
    "\n",
    "def resize_torch_volume(\n",
    "    tensor, new_size: tuple[int, int, int] = (64, 64, 64), mode=\"trilinear\"\n",
    "):\n",
    "    \"\"\"\n",
    "    Resize a 3D volume using PyTorch.\n",
    "\n",
    "    Args:\n",
    "    - volume (torch.Tensor): The input volume tensor of shape (D, H, W) or (B, D, H, W).\n",
    "    - new_size (list or tuple): The desired output size as (D, H, W).\n",
    "    - mode (str): The interpolation mode. Default is 'trilinear'.\n",
    "\n",
    "    Returns:\n",
    "    - torch.Tensor: The resized volume tensor of shape (D, H, W) or (B, D, H, W).\n",
    "    \"\"\"\n",
    "    is_batched = True\n",
    "    if len(tensor.shape) == 3:\n",
    "        is_batched = False\n",
    "        tensor = tensor.unsqueeze(0).unsqueeze(0)  # Add batch and channel dimension\n",
    "    elif len(tensor.shape) == 4:\n",
    "        tensor = tensor.unsqueeze(1)  # Add channel dimension\n",
    "    # Resize the volume\n",
    "    resized_tensor = F.interpolate(\n",
    "        tensor, size=new_size, mode=mode, align_corners=False\n",
    "    ).squeeze(1)\n",
    "    # Remove the batch dimension if it was added\n",
    "    if not is_batched:\n",
    "        resized_tensor = resized_tensor.squeeze(0)\n",
    "    return resized_tensor\n",
    "\n",
    "\n",
    "image_vol = torch.from_numpy(\n",
    "    np.array(sitk.GetArrayFromImage(sitk.ReadImage(img_path)), dtype=np.float32)\n",
    ")\n",
    "print(image_vol.shape)\n",
    "image_vol = resize_torch_volume(image_vol, new_size=(64, 64, 64))\n",
    "print(image_vol.shape)"
   ]
  },
  {
   "cell_type": "code",
   "execution_count": 50,
   "metadata": {},
   "outputs": [
    {
     "data": {
      "text/plain": [
       "(3, 3, 3)"
      ]
     },
     "execution_count": 50,
     "metadata": {},
     "output_type": "execute_result"
    }
   ],
   "source": [
    "np.squeeze(np.zeros((1,1,3,3,3))).shape"
   ]
  },
  {
   "cell_type": "code",
   "execution_count": 5,
   "metadata": {},
   "outputs": [
    {
     "name": "stdout",
     "output_type": "stream",
     "text": [
      "torch.Size([512, 120, 640]) (512, 120, 640) 1\n",
      "torch.Size([120, 640, 512])\n"
     ]
    },
    {
     "ename": "NameError",
     "evalue": "name 'resize_torch_volume' is not defined",
     "output_type": "error",
     "traceback": [
      "\u001b[0;31m---------------------------------------------------------------------------\u001b[0m",
      "\u001b[0;31mNameError\u001b[0m                                 Traceback (most recent call last)",
      "Cell \u001b[0;32mIn[5], line 23\u001b[0m\n\u001b[1;32m     21\u001b[0m         mask_array \u001b[38;5;241m=\u001b[39m np\u001b[38;5;241m.\u001b[39mswapaxes(mask_array, \u001b[38;5;241m1\u001b[39m, \u001b[38;5;241m2\u001b[39m)\n\u001b[1;32m     22\u001b[0m \u001b[38;5;28mprint\u001b[39m(image_tensor\u001b[38;5;241m.\u001b[39mshape)\n\u001b[0;32m---> 23\u001b[0m image_tensor \u001b[38;5;241m=\u001b[39m \u001b[43mresize_torch_volume\u001b[49m(image_tensor\u001b[38;5;241m.\u001b[39mto(torch\u001b[38;5;241m.\u001b[39mfloat32), new_size\u001b[38;5;241m=\u001b[39m(\u001b[38;5;241m64\u001b[39m,\u001b[38;5;241m64\u001b[39m,\u001b[38;5;241m64\u001b[39m))\u001b[38;5;241m.\u001b[39mto(torch\u001b[38;5;241m.\u001b[39muint8)\n\u001b[1;32m     24\u001b[0m \u001b[38;5;28mprint\u001b[39m(mask_array\u001b[38;5;241m.\u001b[39mshape, image_tensor\u001b[38;5;241m.\u001b[39mshape)\n\u001b[1;32m     25\u001b[0m plt\u001b[38;5;241m.\u001b[39mimshow(mask_array[\u001b[38;5;241m65\u001b[39m], cmap\u001b[38;5;241m=\u001b[39m\u001b[38;5;124m\"\u001b[39m\u001b[38;5;124mgray\u001b[39m\u001b[38;5;124m\"\u001b[39m)\n",
      "\u001b[0;31mNameError\u001b[0m: name 'resize_torch_volume' is not defined"
     ]
    }
   ],
   "source": [
    "img_path = IMGS_PATH / \"185_t2_SPACE.nii.gz\"\n",
    "mask_path = MASKS_PATH / \"185_t2_SPACE.nrrd\"\n",
    "image_vol = sitk.ReadImage(img_path)\n",
    "image_tensor = torch.from_numpy(np.array(sitk.GetArrayFromImage(image_vol), dtype=np.uint8))\n",
    "lower_bound = torch_percentile(image_tensor, 1)\n",
    "upper_bound = torch_percentile(image_tensor, 99)\n",
    "# Clip the data\n",
    "image_tensor = torch.clamp(image_tensor, lower_bound, upper_bound)\n",
    "# Normalize the data to [0, 1]\n",
    "image_tensor = (image_tensor - lower_bound) / (upper_bound - lower_bound)\n",
    "\n",
    "mask = sitk.ReadImage(mask_path)\n",
    "mask_tensor = sitk.GetArrayFromImage(mask)\n",
    "smallest_dimension_index = np.argmin(mask_tensor.shape)\n",
    "print(image_tensor.shape, mask_tensor.shape, smallest_dimension_index)\n",
    "if smallest_dimension_index != 0:\n",
    "    image_tensor = torch.moveaxis(image_tensor, smallest_dimension_index, 0)\n",
    "    mask_tensor = np.moveaxis(mask_tensor, smallest_dimension_index, 0)\n",
    "    if image_tensor.shape[1] < image_tensor.shape[2]:\n",
    "        image_tensor = torch.swapaxes(image_tensor, 1, 2)\n",
    "        mask_tensor = np.swapaxes(mask_tensor, 1, 2)\n",
    "print(image_tensor.shape)\n",
    "image_tensor = resize_torch_volume(image_tensor.to(torch.float32), new_size=(64,64,64)).to(torch.uint8)\n",
    "print(mask_tensor.shape, image_tensor.shape)\n",
    "plt.imshow(mask_tensor[65], cmap=\"gray\")\n",
    "plt.show()"
   ]
  },
  {
   "cell_type": "code",
   "execution_count": 10,
   "metadata": {},
   "outputs": [
    {
     "data": {
      "text/plain": [
       "(0.6034292578697205, 0.3592572808265686, 4.395938396453857)"
      ]
     },
     "execution_count": 10,
     "metadata": {},
     "output_type": "execute_result"
    }
   ],
   "source": [
    "img_path = IMGS_PATH / \"184_t2.nii.gz\"\n",
    "mask_path = MASKS_PATH / \"190_t2.nrrd\"\n",
    "image_vol = sitk.ReadImage(img_path)\n",
    "image_vol.GetSpacing()\n"
   ]
  },
  {
   "cell_type": "code",
   "execution_count": 38,
   "metadata": {},
   "outputs": [
    {
     "data": {
      "image/png": "[encoded data removed]",
      "text/plain": [
       "<Figure size 640x480 with 1 Axes>"
      ]
     },
     "metadata": {},
     "output_type": "display_data"
    }
   ],
   "source": [
    "msk = np.load(test_set[\"8_t1.nii.gz\"][\"0\"][\"mask_path\"])\n",
    "plt.imshow(msk, cmap=\"gray\")\n",
    "plt.show()"
   ]
  },
  {
   "cell_type": "code",
   "execution_count": 6,
   "metadata": {},
   "outputs": [],
   "source": [
    "from matplotlib.colors import ListedColormap, LinearSegmentedColormap\n",
    "import numpy as np\n",
    "import matplotlib.pyplot as plt\n",
    "import matplotlib.colors as mcolors\n",
    "\n",
    "cmap = plt.get_cmap('Accent')\n",
    "\n",
    "# Convert the colormap to an array of colors\n",
    "colors = cmap(np.linspace(0, 1, cmap.N))\n",
    "\n",
    "# Change the color for value 0 (first entry in the array)\n",
    "colors[0] = np.array([0, 0, 0, 1])  # Example: set to white\n",
    "\n",
    "# Create a new colormap with the modified colors\n",
    "new_cmap = ListedColormap(colors)"
   ]
  },
  {
   "cell_type": "code",
   "execution_count": 8,
   "metadata": {},
   "outputs": [
    {
     "name": "stdout",
     "output_type": "stream",
     "text": [
      "name:9_t2,\tSlide:9\n",
      "sitk size:(603, 610, 19), array size: (19, 610, 603)\n",
      "sitk size:(19, 384, 610), array size: (610, 384, 19)\n"
     ]
    },
    {
     "name": "stderr",
     "output_type": "stream",
     "text": [
      "/tmp/ipykernel_81353/2374262982.py:21: RuntimeWarning: divide by zero encountered in log10\n",
      "  sliced_mask_nrrd = np.log10(sliced_mask_nrrd)\n"
     ]
    },
    {
     "data": {
      "image/png": "[encoded data removed]",
      "text/plain": [
       "<Figure size 640x480 with 1 Axes>"
      ]
     },
     "metadata": {},
     "output_type": "display_data"
    },
    {
     "data": {
      "image/png": "[encoded data removed]",
      "text/plain": [
       "<Figure size 640x480 with 1 Axes>"
      ]
     },
     "metadata": {},
     "output_type": "display_data"
    }
   ],
   "source": [
    "file_name = \"9_t2\"\n",
    "nrrd_path = Path(\"/data/sab_data/masks/\")\n",
    "mha_path = Path(\"/data/sab_data/masks/original\")\n",
    "slide_to_check = 9\n",
    "print(f\"name:{file_name},\\tSlide:{slide_to_check}\")\n",
    "\n",
    "sample_mask_nrrd = sitk.ReadImage(nrrd_path / (file_name + \".nrrd\"))\n",
    "sample_mask_nrrd = match_voxels(sample_mask_nrrd, sitk.sitkNearestNeighbor)\n",
    "print(\n",
    "    f\"sitk size:{sample_mask_nrrd.GetSize()}, array size: {sitk.GetArrayFromImage(sample_mask_nrrd).shape}\"\n",
    ")\n",
    "smallest_dimension_index = np.argmin(sitk.GetArrayFromImage(sample_mask_nrrd).shape)\n",
    "sliced_mask_nrrd = np.flipud(\n",
    "    np.take(\n",
    "        sitk.GetArrayFromImage(sample_mask_nrrd),\n",
    "        indices=slide_to_check,\n",
    "        axis=smallest_dimension_index,\n",
    "    )\n",
    ")\n",
    "# sliced_mask_nrrd[sliced_mask_nrrd == 0] = +50\n",
    "sliced_mask_nrrd = np.log10(sliced_mask_nrrd)\n",
    "\n",
    "sample_mask_mha = sitk.ReadImage(mha_path / (file_name + \".mha\"))\n",
    "# sample_mask_mha = match_voxels(sample_mask_mha, sitk.sitkNearestNeighbor)\n",
    "print(\n",
    "    f\"sitk size:{sample_mask_mha.GetSize()}, array size: {sitk.GetArrayFromImage(sample_mask_mha).shape}\"\n",
    ")\n",
    "smallest_dimension_index = np.argmin(sitk.GetArrayFromImage(sample_mask_mha).shape)\n",
    "sliced_mask_mha = np.flipud(\n",
    "    np.take(\n",
    "        sitk.GetArrayFromImage(sample_mask_mha),\n",
    "        indices=slide_to_check,\n",
    "        axis=smallest_dimension_index,\n",
    "    )\n",
    ")\n",
    "unique_labels = np.unique(sliced_mask_mha)\n",
    "pastel1 = plt.get_cmap(\"Paired\")\n",
    "color_list = ['white'] +  [pastel1(i) for i in range(1, len(unique_labels))]\n",
    "cmap = mcolors.ListedColormap(color_list)\n",
    "norm = mcolors.BoundaryNorm(\n",
    "    boundaries=np.append(unique_labels - 0.5, unique_labels[-1] + 0.5),\n",
    "    ncolors=len(unique_labels),\n",
    ")\n",
    "# sliced_mask_mha = np.log10(sliced_mask_mha)\n",
    "# sliced_mask_mha[sliced_mask_mha == 0] = np.log10(500)\n",
    "plt.imshow(sliced_mask_nrrd, cmap=\"Paired\")\n",
    "plt.title(\"Converted Mask\")\n",
    "plt.axis(\"off\")\n",
    "plt.show()\n",
    "plt.imshow(sliced_mask_mha, cmap=cmap, norm=norm)\n",
    "plt.axis(\"off\")\n",
    "plt.title(\"Original Mask\")\n",
    "plt.show()"
   ]
  },
  {
   "cell_type": "code",
   "execution_count": 9,
   "metadata": {},
   "outputs": [
    {
     "data": {
      "text/plain": [
       "(0.875, 0.875, 4.799999713897705)"
      ]
     },
     "execution_count": 9,
     "metadata": {},
     "output_type": "execute_result"
    }
   ],
   "source": [
    "sitk.ReadImage(\"/data/sab_data/images/182_t1.nii.gz\").GetSpacing()"
   ]
  },
  {
   "cell_type": "code",
   "execution_count": 4,
   "metadata": {},
   "outputs": [
    {
     "name": "stdout",
     "output_type": "stream",
     "text": [
      "90 357\n"
     ]
    }
   ],
   "source": [
    "with open(\"Test_data_files_resampled.json\", \"r\") as f:\n",
    "    test_set = json.load(f)\n",
    "with open(\"Train_data_files_resampled.json\", \"r\") as f:\n",
    "    train_set = json.load(f)\n",
    "\n",
    "\n",
    "def extract_original_sizes(data_file):\n",
    "    result = {}\n",
    "    for key, value in data_file.items():\n",
    "        img = sitk.ReadImage(value[\"image_path\"])\n",
    "        spacing = img.GetSpacing()\n",
    "        original_size = img.GetSize()\n",
    "        result[key] = {\n",
    "            \"pixels\": original_size,\n",
    "            \"spacing\": spacing,\n",
    "        }\n",
    "    return result\n",
    "test_size_space = extract_original_sizes(test_set)\n",
    "train_size_space = extract_original_sizes(train_set)\n",
    "print(len(test_size_space), len(train_size_space))"
   ]
  },
  {
   "cell_type": "code",
   "execution_count": 5,
   "metadata": {},
   "outputs": [
    {
     "data": {
      "image/png": "[encoded data removed]",
      "text/plain": [
       "<Figure size 1000x500 with 1 Axes>"
      ]
     },
     "metadata": {},
     "output_type": "display_data"
    },
    {
     "data": {
      "image/png": "[encoded data removed]",
      "text/plain": [
       "<Figure size 1000x800 with 2 Axes>"
      ]
     },
     "metadata": {},
     "output_type": "display_data"
    }
   ],
   "source": [
    "def plot_size_with_jitter(data_dict, key, jitter_v=0.5):\n",
    "    sizes = [x[key] for x in data_dict.values()]\n",
    "    x_sizes = [size[0] for size in sizes]\n",
    "    y_sizes = [size[1] for size in sizes]\n",
    "    \n",
    "    # Add jitter to the sizes\n",
    "    x_sizes_jittered = x_sizes + np.random.uniform(-jitter_v, jitter_v, size=len(x_sizes))\n",
    "    y_sizes_jittered = y_sizes + np.random.uniform(-jitter_v, jitter_v, size=len(y_sizes))\n",
    "    \n",
    "    fig = plt.figure(figsize=(10, 5))\n",
    "    ax = fig.add_subplot(111)\n",
    "    \n",
    "    # Plot sizes with colors based on key\n",
    "    for i, key in enumerate(data_dict.keys()):\n",
    "        color = 'blue' if 't1' in key else 'red' if ('t2' in key and \"SPACE\" not in key) else 'green'\n",
    "        label = 'T1' if 't1' in key else 'T2' if ('t2' in key and \"SPACE\" not in key) else 'T2 SPACE'\n",
    "        ax.scatter(x_sizes_jittered[i], y_sizes_jittered[i], s=5, color=color, label=label)\n",
    "    \n",
    "    ax.set_xlabel('Size in X direction')\n",
    "    ax.set_ylabel('Size in Y direction')\n",
    "    ax.set_title('Scatter Plot of Original Sizes with Jitter')\n",
    "    \n",
    "    # Add legend\n",
    "    handles, labels = ax.get_legend_handles_labels()\n",
    "    by_label = dict(zip(labels, handles))\n",
    "    ax.legend(by_label.values(), by_label.keys())\n",
    "    \n",
    "    plt.show()\n",
    "\n",
    "def plot_spacing_with_jitter(data_dict, key, jitter_v=0.05):\n",
    "    spacings = [x[key] for x in data_dict.values()]\n",
    "    x_spacing = [spacing[0] for spacing in spacings]\n",
    "    y_spacing = [spacing[1] for spacing in spacings]\n",
    "    z_spacing = [spacing[2] for spacing in spacings]\n",
    "\n",
    "    # Add jitter to the spacings\n",
    "    x_spacing_jittered = x_spacing + np.random.uniform(-jitter_v, jitter_v, size=len(x_spacing))\n",
    "    y_spacing_jittered = y_spacing + np.random.uniform(-jitter_v, jitter_v, size=len(y_spacing))\n",
    "    z_spacing_jittered = z_spacing + np.random.uniform(-jitter_v, jitter_v, size=len(z_spacing))\n",
    "\n",
    "    # Create a new figure with two subplots\n",
    "    fig, (ax1, ax2) = plt.subplots(2, 1, figsize=(10, 8))\n",
    "\n",
    "    # Plot x and y spacing in 2D with colors based on key\n",
    "    for i, key in enumerate(data_dict.keys()):\n",
    "        color = 'blue' if 't1' in key else 'red' if ('t2' in key and \"SPACE\" not in key) else 'green'\n",
    "        label = 'T1' if 't1' in key else 'T2' if ('t2' in key and \"SPACE\" not in key) else 'T2 SPACE'\n",
    "        ax1.scatter(x_spacing_jittered[i], y_spacing_jittered[i], s=5, color=color, label=label)\n",
    "    \n",
    "    ax1.set_xlabel('Spacing in X direction')\n",
    "    ax1.set_ylabel('Spacing in Y direction')\n",
    "    ax1.set_title('2D Scatter Plot of X and Y Spacing with Jitter')\n",
    "\n",
    "    # Plot z spacing in 1D with colors based on key\n",
    "    for i, key in enumerate(data_dict.keys()):\n",
    "        color = 'blue' if 't1' in key else 'red' if ('t2' in key and \"SPACE\" not in key) else 'green'\n",
    "        label = 'T1' if 't1' in key else 'T2' if ('t2' in key and \"SPACE\" not in key) else 'T2 SPACE'\n",
    "        ax2.scatter(i, z_spacing_jittered[i], s=5, color=color, label=label)\n",
    "    \n",
    "    ax2.set_xlabel('Data Index')\n",
    "    ax2.set_ylabel('Spacing in Z direction')\n",
    "    ax2.set_title('1D Scatter Plot of Z Spacing with Jitter')\n",
    "\n",
    "    # Add legend\n",
    "    handles, labels = ax1.get_legend_handles_labels()\n",
    "    by_label = dict(zip(labels, handles))\n",
    "    ax1.legend(by_label.values(), by_label.keys())\n",
    "\n",
    "    handles, labels = ax2.get_legend_handles_labels()\n",
    "    by_label = dict(zip(labels, handles))\n",
    "    ax2.legend(by_label.values(), by_label.keys())\n",
    "\n",
    "    plt.tight_layout()\n",
    "    plt.show()\n",
    "\n",
    "merged = test_size_space | train_size_space\n",
    "plot_size_with_jitter(merged, \"pixels\", jitter_v=5)\n",
    "plot_spacing_with_jitter(merged, \"spacing\", jitter_v=0.05)"
   ]
  },
  {
   "cell_type": "code",
   "execution_count": 6,
   "metadata": {},
   "outputs": [],
   "source": [
    "\"\"\" resample images to isotropic voxel sizes \"\"\"\n",
    "test_data_file = \"Test_data_files.json\"\n",
    "train_data_file = \"Train_data_files.json\"\n",
    "with open(test_data_file, \"r\") as f:\n",
    "    test_data_dict = json.load(f) \n",
    "with open(train_data_file, \"r\") as f:\n",
    "    train_data_dict = json.load(f) \n",
    "\n"
   ]
  },
  {
   "cell_type": "code",
   "execution_count": 32,
   "metadata": {},
   "outputs": [
    {
     "data": {
      "text/plain": [
       "X_pxl    487.277778\n",
       "Y_pxl    495.566667\n",
       "Z_pxl    104.200000\n",
       "X_spc      0.611588\n",
       "Y_spc      0.595525\n",
       "Z_spc      3.442204\n",
       "dtype: float64"
      ]
     },
     "execution_count": 32,
     "metadata": {},
     "output_type": "execute_result"
    }
   ],
   "source": [
    "import pandas as pd\n",
    "def correct_spacing_order(tup):\n",
    "    \"\"\"Corrects the tuple if Y and Z values are switched.\"\"\"\n",
    "    x, y, z = tup\n",
    "    # Assuming Z should be the largest value\n",
    "    if y > z:\n",
    "        y, z = z, y\n",
    "    return (x, y, z)\n",
    "df = pd.DataFrame.from_dict(test_size_space).T\n",
    "# df[['X_spc', 'Y_spc', 'Z_spc']] = pd.DataFrame(df[\"spacing\"].tolist(), index=df.index)\n",
    "df[['X_pxl', 'Y_pxl', 'Z_pxl']] = pd.DataFrame(df[\"pixels\"].tolist(), index=df.index)\n",
    "df[['X_spc', 'Y_spc', 'Z_spc']] = df[\"spacing\"].apply(correct_spacing_order).to_list()\n",
    "df.drop([\"pixels\", \"spacing\"], axis=1, inplace=True)\n",
    "df.mean()"
   ]
  },
  {
   "cell_type": "code",
   "execution_count": 4,
   "metadata": {},
   "outputs": [],
   "source": [
    "def match_voxels(orig_image, interpolator=sitk.sitkLinear):\n",
    "    # orig_image = sitk.ReadImage(file_path)\n",
    "\n",
    "    # Get the original spacing\n",
    "    original_spacing = np.array(orig_image.GetSpacing())\n",
    "    sorted_arg = np.argsort(original_spacing)\n",
    "    min_spacing = original_spacing.min()\n",
    "    new_spacing = original_spacing.copy()\n",
    "    new_spacing[[sorted_arg[0], sorted_arg[1]]] = min_spacing, min_spacing\n",
    "\n",
    "    # Compute the new size based on the new spacing\n",
    "    original_size = orig_image.GetSize()\n",
    "    new_size = [\n",
    "        int(round(osz * ospc / nspc))\n",
    "        for osz, ospc, nspc in zip(original_size, original_spacing, new_spacing)\n",
    "    ]\n",
    "\n",
    "    # Resample the image\n",
    "    resampler = sitk.ResampleImageFilter()\n",
    "    resampler.SetOutputSpacing(new_spacing)\n",
    "    resampler.SetSize(new_size)\n",
    "    resampler.SetOutputDirection(orig_image.GetDirection())\n",
    "    resampler.SetOutputOrigin(orig_image.GetOrigin())\n",
    "    resampler.SetInterpolator(interpolator)\n",
    "\n",
    "    resampled_img = resampler.Execute(orig_image)\n",
    "    return resampled_img\n",
    "\n",
    "\n",
    "# names_list = list(train_data_dict.keys())\n",
    "# img = sitk.ReadImage(train_data_dict[names_list[0]][\"image_path\"])\n",
    "# resampled = match_voxels(img)"
   ]
  },
  {
   "cell_type": "code",
   "execution_count": 23,
   "metadata": {},
   "outputs": [],
   "source": [
    "merged_data_dict = test_data_dict | train_data_dict\n",
    "names_list = list(merged_data_dict.keys())\n",
    "for img in names_list:\n",
    "    orig = sitk.ReadImage(merged_data_dict[img][\"image_path\"])\n",
    "    # linear for image slices\n",
    "    resampled = match_voxels(orig, sitk.sitkLinear)\n",
    "    img_path = Path(merged_data_dict[img][\"image_path\"])\n",
    "    save_path = img_path.parent / (\"resampled/\" + img_path.name)\n",
    "    sitk.WriteImage(resampled, save_path)\n"
   ]
  },
  {
   "cell_type": "code",
   "execution_count": 27,
   "metadata": {},
   "outputs": [],
   "source": [
    "merged_data_dict = test_data_dict | train_data_dict\n",
    "names_list = list(merged_data_dict.keys())\n",
    "for img in names_list:\n",
    "    orig = sitk.ReadImage(merged_data_dict[img][\"mask_path\"])\n",
    "    # nearest neighbour for masks\n",
    "    resampled = match_voxels(orig, sitk.sitkNearestNeighbor)\n",
    "    img_path = Path(merged_data_dict[img][\"mask_path\"])\n",
    "    save_path = img_path.parent / (\"resampled/\" + img_path.name)\n",
    "    sitk.WriteImage(resampled, save_path)\n"
   ]
  }
 ],
 "metadata": {
  "kernelspec": {
   "display_name": "sab_env2",
   "language": "python",
   "name": "python3"
  },
  "language_info": {
   "codemirror_mode": {
    "name": "ipython",
    "version": 3
   },
   "file_extension": ".py",
   "mimetype": "text/x-python",
   "name": "python",
   "nbconvert_exporter": "python",
   "pygments_lexer": "ipython3",
   "version": "3.12.4"
  }
 },
 "nbformat": 4,
 "nbformat_minor": 2
}
