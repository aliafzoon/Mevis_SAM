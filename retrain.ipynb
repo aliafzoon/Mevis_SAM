{
 "cells": [
  {
   "cell_type": "code",
   "execution_count": 1,
   "metadata": {},
   "outputs": [
    {
     "name": "stdout",
     "output_type": "stream",
     "text": [
      "env: CUDA_VISIBLE_DEVICES=MIG-4f53211e-ceab-5aa7-b0ba-6ef87e62c8ed\n"
     ]
    },
    {
     "data": {
      "text/plain": [
       "'MIG-4f53211e-ceab-5aa7-b0ba-6ef87e62c8ed'"
      ]
     },
     "execution_count": 1,
     "metadata": {},
     "output_type": "execute_result"
    }
   ],
   "source": [
    "%env CUDA_VISIBLE_DEVICES=MIG-4f53211e-ceab-5aa7-b0ba-6ef87e62c8ed\n",
    "%env CUDA_VISIBLE_DEVICES"
   ]
  },
  {
   "cell_type": "code",
   "execution_count": 2,
   "metadata": {},
   "outputs": [],
   "source": [
    "# import argparse\n",
    "import json\n",
    "import re\n",
    "from datetime import datetime\n",
    "from pathlib import Path\n",
    "\n",
    "import matplotlib.pyplot as plt\n",
    "import numpy as np\n",
    "import pandas as pd\n",
    "import torch\n",
    "from monai.losses import DiceCELoss\n",
    "from monai.networks.nets import VNet\n",
    "\n",
    "# import torchvision\n",
    "from torch.utils.tensorboard import SummaryWriter\n",
    "from tqdm.notebook import tqdm\n",
    "\n",
    "import cfg\n",
    "from dataset_mevis import MRI_dataset_batched\n",
    "from dsc import dice_coeff\n",
    "from funcs import *\n",
    "from models.sam import sam_model_registry, build_sam_mevis\n",
    "from models.sam.modeling.prompt_encoder import attention_fusion\n",
    "from predict_funs import *\n",
    "from utils import eval_seg, generate_click_prompt, iou_torch, pixel_accuracy\n",
    "\n",
    "# %matplotlib inline"
   ]
  },
  {
   "cell_type": "code",
   "execution_count": 3,
   "metadata": {},
   "outputs": [
    {
     "name": "stdout",
     "output_type": "stream",
     "text": [
      "(20773273600, 20937965568)\n",
      "0\n"
     ]
    }
   ],
   "source": [
    "print(torch.cuda.mem_get_info())\n",
    "print(torch.cuda.memory_allocated())"
   ]
  },
  {
   "cell_type": "code",
   "execution_count": 4,
   "metadata": {},
   "outputs": [],
   "source": [
    "SEED = 2003\n",
    "IMGS_PATH = Path(\"/data/sab_data/images\")\n",
    "MASKS_PATH = Path(\"/data/sab_data/masks\")\n",
    "TRAIN_DATA_FILE = \"Train_data_files_resampled.json\"\n",
    "TEST_DATA_FILE =\"Test_data_files_resampled.json\"\n",
    "DEVICE = torch.device(\"cuda:\" + str(args.gpu_device))\n",
    "CHECKPOINT_DIRECTORY = Path(\"/data/sab_data/checkpoints\")\n",
    "LOGDIR = Path(\"/data/sab_data/model_logs\")\n",
    "sam_checkpoint = \"decoder_only/resampled/2024-08-12 10:30:07/mevis_sam-epoch60.pth\"\n",
    "# sam_checkpoint = \"bone_sam.pth\""
   ]
  },
  {
   "cell_type": "code",
   "execution_count": 5,
   "metadata": {},
   "outputs": [],
   "source": [
    "args = cfg.parse_args()\n",
    "args.thd = True\n",
    "args.if_mask_decoder_adapter = True\n",
    "args.if_encoder_adapter = True\n",
    "args.decoder_adapt_depth = 2\n",
    "args.prompt_probability = 0.3\n"
   ]
  },
  {
   "cell_type": "code",
   "execution_count": 6,
   "metadata": {},
   "outputs": [
    {
     "name": "stderr",
     "output_type": "stream",
     "text": [
      "/home/ubuntu/Thesis_code/models/sam/build_sam.py:343: FutureWarning: You are using `torch.load` with `weights_only=False` (the current default value), which uses the default pickle module implicitly. It is possible to construct malicious pickle data which will execute arbitrary code during unpickling (See https://github.com/pytorch/pytorch/blob/main/SECURITY.md#untrusted-models for more details). In a future release, the default value for `weights_only` will be flipped to `True`. This limits the functions that could be executed during unpickling. Arbitrary objects will no longer be allowed to be loaded via this mode unless they are explicitly allowlisted by the user via `torch.serialization.add_safe_globals`. We recommend you start setting `weights_only=True` for any use case where you don't have full control of the loaded file. Please open an issue on GitHub for any issues related to this experimental feature.\n",
      "  state_dict = torch.load(f)\n",
      "/home/ubuntu/Thesis_code/models/sam/build_sam.py:353: FutureWarning: You are using `torch.load` with `weights_only=False` (the current default value), which uses the default pickle module implicitly. It is possible to construct malicious pickle data which will execute arbitrary code during unpickling (See https://github.com/pytorch/pytorch/blob/main/SECURITY.md#untrusted-models for more details). In a future release, the default value for `weights_only` will be flipped to `True`. This limits the functions that could be executed during unpickling. Arbitrary objects will no longer be allowed to be loaded via this mode unless they are explicitly allowlisted by the user via `torch.serialization.add_safe_globals`. We recommend you start setting `weights_only=True` for any use case where you don't have full control of the loaded file. Please open an issue on GitHub for any issues related to this experimental feature.\n",
      "  state_dict = torch.load(f, map_location=torch.device(device))\n"
     ]
    }
   ],
   "source": [
    "# V2\n",
    "def new_forward(\n",
    "    self,\n",
    "    batched_input: dict,\n",
    "    multimask_output: bool = True,\n",
    "    if_attention=False,\n",
    ") -> dict[str, torch.Tensor]:\n",
    "    \"\"\"\n",
    "    Predicts masks end-to-end from provided images and prompts.\n",
    "    If prompts are not known in advance, using SamPredictor is\n",
    "    recommended over calling the model directly.\n",
    "\n",
    "    Arguments:\n",
    "        batched_input (list(dict)): A list over input images, each a\n",
    "        dictionary with the following keys. A prompt key can be\n",
    "        excluded if it is not present.\n",
    "            'image': The image as a torch tensor in 3xHxW format,\n",
    "            already transformed for input to the model.\n",
    "            'point_coords': (torch.Tensor) Batched point prompts for\n",
    "            this image, with shape BxNx2. Already transformed to the\n",
    "            input frame of the model.\n",
    "            'point_labels': (torch.Tensor) Batched labels for point prompts,\n",
    "            with shape BxN.\n",
    "            'boxes': (torch.Tensor) Batched box inputs, with shape Bx4.\n",
    "            Already transformed to the input frame of the model.\n",
    "            'mask_inputs': (torch.Tensor) Batched mask inputs to the model,\n",
    "            in the form Bx1xHxW.\n",
    "        multimask_output (bool): Whether the model should predict multiple\n",
    "        disambiguating masks, or return a single mask.\n",
    "\n",
    "    Returns:\n",
    "        (list(dict)): A list over input images, where each element is\n",
    "        as dictionary with the following keys.\n",
    "            'masks': (torch.Tensor) Batched binary mask predictions,\n",
    "            with shape BxCxHxW, where B is the number of input prompts,\n",
    "            C is determined by multimask_output, and (H, W) is the\n",
    "            original size of the image.\n",
    "    \"\"\"\n",
    "    image_embeddings = self.image_encoder(batched_input[\"image\"])\n",
    "    if if_attention:\n",
    "        image_embeddings = self.attention_fusion(\n",
    "            image_embeddings, batched_input[\"atten_maps\"].unsqueeze(1)\n",
    "        )\n",
    "\n",
    "    if \"point_coords\" in list(batched_input.keys()):\n",
    "        points = (batched_input[\"point_coords\"], batched_input[\"point_labels\"])\n",
    "    else:\n",
    "        points = None\n",
    "\n",
    "    sparse_embeddings, dense_embeddings = self.prompt_encoder(\n",
    "        points=points,\n",
    "        boxes=batched_input.get(\"boxes\", None),\n",
    "        masks=batched_input.get(\"mask_inputs\", None),\n",
    "    )\n",
    "    pe = torch.stack(\n",
    "        [self.prompt_encoder.get_dense_pe() for _ in range(image_embeddings.shape[0])],\n",
    "        dim=0,\n",
    "    ).squeeze(1)\n",
    "    low_res_masks, iou_predictions = self.mask_decoder(\n",
    "        image_embeddings=image_embeddings,\n",
    "        image_pe=pe,\n",
    "        sparse_prompt_embeddings=sparse_embeddings,\n",
    "        dense_prompt_embeddings=dense_embeddings,\n",
    "        multimask_output=multimask_output,\n",
    "    )\n",
    "\n",
    "    return low_res_masks\n",
    "\n",
    "\n",
    "sam_mevis = build_sam_mevis(\n",
    "    args,\n",
    "    checkpoint=CHECKPOINT_DIRECTORY / \"mobile_sam.pt\",\n",
    "    mevis_checkpoint=CHECKPOINT_DIRECTORY / sam_checkpoint,\n",
    "    num_classes=2,\n",
    "    device=DEVICE,\n",
    ")\n",
    "\n",
    "sam_mevis.forward = new_forward.__get__(sam_mevis)"
   ]
  },
  {
   "cell_type": "code",
   "execution_count": 27,
   "metadata": {},
   "outputs": [
    {
     "name": "stderr",
     "output_type": "stream",
     "text": [
      "/home/ubuntu/Thesis_code/models/sam/build_sam.py:106: FutureWarning: You are using `torch.load` with `weights_only=False` (the current default value), which uses the default pickle module implicitly. It is possible to construct malicious pickle data which will execute arbitrary code during unpickling (See https://github.com/pytorch/pytorch/blob/main/SECURITY.md#untrusted-models for more details). In a future release, the default value for `weights_only` will be flipped to `True`. This limits the functions that could be executed during unpickling. Arbitrary objects will no longer be allowed to be loaded via this mode unless they are explicitly allowlisted by the user via `torch.serialization.add_safe_globals`. We recommend you start setting `weights_only=True` for any use case where you don't have full control of the loaded file. Please open an issue on GitHub for any issues related to this experimental feature.\n",
      "  state_dict = torch.load(f)\n",
      "/tmp/ipykernel_81661/1057709973.py:6: FutureWarning: You are using `torch.load` with `weights_only=False` (the current default value), which uses the default pickle module implicitly. It is possible to construct malicious pickle data which will execute arbitrary code during unpickling (See https://github.com/pytorch/pytorch/blob/main/SECURITY.md#untrusted-models for more details). In a future release, the default value for `weights_only` will be flipped to `True`. This limits the functions that could be executed during unpickling. Arbitrary objects will no longer be allowed to be loaded via this mode unless they are explicitly allowlisted by the user via `torch.serialization.add_safe_globals`. We recommend you start setting `weights_only=True` for any use case where you don't have full control of the loaded file. Please open an issue on GitHub for any issues related to this experimental feature.\n",
      "  torch.load(\n"
     ]
    }
   ],
   "source": [
    "sam_mevis = sam_model_registry[\"vit_t\"](\n",
    "    args, checkpoint=CHECKPOINT_DIRECTORY / \"mobile_sam.pt\", num_classes=2\n",
    ")\n",
    "sam_mevis.attention_fusion = attention_fusion()\n",
    "sam_mevis.load_state_dict(\n",
    "    torch.load(\n",
    "        CHECKPOINT_DIRECTORY / sam_checkpoint,\n",
    "        map_location=torch.device(DEVICE),\n",
    "    ),\n",
    "    strict=True,\n",
    ")\n",
    "sam_mevis = sam_mevis.to(\"cpu\")#DEVICE)\n",
    "\n",
    "# vnet = VNet().to(DEVICE)\n",
    "# vnet.load_state_dict(\n",
    "#     torch.load(\n",
    "#         CHECKPOINT_DIRECTORY / \"atten.pth\",\n",
    "#         map_location=torch.device(DEVICE),\n",
    "#     )\n",
    "# )\n"
   ]
  },
  {
   "cell_type": "code",
   "execution_count": 8,
   "metadata": {},
   "outputs": [
    {
     "name": "stdout",
     "output_type": "stream",
     "text": [
      "11492716\n"
     ]
    }
   ],
   "source": [
    "for param in sam_mevis.parameters():\n",
    "    param.requires_grad = True\n",
    "pytorch_total_params = sum(p.numel() for p in sam_mevis.parameters() if p.requires_grad)\n",
    "print(pytorch_total_params)"
   ]
  },
  {
   "cell_type": "code",
   "execution_count": 15,
   "metadata": {},
   "outputs": [
    {
     "name": "stdout",
     "output_type": "stream",
     "text": [
      "0\n",
      "132352\n"
     ]
    }
   ],
   "source": [
    "open_mask_decoder = [\n",
    "    \"transformer.layers.0.MLP_Adapter\" +\n",
    "    \"transformer.layers.0.Adapter\" +\n",
    "    \"transformer.layers.1.MLP_Adapter\" +\n",
    "    \"transformer.layers.1.Adapter\"\n",
    "]\n",
    "sam_mevis.eval()\n",
    "\n",
    "for param in sam_mevis.parameters():\n",
    "    param.requires_grad = False\n",
    "pytorch_total_params = sum(p.numel() for p in sam_mevis.parameters() if p.requires_grad)\n",
    "print(pytorch_total_params)\n",
    "\n",
    "for n, m in sam_mevis.mask_decoder.named_parameters():\n",
    "    if \"Adapter\" in n:\n",
    "        m.requires_grad = True\n",
    "\n",
    "pytorch_total_params = sum(p.numel() for p in sam_mevis.parameters() if p.requires_grad)\n",
    "print(pytorch_total_params)"
   ]
  },
  {
   "cell_type": "code",
   "execution_count": 31,
   "metadata": {},
   "outputs": [],
   "source": [
    "def eval_seg(pred, true_mask_p, thresholds):\n",
    "    \"\"\"\n",
    "    threshold: a int or a tuple of ints\n",
    "    masks and pred: [b,1,h,w]\n",
    "    \"\"\"\n",
    "    results = {str(key): {} for key in thresholds}\n",
    "    b, c, h, w = pred.size()\n",
    "    if c == 2:\n",
    "        for th in thresholds:\n",
    "            iou_back, iou_class, dice_back, dice_class = 0, 0, 0, 0\n",
    "            vpred = (pred > th).to(torch.float32)\n",
    "            vpred_back = vpred[:, 0, :, :]\n",
    "            vpred_class = vpred[:, 1, :, :]\n",
    "\n",
    "            mask_back = true_mask_p[:, 0, :, :]\n",
    "            mask_class = true_mask_p[:, 1, :, :]\n",
    "\n",
    "            \"\"\"iou\"\"\"\n",
    "            iou_back = iou_torch(vpred_back.to(torch.int), mask_back.to(torch.int))\n",
    "            iou_class = iou_torch(vpred_class.to(torch.int), mask_class.to(torch.int))\n",
    "\n",
    "            \"\"\"dice for torch\"\"\"\n",
    "            dice_back = dice_coeff(vpred_back, mask_back).item()\n",
    "            dice_class = dice_coeff(vpred_class, mask_class).item()\n",
    "            results[str(th)] = {\n",
    "                \"iou_back\": iou_back,\n",
    "                \"iou_class\": iou_class,\n",
    "                \"dice_back\": dice_back,\n",
    "                \"dice_class\": dice_class,\n",
    "            }\n",
    "\n",
    "        return results\n",
    "    else:\n",
    "        for th in thresholds:\n",
    "\n",
    "            vpred = (pred > th).to(torch.float32)\n",
    "            iou_class = iou_torch(\n",
    "                vpred[:, 0, :, :].to(torch.int), true_mask_p[:, 0, :, :].to(torch.int)\n",
    "            )\n",
    "            dice_class = dice_coeff(vpred[:, 0, :, :], true_mask_p[:, 0, :, :]).item()\n",
    "            results[str(th)] = {\n",
    "                \"iou_class\": iou_class,\n",
    "                \"dice_class\": dice_class,\n",
    "            }\n",
    "\n",
    "        return results\n",
    "\n",
    "WARMUP_EPOCHS = 30\n",
    "BASE_LEARNING_RATE = 1e-4\n",
    "WARMUP_LR_START = 1e-5\n",
    "END_LEARNING_RATE = 1e-5\n",
    "\n",
    "def lr_scheduler(\n",
    "    optimizer,\n",
    "    epoch,\n",
    "    n_warmup_epochs,\n",
    "    n_epochs,\n",
    "    base_lr=BASE_LEARNING_RATE,\n",
    "    warmup_lr_start=WARMUP_LR_START,\n",
    "    end_lr=END_LEARNING_RATE,\n",
    "):\n",
    "    if epoch <= n_warmup_epochs:\n",
    "        # Linear warmup phase\n",
    "        lr = warmup_lr_start + (base_lr - warmup_lr_start) * (epoch / n_warmup_epochs)\n",
    "    else:\n",
    "        # Linear decay phase\n",
    "        decay_epochs = n_epochs + n_warmup_epochs\n",
    "        lr = base_lr - (base_lr - end_lr) * (epoch / decay_epochs)\n",
    "\n",
    "    for param_group in optimizer.param_groups:\n",
    "        param_group[\"lr\"] = lr\n",
    "    return optimizer\n",
    "\n",
    "\n",
    "def write_hists(net, writer, epoch):\n",
    "    writer.add_histogram(\n",
    "        \"mask_decoder.transformer.layers[1].MLP_Adapter/D_fc1/weight\",\n",
    "        net.mask_decoder.transformer.layers[1].MLP_Adapter.D_fc1.weight,\n",
    "        epoch,\n",
    "    )\n",
    "    writer.add_histogram(\n",
    "        \"mask_decoder.transformer.layers[1].MLP_Adapter/D_fc1/bias\",\n",
    "        net.mask_decoder.transformer.layers[1].MLP_Adapter.D_fc1.bias,\n",
    "        epoch,\n",
    "    )\n",
    "\n",
    "    writer.add_histogram(\n",
    "        \"mask_decoder.transformer.layers[1].MLP_Adapter/D_fc2/weight\",\n",
    "        net.mask_decoder.transformer.layers[1].MLP_Adapter.D_fc2.weight,\n",
    "        epoch,\n",
    "    )\n",
    "    writer.add_histogram(\n",
    "        \"mask_decoder.transformer.layers[1].MLP_Adapter/D_fc2/bias\",\n",
    "        net.mask_decoder.transformer.layers[1].MLP_Adapter.D_fc2.bias,\n",
    "        epoch,\n",
    "    )\n",
    "\n",
    "    writer.add_histogram(\n",
    "        \"mask_decoder.transformer.layers[1].Adapter/D_fc1/weight\",\n",
    "        net.mask_decoder.transformer.layers[1].Adapter.D_fc1.weight,\n",
    "        epoch,\n",
    "    )\n",
    "    writer.add_histogram(\n",
    "        \"mask_decoder.transformer.layers[1].Adapter/D_fc1/bias\",\n",
    "        net.mask_decoder.transformer.layers[1].Adapter.D_fc1.bias,\n",
    "        epoch,\n",
    "    )\n",
    "\n",
    "    writer.add_histogram(\n",
    "        \"mask_decoder.transformer.layers[1].Adapter/D_fc2/weight\",\n",
    "        net.mask_decoder.transformer.layers[1].Adapter.D_fc2.weight,\n",
    "        epoch,\n",
    "    )\n",
    "    writer.add_histogram(\n",
    "        \"mask_decoder.transformer.layers[1].Adapter/D_fc2/bias\",\n",
    "        net.mask_decoder.transformer.layers[1].Adapter.D_fc2.bias,\n",
    "        epoch,\n",
    "    )"
   ]
  },
  {
   "cell_type": "code",
   "execution_count": 44,
   "metadata": {},
   "outputs": [
    {
     "data": {
      "image/png": "[encoded data removed]",
      "text/plain": [
       "<Figure size 1000x400 with 1 Axes>"
      ]
     },
     "metadata": {},
     "output_type": "display_data"
    }
   ],
   "source": [
    "def lr_num(\n",
    "    epoch,\n",
    "    n_warmup_epochs=30,\n",
    "    n_epochs=90,\n",
    "    base_lr=1e-4,\n",
    "    warmup_lr_start=1e-5,\n",
    "    end_lr=1e-5,\n",
    "):\n",
    "    if epoch <= n_warmup_epochs:\n",
    "        # Linear warmup phase\n",
    "        lr = warmup_lr_start + (base_lr - warmup_lr_start) * (epoch / n_warmup_epochs)\n",
    "    else:\n",
    "        # Linear decay phase\n",
    "        total_decay_epochs = n_epochs - n_warmup_epochs\n",
    "        decay_epoch = epoch - n_warmup_epochs\n",
    "        lr = base_lr - (base_lr - end_lr) * (decay_epoch / total_decay_epochs)\n",
    "    return lr\n",
    "\n",
    "\n",
    "x = list(range(90))\n",
    "lr_out = [lr_num(i) for i in x]\n",
    "plt.figure(figsize=(10, 4))\n",
    "plt.plot(x, lr_out, marker=\"o\", linestyle=\"-\", markersize=4)\n",
    "plt.show()"
   ]
  },
  {
   "cell_type": "code",
   "execution_count": 42,
   "metadata": {},
   "outputs": [],
   "source": [
    "def train_mevis(\n",
    "    args,\n",
    "    net: torch.nn.Module,\n",
    "    optimizer,\n",
    "    loss_func,\n",
    "    dataset,\n",
    "    epoch,\n",
    "    writer,\n",
    "):\n",
    "    epoch_loss = 0\n",
    "    # train mode\n",
    "    net.train()\n",
    "    optimizer.zero_grad()\n",
    "\n",
    "    with tqdm(total=len(dataset), desc=f\"Epoch {epoch}\", unit=\"batch\") as pbar:\n",
    "        for i in range(len(dataset)):\n",
    "            pack = dataset[i]\n",
    "            imgs = pack[\"images\"]\n",
    "            masks = pack[\"masks\"]\n",
    "            attens = pack[\"atten_map\"]\n",
    "            # Send prompt with the probablity of *args.prompt_probability*, else None\n",
    "            if torch.bernoulli(torch.tensor([args.prompt_probability])).bool().item():\n",
    "                if \"pt\" not in pack:\n",
    "                    imgs, pt, masks = generate_click_prompt(imgs, masks)\n",
    "                    point_labels = torch.ones(imgs.size(0))\n",
    "                else:\n",
    "                    pt = pack[\"pt\"]\n",
    "                    point_labels = pack[\"p_label\"]\n",
    "\n",
    "                if point_labels[0] != -1:\n",
    "                    point_coords = pt\n",
    "                    coords_torch = torch.as_tensor(\n",
    "                        point_coords, dtype=torch.float, device=DEVICE\n",
    "                    )\n",
    "                    labels_torch = torch.as_tensor(\n",
    "                        point_labels, dtype=torch.int, device=DEVICE\n",
    "                    )\n",
    "                    coords_torch, labels_torch = (\n",
    "                        coords_torch[None, :, :],\n",
    "                        labels_torch[None, :],\n",
    "                    )\n",
    "                    pt = (coords_torch, labels_torch)\n",
    "\n",
    "            else:\n",
    "                pt = None\n",
    "\n",
    "            \"\"\"Train\"\"\"\n",
    "            with torch.no_grad():\n",
    "                imge = net.image_encoder(imgs)\n",
    "                se, de = net.prompt_encoder(\n",
    "                    points=pt,\n",
    "                    boxes=None,\n",
    "                    masks=None,\n",
    "                )\n",
    "                pe = torch.stack(\n",
    "                    [net.prompt_encoder.get_dense_pe() for _ in range(imge.shape[0])],\n",
    "                    dim=0,\n",
    "                ).squeeze(1)\n",
    "                imge = net.attention_fusion(imge, attens.unsqueeze(1))\n",
    "            pred, _ = net.mask_decoder(\n",
    "                image_embeddings=imge,\n",
    "                image_pe=pe,\n",
    "                sparse_prompt_embeddings=se,\n",
    "                dense_prompt_embeddings=de,\n",
    "                multimask_output=True,\n",
    "            )\n",
    "\n",
    "            loss = loss_func(pred[:, 1:2, :, :], masks)\n",
    "            pbar.set_postfix(**{\"loss (batch)\": loss.item()})\n",
    "            writer.add_scalar(\n",
    "                \"Batch Loss/Training\", loss.item(), epoch * len(dataset) + i\n",
    "            )\n",
    "            epoch_loss += loss.item()\n",
    "            loss.backward()\n",
    "            optimizer.step()\n",
    "            optimizer.zero_grad()\n",
    "\n",
    "            pbar.update()\n",
    "\n",
    "    return loss\n",
    "\n",
    "\n",
    "def validate_mevis(\n",
    "    args,\n",
    "    net: torch.nn.Module,\n",
    "    loss_func,\n",
    "    dataset,\n",
    "    epoch,\n",
    "    writer,\n",
    "):\n",
    "    net.eval()\n",
    "    sum_loss = 0\n",
    "    thresholds = (0.0, 0.25, 0.5, 0.7, 0.9)\n",
    "    result_dict = {str(key): {\"iou_class\": 0, \"dice_class\": 0} for key in thresholds}\n",
    "    n_val = len(dataset)\n",
    "\n",
    "    with tqdm(total=n_val, desc=\"Validation round\", unit=\"batch\", leave=True) as pbar:\n",
    "        for i in range(n_val):\n",
    "            pack = dataset[i]\n",
    "            imgsw = pack[\"images\"]\n",
    "            masksw = pack[\"masks\"]\n",
    "            attensw = pack[\"atten_map\"]\n",
    "            \n",
    "            # Send prompt with the probablity of *args.prompt_probability*, else None\n",
    "            if torch.bernoulli(torch.tensor([args.prompt_probability])).bool().item():\n",
    "                if \"pt\" not in pack:\n",
    "                    imgsw, ptw, masksw = generate_click_prompt(imgsw, masksw)\n",
    "                else:\n",
    "                    ptw = pack[\"pt\"]\n",
    "                    point_labels = pack[\"p_label\"]\n",
    "            else:\n",
    "                ptw = None\n",
    "\n",
    "            buoy = 0\n",
    "            if args.evl_chunk:\n",
    "                evl_ch = int(args.evl_chunk)\n",
    "            else:\n",
    "                evl_ch = int(imgsw.size(0))\n",
    "\n",
    "            while (buoy + evl_ch) <= imgsw.size(0):\n",
    "                pt = ptw\n",
    "                imgs = imgsw[buoy : buoy + evl_ch]\n",
    "                masks = masksw[buoy : buoy + evl_ch]\n",
    "                attens = attensw[buoy : buoy + evl_ch]\n",
    "                buoy += evl_ch\n",
    "\n",
    "                point_labels = torch.ones(imgs.size(0))\n",
    "\n",
    "                if point_labels[0] != -1 and pt != None:\n",
    "                    point_coords = pt\n",
    "                    coords_torch = torch.as_tensor(\n",
    "                        point_coords, dtype=torch.float, device=DEVICE\n",
    "                    )\n",
    "                    labels_torch = torch.as_tensor(\n",
    "                        point_labels, dtype=torch.int, device=DEVICE\n",
    "                    )\n",
    "                    coords_torch, labels_torch = (\n",
    "                        coords_torch[None, :, :],\n",
    "                        labels_torch[None, :],\n",
    "                    )\n",
    "                    pt = (coords_torch, labels_torch)\n",
    "\n",
    "                \"\"\"test\"\"\"\n",
    "                with torch.no_grad():\n",
    "                    imge = net.image_encoder(imgs)\n",
    "\n",
    "                    se, de = net.prompt_encoder(\n",
    "                        points=pt,\n",
    "                        boxes=None,\n",
    "                        masks=None,\n",
    "                    )\n",
    "                    pe = torch.stack(\n",
    "                        [\n",
    "                            net.prompt_encoder.get_dense_pe()\n",
    "                            for _ in range(imge.shape[0])\n",
    "                        ],\n",
    "                        dim=0,\n",
    "                    ).squeeze(1)\n",
    "                    imge = net.attention_fusion(imge, attens.unsqueeze(1))\n",
    "                    pred, _ = net.mask_decoder(\n",
    "                        image_embeddings=imge,\n",
    "                        image_pe=pe,\n",
    "                        sparse_prompt_embeddings=se,\n",
    "                        dense_prompt_embeddings=de,\n",
    "                        multimask_output=True,\n",
    "                    )\n",
    "\n",
    "                    loss = loss_func(pred[:, 1:, :, :], masks)\n",
    "                    pbar.set_postfix(**{\"loss (batch)\": loss.item()})\n",
    "                    # writer.add_scalar(\n",
    "                    #     \"Batch Loss/validation\", loss.item(), epoch * len(dataset) + i\n",
    "                    # )\n",
    "                    sum_loss += loss\n",
    "                    temp = eval_seg(pred[:, 1:, :, :], masks, thresholds)\n",
    "                    for th in result_dict.keys():\n",
    "                        for met, val in result_dict[th].items():\n",
    "                            result_dict[th][met] = val + temp[th].get(met, 0)\n",
    "\n",
    "            pbar.update()\n",
    "\n",
    "    if args.evl_chunk:\n",
    "        n_val = n_val * (imgsw.size(0) // evl_ch)\n",
    "    for th in result_dict.keys():\n",
    "        result_dict[th] = {k: val / n_val for k, val in result_dict[th].items()}\n",
    "\n",
    "    return sum_loss / n_val, result_dict"
   ]
  },
  {
   "cell_type": "code",
   "execution_count": 24,
   "metadata": {},
   "outputs": [],
   "source": [
    "DATASET_BATCH_SIZE = 20\n",
    "\n",
    "dataset_test = MRI_dataset_batched(\n",
    "    args,\n",
    "    data_file=TEST_DATA_FILE,\n",
    "    batch_size=DATASET_BATCH_SIZE,\n",
    "    phase=\"test\",\n",
    "    operation_mode=\"queue\",\n",
    "    mask_out_size=args.out_size,\n",
    "    attention_size=64,\n",
    "    channel_num=1,\n",
    "    crop=False,\n",
    "    crop_size=1024,\n",
    "    targets=[\"all\"],\n",
    "    cls=1,\n",
    "    if_prompt=True,\n",
    "    prompt_type=\"point\",\n",
    "    region_type=\"largest_15\",\n",
    "    prompt_num=15,\n",
    "    if_attention_map=True,\n",
    "    device=\"cpu\",#DEVICE,\n",
    ")\n",
    "\n",
    "dataset_train = MRI_dataset_batched(\n",
    "    args,\n",
    "    data_file=TRAIN_DATA_FILE,\n",
    "    batch_size=DATASET_BATCH_SIZE,\n",
    "    phase=\"train\",\n",
    "    operation_mode=\"queue\",\n",
    "    mask_out_size=args.out_size,\n",
    "    attention_size=64,\n",
    "    channel_num=1,\n",
    "    crop=False,\n",
    "    crop_size=1024,\n",
    "    targets=[\"all\"],\n",
    "    cls=1,\n",
    "    if_prompt=True,\n",
    "    prompt_type=\"point\",\n",
    "    region_type=\"largest_15\",\n",
    "    prompt_num=15,\n",
    "    if_attention_map=True,\n",
    "    device=DEVICE,\n",
    ")"
   ]
  },
  {
   "cell_type": "code",
   "execution_count": 8,
   "metadata": {},
   "outputs": [],
   "source": [
    "# torch.backends.cudnn.benchmark = True\n",
    "BASE_LEARNING_RATE = 5e-4\n",
    "WARMUP_LR_START = 1E-5\n",
    "lossfunc = DiceCELoss(sigmoid=True, squared_pred=True, reduction='mean')\n",
    "optimizer = torch.optim.AdamW(sam_mevis.parameters(), lr=BASE_LEARNING_RATE)"
   ]
  },
  {
   "cell_type": "code",
   "execution_count": 12,
   "metadata": {},
   "outputs": [
    {
     "name": "stdout",
     "output_type": "stream",
     "text": [
      "Number of trainable parameters: 132352\n"
     ]
    }
   ],
   "source": [
    "EPOCHS = 40\n",
    "WARMUP_EPOCHS = 20\n",
    "valid_every = 2\n",
    "save_every = 3\n",
    "train_folder = \"decoder_only/resampled\"\n",
    "base_save = CHECKPOINT_DIRECTORY / train_folder\n",
    "base_save.mkdir(exist_ok=True)\n",
    "log_save = LOGDIR / train_folder\n",
    "log_save.mkdir(parents=True, exist_ok=True)\n",
    "if \"bone_sam\" in sam_checkpoint:\n",
    "    start_time = datetime.now().strftime(r\"%Y-%m-%d %H:%M:%S\")\n",
    "    epoch = 0\n",
    "else:\n",
    "    start_time = sam_checkpoint.split(\"/\")[1]\n",
    "    epoch = int(sam_checkpoint.split(\"epoch\")[1].split(\"-\")[0])\n",
    "writer = SummaryWriter(log_dir=log_save / start_time)\n",
    "\n",
    "epoch = 0\n",
    "pytorch_total_params = sum(p.numel() for p in sam_mevis.parameters() if p.requires_grad)\n",
    "print(\"Number of trainable parameters:\", pytorch_total_params)\n"
   ]
  },
  {
   "cell_type": "code",
   "execution_count": 16,
   "metadata": {},
   "outputs": [
    {
     "data": {
      "text/plain": [
       "Linear(in_features=256, out_features=64, bias=True)"
      ]
     },
     "execution_count": 16,
     "metadata": {},
     "output_type": "execute_result"
    }
   ],
   "source": [
    "sam_mevis.mask_decoder.transformer.layers[1].Adapter.D_fc1"
   ]
  },
  {
   "cell_type": "code",
   "execution_count": 13,
   "metadata": {},
   "outputs": [
    {
     "data": {
      "application/vnd.jupyter.widget-view+json": {
       "model_id": "27cec9f7a7ac49e880397fa1900633e5",
       "version_major": 2,
       "version_minor": 0
      },
      "text/plain": [
       "Epoch 0:   0%|          | 0/250 [00:00<?, ?batch/s]"
      ]
     },
     "metadata": {},
     "output_type": "display_data"
    },
    {
     "data": {
      "application/vnd.jupyter.widget-view+json": {
       "model_id": "f284f7ca9800482ea47ed4535f9d3cb6",
       "version_major": 2,
       "version_minor": 0
      },
      "text/plain": [
       "Validation round:   0%|          | 0/66 [00:00<?, ?batch/s]"
      ]
     },
     "metadata": {},
     "output_type": "display_data"
    },
    {
     "name": "stdout",
     "output_type": "stream",
     "text": [
      "saved model at /data/sab_data/checkpoints/decoder_only/mevis_sam-epoch0.pth\n"
     ]
    },
    {
     "data": {
      "application/vnd.jupyter.widget-view+json": {
       "model_id": "b35d78fc8aeb4033bcafc6ab4f4ede32",
       "version_major": 2,
       "version_minor": 0
      },
      "text/plain": [
       "Epoch 1:   0%|          | 0/250 [00:00<?, ?batch/s]"
      ]
     },
     "metadata": {},
     "output_type": "display_data"
    },
    {
     "data": {
      "application/vnd.jupyter.widget-view+json": {
       "model_id": "acdd947057af4b68b96e650e46979f8c",
       "version_major": 2,
       "version_minor": 0
      },
      "text/plain": [
       "Epoch 2:   0%|          | 0/250 [00:00<?, ?batch/s]"
      ]
     },
     "metadata": {},
     "output_type": "display_data"
    },
    {
     "data": {
      "application/vnd.jupyter.widget-view+json": {
       "model_id": "5629da2ce3324344862eccbc42ceb57f",
       "version_major": 2,
       "version_minor": 0
      },
      "text/plain": [
       "Validation round:   0%|          | 0/66 [00:00<?, ?batch/s]"
      ]
     },
     "metadata": {},
     "output_type": "display_data"
    },
    {
     "data": {
      "application/vnd.jupyter.widget-view+json": {
       "model_id": "de71ce463f8048a9b8d1cd38dac26cf7",
       "version_major": 2,
       "version_minor": 0
      },
      "text/plain": [
       "Epoch 3:   0%|          | 0/250 [00:00<?, ?batch/s]"
      ]
     },
     "metadata": {},
     "output_type": "display_data"
    },
    {
     "name": "stdout",
     "output_type": "stream",
     "text": [
      "saved model at /data/sab_data/checkpoints/decoder_only/mevis_sam-epoch3.pth\n"
     ]
    },
    {
     "data": {
      "application/vnd.jupyter.widget-view+json": {
       "model_id": "d7b1afe0436845fbacd9aea54d69d490",
       "version_major": 2,
       "version_minor": 0
      },
      "text/plain": [
       "Epoch 4:   0%|          | 0/250 [00:00<?, ?batch/s]"
      ]
     },
     "metadata": {},
     "output_type": "display_data"
    },
    {
     "data": {
      "application/vnd.jupyter.widget-view+json": {
       "model_id": "5aff963ef9294d9daf142ad6194e0afe",
       "version_major": 2,
       "version_minor": 0
      },
      "text/plain": [
       "Validation round:   0%|          | 0/66 [00:00<?, ?batch/s]"
      ]
     },
     "metadata": {},
     "output_type": "display_data"
    },
    {
     "data": {
      "application/vnd.jupyter.widget-view+json": {
       "model_id": "587b05240bb0461caca0b3f1644f5404",
       "version_major": 2,
       "version_minor": 0
      },
      "text/plain": [
       "Epoch 5:   0%|          | 0/250 [00:00<?, ?batch/s]"
      ]
     },
     "metadata": {},
     "output_type": "display_data"
    },
    {
     "data": {
      "application/vnd.jupyter.widget-view+json": {
       "model_id": "dfb6b66aab8c4b24b9877ceca3698110",
       "version_major": 2,
       "version_minor": 0
      },
      "text/plain": [
       "Epoch 6:   0%|          | 0/250 [00:00<?, ?batch/s]"
      ]
     },
     "metadata": {},
     "output_type": "display_data"
    },
    {
     "data": {
      "application/vnd.jupyter.widget-view+json": {
       "model_id": "ae3428ea888e45f48fe50a5da8943b9e",
       "version_major": 2,
       "version_minor": 0
      },
      "text/plain": [
       "Validation round:   0%|          | 0/66 [00:00<?, ?batch/s]"
      ]
     },
     "metadata": {},
     "output_type": "display_data"
    },
    {
     "name": "stdout",
     "output_type": "stream",
     "text": [
      "saved model at /data/sab_data/checkpoints/decoder_only/mevis_sam-epoch6.pth\n"
     ]
    },
    {
     "data": {
      "application/vnd.jupyter.widget-view+json": {
       "model_id": "244020107a934a18b607f08397676168",
       "version_major": 2,
       "version_minor": 0
      },
      "text/plain": [
       "Epoch 7:   0%|          | 0/250 [00:00<?, ?batch/s]"
      ]
     },
     "metadata": {},
     "output_type": "display_data"
    },
    {
     "data": {
      "application/vnd.jupyter.widget-view+json": {
       "model_id": "a003a1e5c7cf4b10af6863d1b7a228da",
       "version_major": 2,
       "version_minor": 0
      },
      "text/plain": [
       "Epoch 8:   0%|          | 0/250 [00:00<?, ?batch/s]"
      ]
     },
     "metadata": {},
     "output_type": "display_data"
    },
    {
     "data": {
      "application/vnd.jupyter.widget-view+json": {
       "model_id": "a6a93320489c4fc18cd287c8532b606c",
       "version_major": 2,
       "version_minor": 0
      },
      "text/plain": [
       "Validation round:   0%|          | 0/66 [00:00<?, ?batch/s]"
      ]
     },
     "metadata": {},
     "output_type": "display_data"
    },
    {
     "data": {
      "application/vnd.jupyter.widget-view+json": {
       "model_id": "4cfef86a45a1485fa8dd930815fe89e8",
       "version_major": 2,
       "version_minor": 0
      },
      "text/plain": [
       "Epoch 9:   0%|          | 0/250 [00:00<?, ?batch/s]"
      ]
     },
     "metadata": {},
     "output_type": "display_data"
    },
    {
     "name": "stdout",
     "output_type": "stream",
     "text": [
      "saved model at /data/sab_data/checkpoints/decoder_only/mevis_sam-epoch9.pth\n"
     ]
    },
    {
     "data": {
      "application/vnd.jupyter.widget-view+json": {
       "model_id": "54717ba65f9f4855b153172b4fd3f261",
       "version_major": 2,
       "version_minor": 0
      },
      "text/plain": [
       "Epoch 10:   0%|          | 0/250 [00:00<?, ?batch/s]"
      ]
     },
     "metadata": {},
     "output_type": "display_data"
    },
    {
     "data": {
      "application/vnd.jupyter.widget-view+json": {
       "model_id": "6e3171b9092b47deba2a8c00eecfd939",
       "version_major": 2,
       "version_minor": 0
      },
      "text/plain": [
       "Validation round:   0%|          | 0/66 [00:00<?, ?batch/s]"
      ]
     },
     "metadata": {},
     "output_type": "display_data"
    },
    {
     "ename": "KeyboardInterrupt",
     "evalue": "",
     "output_type": "error",
     "traceback": [
      "\u001b[0;31m---------------------------------------------------------------------------\u001b[0m",
      "\u001b[0;31mKeyboardInterrupt\u001b[0m                         Traceback (most recent call last)",
      "Cell \u001b[0;32mIn[13], line 22\u001b[0m\n\u001b[1;32m     20\u001b[0m write_hists(sam_mevis, writer\u001b[38;5;241m=\u001b[39mwriter, epoch\u001b[38;5;241m=\u001b[39mepoch)\n\u001b[1;32m     21\u001b[0m \u001b[38;5;28;01mif\u001b[39;00m epoch \u001b[38;5;241m%\u001b[39m valid_every \u001b[38;5;241m==\u001b[39m \u001b[38;5;241m0\u001b[39m:\n\u001b[0;32m---> 22\u001b[0m     val_loss, val_result \u001b[38;5;241m=\u001b[39m \u001b[43mvalidate_mevis\u001b[49m\u001b[43m(\u001b[49m\n\u001b[1;32m     23\u001b[0m \u001b[43m        \u001b[49m\u001b[43margs\u001b[49m\u001b[43m,\u001b[49m\n\u001b[1;32m     24\u001b[0m \u001b[43m        \u001b[49m\u001b[43mnet\u001b[49m\u001b[38;5;241;43m=\u001b[39;49m\u001b[43msam_mevis\u001b[49m\u001b[43m,\u001b[49m\n\u001b[1;32m     25\u001b[0m \u001b[43m        \u001b[49m\u001b[43mloss_func\u001b[49m\u001b[38;5;241;43m=\u001b[39;49m\u001b[43mlossfunc\u001b[49m\u001b[43m,\u001b[49m\n\u001b[1;32m     26\u001b[0m \u001b[43m        \u001b[49m\u001b[43mdataset\u001b[49m\u001b[38;5;241;43m=\u001b[39;49m\u001b[43mdataset_test\u001b[49m\u001b[43m,\u001b[49m\n\u001b[1;32m     27\u001b[0m \u001b[43m        \u001b[49m\u001b[43mepoch\u001b[49m\u001b[38;5;241;43m=\u001b[39;49m\u001b[43mepoch\u001b[49m\u001b[43m,\u001b[49m\n\u001b[1;32m     28\u001b[0m \u001b[43m        \u001b[49m\u001b[43mwriter\u001b[49m\u001b[38;5;241;43m=\u001b[39;49m\u001b[43mwriter\u001b[49m\u001b[43m,\u001b[49m\n\u001b[1;32m     29\u001b[0m \u001b[43m    \u001b[49m\u001b[43m)\u001b[49m\n\u001b[1;32m     30\u001b[0m     writer\u001b[38;5;241m.\u001b[39madd_scalars(\u001b[38;5;124m\"\u001b[39m\u001b[38;5;124mDiceCEloss\u001b[39m\u001b[38;5;124m\"\u001b[39m, {\u001b[38;5;124m\"\u001b[39m\u001b[38;5;124mvalidation\u001b[39m\u001b[38;5;124m\"\u001b[39m: val_loss}, epoch)\n\u001b[1;32m     31\u001b[0m     \u001b[38;5;28;01mfor\u001b[39;00m key, value \u001b[38;5;129;01min\u001b[39;00m val_result\u001b[38;5;241m.\u001b[39mitems():\n",
      "Cell \u001b[0;32mIn[9], line 130\u001b[0m, in \u001b[0;36mvalidate_mevis\u001b[0;34m(args, net, loss_func, dataset, epoch, writer)\u001b[0m\n\u001b[1;32m    128\u001b[0m \u001b[38;5;28;01mwith\u001b[39;00m tqdm(total\u001b[38;5;241m=\u001b[39mn_val, desc\u001b[38;5;241m=\u001b[39m\u001b[38;5;124m\"\u001b[39m\u001b[38;5;124mValidation round\u001b[39m\u001b[38;5;124m\"\u001b[39m, unit\u001b[38;5;241m=\u001b[39m\u001b[38;5;124m\"\u001b[39m\u001b[38;5;124mbatch\u001b[39m\u001b[38;5;124m\"\u001b[39m, leave\u001b[38;5;241m=\u001b[39m\u001b[38;5;28;01mTrue\u001b[39;00m) \u001b[38;5;28;01mas\u001b[39;00m pbar:\n\u001b[1;32m    129\u001b[0m     \u001b[38;5;28;01mfor\u001b[39;00m i \u001b[38;5;129;01min\u001b[39;00m \u001b[38;5;28mrange\u001b[39m(n_val):\n\u001b[0;32m--> 130\u001b[0m         pack \u001b[38;5;241m=\u001b[39m \u001b[43mdataset\u001b[49m\u001b[43m[\u001b[49m\u001b[43mi\u001b[49m\u001b[43m]\u001b[49m\n\u001b[1;32m    131\u001b[0m         imgsw \u001b[38;5;241m=\u001b[39m pack[\u001b[38;5;124m\"\u001b[39m\u001b[38;5;124mimages\u001b[39m\u001b[38;5;124m\"\u001b[39m]\n\u001b[1;32m    132\u001b[0m         masksw \u001b[38;5;241m=\u001b[39m pack[\u001b[38;5;124m\"\u001b[39m\u001b[38;5;124mmasks\u001b[39m\u001b[38;5;124m\"\u001b[39m]\n",
      "File \u001b[0;32m~/Thesis_code/dataset_mevis.py:398\u001b[0m, in \u001b[0;36mMRI_dataset_batched.__getitem__\u001b[0;34m(self, index)\u001b[0m\n\u001b[1;32m    396\u001b[0m \u001b[38;5;28;01mdef\u001b[39;00m \u001b[38;5;21m__getitem__\u001b[39m(\u001b[38;5;28mself\u001b[39m, index) \u001b[38;5;241m-\u001b[39m\u001b[38;5;241m>\u001b[39m \u001b[38;5;28mdict\u001b[39m:\n\u001b[1;32m    397\u001b[0m     \u001b[38;5;28;01mif\u001b[39;00m \u001b[38;5;28mself\u001b[39m\u001b[38;5;241m.\u001b[39moperation_mode \u001b[38;5;241m==\u001b[39m \u001b[38;5;124m\"\u001b[39m\u001b[38;5;124mqueue\u001b[39m\u001b[38;5;124m\"\u001b[39m:\n\u001b[0;32m--> 398\u001b[0m         \u001b[38;5;28;01mreturn\u001b[39;00m \u001b[38;5;28;43mself\u001b[39;49m\u001b[38;5;241;43m.\u001b[39;49m\u001b[43mget_que_batch\u001b[49m\u001b[43m(\u001b[49m\u001b[43mindex\u001b[49m\u001b[43m)\u001b[49m\n\u001b[1;32m    399\u001b[0m     \u001b[38;5;28;01melse\u001b[39;00m:\n\u001b[1;32m    400\u001b[0m         sample \u001b[38;5;241m=\u001b[39m \u001b[38;5;28mself\u001b[39m\u001b[38;5;241m.\u001b[39mdata_dict[\u001b[38;5;28mself\u001b[39m\u001b[38;5;241m.\u001b[39mimages_list[index]]\n",
      "File \u001b[0;32m~/Thesis_code/dataset_mevis.py:181\u001b[0m, in \u001b[0;36mMRI_dataset_batched.get_que_batch\u001b[0;34m(self, index)\u001b[0m\n\u001b[1;32m    176\u001b[0m     \u001b[38;5;28mprint\u001b[39m(\n\u001b[1;32m    177\u001b[0m         \u001b[38;5;124mf\u001b[39m\u001b[38;5;124m\"\u001b[39m\u001b[38;5;124mmri index overshoot, calling \u001b[39m\u001b[38;5;132;01m{\u001b[39;00mindex\u001b[38;5;132;01m}\u001b[39;00m\u001b[38;5;124m strat \u001b[39m\u001b[38;5;132;01m{\u001b[39;00mstart_index\u001b[38;5;132;01m}\u001b[39;00m\u001b[38;5;124m, end \u001b[39m\u001b[38;5;132;01m{\u001b[39;00mend_index\u001b[38;5;132;01m}\u001b[39;00m\u001b[38;5;124m, toall \u001b[39m\u001b[38;5;132;01m{\u001b[39;00m\u001b[38;5;28mlen\u001b[39m(\u001b[38;5;28mself\u001b[39m\u001b[38;5;241m.\u001b[39mqueue)\u001b[38;5;132;01m}\u001b[39;00m\u001b[38;5;124m\"\u001b[39m\n\u001b[1;32m    178\u001b[0m     )\n\u001b[1;32m    180\u001b[0m \u001b[38;5;28;01mfor\u001b[39;00m i, vol \u001b[38;5;129;01min\u001b[39;00m \u001b[38;5;28menumerate\u001b[39m(volume_data):\n\u001b[0;32m--> 181\u001b[0m     data \u001b[38;5;241m=\u001b[39m \u001b[38;5;28;43mself\u001b[39;49m\u001b[38;5;241;43m.\u001b[39;49m\u001b[43m_process_volume\u001b[49m\u001b[43m(\u001b[49m\u001b[43mvol\u001b[49m\u001b[43m)\u001b[49m\n\u001b[1;32m    182\u001b[0m     \u001b[38;5;28;01mif\u001b[39;00m i \u001b[38;5;241m==\u001b[39m \u001b[38;5;241m0\u001b[39m:\n\u001b[1;32m    183\u001b[0m         loaded_batch \u001b[38;5;241m=\u001b[39m data\n",
      "File \u001b[0;32m~/Thesis_code/dataset_mevis.py:222\u001b[0m, in \u001b[0;36mMRI_dataset_batched._process_volume\u001b[0;34m(self, sample)\u001b[0m\n\u001b[1;32m    218\u001b[0m \u001b[38;5;28;01mif\u001b[39;00m img_path\u001b[38;5;241m.\u001b[39mis_file():\n\u001b[1;32m    219\u001b[0m     img_vol \u001b[38;5;241m=\u001b[39m np\u001b[38;5;241m.\u001b[39marray(\n\u001b[1;32m    220\u001b[0m         sitk\u001b[38;5;241m.\u001b[39mGetArrayFromImage(sitk\u001b[38;5;241m.\u001b[39mReadImage(img_path)), dtype\u001b[38;5;241m=\u001b[39m\u001b[38;5;28mfloat\u001b[39m\n\u001b[1;32m    221\u001b[0m     )\n\u001b[0;32m--> 222\u001b[0m     img_vol \u001b[38;5;241m=\u001b[39m \u001b[43mnp\u001b[49m\u001b[38;5;241;43m.\u001b[39;49m\u001b[43marray\u001b[49m\u001b[43m(\u001b[49m\n\u001b[1;32m    223\u001b[0m \u001b[43m        \u001b[49m\u001b[43m(\u001b[49m\u001b[43mimg_vol\u001b[49m\u001b[43m \u001b[49m\u001b[38;5;241;43m-\u001b[39;49m\u001b[43m \u001b[49m\u001b[43mimg_vol\u001b[49m\u001b[38;5;241;43m.\u001b[39;49m\u001b[43mmin\u001b[49m\u001b[43m(\u001b[49m\u001b[43m)\u001b[49m\u001b[43m)\u001b[49m\n\u001b[1;32m    224\u001b[0m \u001b[43m        \u001b[49m\u001b[38;5;241;43m/\u001b[39;49m\u001b[43m \u001b[49m\u001b[43m(\u001b[49m\u001b[43mimg_vol\u001b[49m\u001b[38;5;241;43m.\u001b[39;49m\u001b[43mmax\u001b[49m\u001b[43m(\u001b[49m\u001b[43m)\u001b[49m\u001b[43m \u001b[49m\u001b[38;5;241;43m-\u001b[39;49m\u001b[43m \u001b[49m\u001b[43mimg_vol\u001b[49m\u001b[38;5;241;43m.\u001b[39;49m\u001b[43mmin\u001b[49m\u001b[43m(\u001b[49m\u001b[43m)\u001b[49m\u001b[43m \u001b[49m\u001b[38;5;241;43m+\u001b[39;49m\u001b[43m \u001b[49m\u001b[38;5;241;43m1e-8\u001b[39;49m\u001b[43m)\u001b[49m\n\u001b[1;32m    225\u001b[0m \u001b[43m        \u001b[49m\u001b[38;5;241;43m*\u001b[39;49m\u001b[43m \u001b[49m\u001b[38;5;241;43m255\u001b[39;49m\u001b[43m,\u001b[49m\n\u001b[1;32m    226\u001b[0m \u001b[43m        \u001b[49m\u001b[43mdtype\u001b[49m\u001b[38;5;241;43m=\u001b[39;49m\u001b[43mnp\u001b[49m\u001b[38;5;241;43m.\u001b[39;49m\u001b[43muint8\u001b[49m\u001b[43m,\u001b[49m\n\u001b[1;32m    227\u001b[0m \u001b[43m    \u001b[49m\u001b[43m)\u001b[49m\n\u001b[1;32m    228\u001b[0m \u001b[38;5;28;01melse\u001b[39;00m:\n\u001b[1;32m    229\u001b[0m     \u001b[38;5;28mprint\u001b[39m(\u001b[38;5;124mf\u001b[39m\u001b[38;5;124m\"\u001b[39m\u001b[38;5;124mError reading the image \u001b[39m\u001b[38;5;132;01m{\u001b[39;00mimg_path\u001b[38;5;132;01m}\u001b[39;00m\u001b[38;5;124m\"\u001b[39m)\n",
      "\u001b[0;31mKeyboardInterrupt\u001b[0m: "
     ]
    }
   ],
   "source": [
    "while epoch < (WARMUP_EPOCHS + EPOCHS):\n",
    "    optimizer = lr_scheduler(\n",
    "        optimizer,\n",
    "        epoch,\n",
    "        warmup_epochs=WARMUP_EPOCHS,\n",
    "        base_lr=BASE_LEARNING_RATE,\n",
    "        warmup_lr_start=WARMUP_LR_START,\n",
    "    )\n",
    "    dataset_train.on_epoch_end()\n",
    "    loss = train_mevis(\n",
    "        args,\n",
    "        net=sam_mevis,\n",
    "        optimizer=optimizer,\n",
    "        loss_func=lossfunc,\n",
    "        dataset=dataset_train,\n",
    "        epoch=epoch,\n",
    "        writer=writer,\n",
    "    )\n",
    "    writer.add_scalars(\"DiceCEloss\", {\"training\": loss}, epoch)\n",
    "    write_hists(sam_mevis, writer=writer, epoch=epoch)\n",
    "    if epoch % valid_every == 0:\n",
    "        val_loss, val_result = validate_mevis(\n",
    "            args,\n",
    "            net=sam_mevis,\n",
    "            loss_func=lossfunc,\n",
    "            dataset=dataset_test,\n",
    "            epoch=epoch,\n",
    "            writer=writer,\n",
    "        )\n",
    "        writer.add_scalars(\"DiceCEloss\", {\"validation\": val_loss}, epoch)\n",
    "        for key, value in val_result.items():\n",
    "            for key_in, value_in in value.items():\n",
    "                writer.add_scalar(f\"Validation Metrics/{key_in}/thr{key}\", value_in, epoch)\n",
    "    if epoch % save_every == 0:\n",
    "        save_path = base_save / f\"mevis_sam-epoch{epoch}.pth\"\n",
    "        torch.save(sam_mevis.state_dict(), save_path)\n",
    "        print(\n",
    "            f\"saved model at {str(save_path)}\"\n",
    "        )\n",
    "\n",
    "    epoch += 1"
   ]
  },
  {
   "cell_type": "code",
   "execution_count": 19,
   "metadata": {},
   "outputs": [],
   "source": [
    "write_hists(sam_mevis, writer=writer, epoch=1)"
   ]
  },
  {
   "cell_type": "code",
   "execution_count": 23,
   "metadata": {},
   "outputs": [
    {
     "data": {
      "application/vnd.jupyter.widget-view+json": {
       "model_id": "8e2434391cc848da8274fa2a5dd2280a",
       "version_major": 2,
       "version_minor": 0
      },
      "text/plain": [
       "Validation round:   0%|          | 0/66 [00:00<?, ?batch/s]"
      ]
     },
     "metadata": {},
     "output_type": "display_data"
    }
   ],
   "source": [
    "val_loss, val_result = validate_mevis(\n",
    "            args,\n",
    "            net=sam_mevis,\n",
    "            loss_func=lossfunc,\n",
    "            dataset=dataset_test,\n",
    "            epoch=1,\n",
    "            writer=writer,\n",
    "        )"
   ]
  },
  {
   "cell_type": "code",
   "execution_count": 25,
   "metadata": {},
   "outputs": [],
   "source": [
    "for key, value in val_result.items():\n",
    "    for key_in, value_in in value.items():\n",
    "        writer.add_scalar(f\"IOU/{key_in}/{key}\", value_in, epoch)"
   ]
  },
  {
   "cell_type": "code",
   "execution_count": 16,
   "metadata": {},
   "outputs": [
    {
     "name": "stdout",
     "output_type": "stream",
     "text": [
      "tensor(0.5037, device='cuda:0') {'0.0': {'iou_back': -1.0, 'iou_class': 0.5267612152930462, 'dice_back': -1.0, 'dice_class': 0.5173862292007967}, '0.25': {'iou_back': -1.0, 'iou_class': 0.5405494137243791, 'dice_back': -1.0, 'dice_class': 0.5240659442814913}, '0.5': {'iou_back': -1.0, 'iou_class': 0.5499592344417716, 'dice_back': -1.0, 'dice_class': 0.5281071554530751}, '0.7': {'iou_back': -1.0, 'iou_class': 0.5536853079542969, 'dice_back': -1.0, 'dice_class': 0.5287035708174561}, '0.9': {'iou_back': -1.0, 'iou_class': 0.5542145951679258, 'dice_back': -1.0, 'dice_class': 0.5272461731325496}}\n"
     ]
    }
   ],
   "source": [
    "print(loss, val_loss, val_result)"
   ]
  },
  {
   "cell_type": "markdown",
   "metadata": {},
   "source": [
    "for base model on test set:\n",
    "\n",
    "    iou               0.5267612152930462\n",
    "    dice_score        0.5173862292007967\n",
    "\\\n",
    "decoder_only/2024-08-10 19:26:43/mevis_sam-epoch80-final.pth model on test set:\n",
    "\n",
    "    pixel_accuracy    0.985118\n",
    "    iou                0.60849\n",
    "    dice_score        0.617276\n",
    "    DiceCELoss        1.539488\n",
    "\\\n",
    "decoder_only/2024-08-10 19:26:43/mevis_sam-epoch60-final.pth model on test set:\n",
    "\n",
    "    pixel_accuracy    0.985452\n",
    "    iou               0.606201\n",
    "    dice_score        0.620731\n",
    "    DiceCELoss        1.539338\n",
    "\\\n",
    "\n",
    "decoder_only/resampled/2024-08-12 10:30:07/mevis_sam-epoch60.pth model on test set:\n",
    "\n",
    "    pixel_accuracy    0.983529\n",
    "    iou               0.633876\n",
    "    dice_score        0.656472\n",
    "    DiceCELoss        1.519845\n"
   ]
  },
  {
   "cell_type": "markdown",
   "metadata": {},
   "source": [
    "### Layers to train:\n",
    "* Image encoder:\n",
    "    + patch_embed\n",
    "    + layers.1.blocks.0.MLP_Adapter\n",
    "    + layers.1.blocks.0.Space_Adapter\n",
    "    + layers.1.blocks.1.MLP_Adapter\n",
    "    + layers.1.blocks.1.Space_Adapter\n",
    "    + layers.2.blocks.0.MLP_Adapter\n",
    "    + layers.2.blocks.0.Space_Adapter\n",
    "    + layers.2.blocks.1.MLP_Adapter\n",
    "    + layers.2.blocks.1.Space_Adapter\n",
    "* Mask decoder:\n",
    "    + transformer.layers.0.MLP_Adapter\n",
    "    + transformer.layers.0.Adapter\n",
    "    + transformer.layers.1.MLP_Adapter\n",
    "    + transformer.layers.1.Adapter"
   ]
  },
  {
   "cell_type": "code",
   "execution_count": null,
   "metadata": {},
   "outputs": [],
   "source": [
    "def get_unique_layer_names(model):\n",
    "    unique_layer_names = set()\n",
    "    for module in model.modules():\n",
    "        name = module.__class__.__name__\n",
    "        unique_layer_names.add(name)\n",
    "    return list(unique_layer_names)\n",
    "\n",
    "adapter_layers = get_unique_layer_names(sam_mevis.mask_decoder)\n",
    "adapter_layers"
   ]
  },
  {
   "cell_type": "code",
   "execution_count": 12,
   "metadata": {},
   "outputs": [
    {
     "name": "stdout",
     "output_type": "stream",
     "text": [
      "Image encoder: patch_embed\n",
      "PatchEmbed(\n",
      "  (seq): Sequential(\n",
      "    (0): Conv2d_BN(\n",
      "      (c): Conv2d(3, 32, kernel_size=(3, 3), stride=(2, 2), padding=(1, 1), bias=False)\n",
      "      (bn): BatchNorm2d(32, eps=1e-05, momentum=0.1, affine=True, track_running_stats=True)\n",
      "    )\n",
      "    (1): GELU(approximate='none')\n",
      "    (2): Conv2d_BN(\n",
      "      (c): Conv2d(32, 64, kernel_size=(3, 3), stride=(2, 2), padding=(1, 1), bias=False)\n",
      "      (bn): BatchNorm2d(64, eps=1e-05, momentum=0.1, affine=True, track_running_stats=True)\n",
      "    )\n",
      "  )\n",
      ")\n",
      "Image encoder: layers.1.blocks.0.MLP_Adapter\n",
      "Adapter(\n",
      "  (act): GELU(approximate='none')\n",
      "  (D_fc1): Linear(in_features=128, out_features=32, bias=True)\n",
      "  (D_fc2): Linear(in_features=32, out_features=128, bias=True)\n",
      ")\n",
      "Image encoder: layers.1.blocks.0.Space_Adapter\n",
      "Adapter(\n",
      "  (act): GELU(approximate='none')\n",
      "  (D_fc1): Linear(in_features=128, out_features=32, bias=True)\n",
      "  (D_fc2): Linear(in_features=32, out_features=128, bias=True)\n",
      ")\n",
      "Image encoder: layers.1.blocks.1.MLP_Adapter\n",
      "Adapter(\n",
      "  (act): GELU(approximate='none')\n",
      "  (D_fc1): Linear(in_features=128, out_features=32, bias=True)\n",
      "  (D_fc2): Linear(in_features=32, out_features=128, bias=True)\n",
      ")\n",
      "Image encoder: layers.1.blocks.1.Space_Adapter\n",
      "Adapter(\n",
      "  (act): GELU(approximate='none')\n",
      "  (D_fc1): Linear(in_features=128, out_features=32, bias=True)\n",
      "  (D_fc2): Linear(in_features=32, out_features=128, bias=True)\n",
      ")\n",
      "Image encoder: layers.2.blocks.0.MLP_Adapter\n",
      "Adapter(\n",
      "  (act): GELU(approximate='none')\n",
      "  (D_fc1): Linear(in_features=160, out_features=40, bias=True)\n",
      "  (D_fc2): Linear(in_features=40, out_features=160, bias=True)\n",
      ")\n",
      "Image encoder: layers.2.blocks.0.Space_Adapter\n",
      "Adapter(\n",
      "  (act): GELU(approximate='none')\n",
      "  (D_fc1): Linear(in_features=160, out_features=40, bias=True)\n",
      "  (D_fc2): Linear(in_features=40, out_features=160, bias=True)\n",
      ")\n",
      "Image encoder: layers.2.blocks.1.MLP_Adapter\n",
      "Adapter(\n",
      "  (act): GELU(approximate='none')\n",
      "  (D_fc1): Linear(in_features=160, out_features=40, bias=True)\n",
      "  (D_fc2): Linear(in_features=40, out_features=160, bias=True)\n",
      ")\n",
      "Image encoder: layers.2.blocks.1.Space_Adapter\n",
      "Adapter(\n",
      "  (act): GELU(approximate='none')\n",
      "  (D_fc1): Linear(in_features=160, out_features=40, bias=True)\n",
      "  (D_fc2): Linear(in_features=40, out_features=160, bias=True)\n",
      ")\n",
      "Mask decoder: transformer.layers.0.MLP_Adapter\n",
      "Adapter(\n",
      "  (act): GELU(approximate='none')\n",
      "  (D_fc1): Linear(in_features=256, out_features=64, bias=True)\n",
      "  (D_fc2): Linear(in_features=64, out_features=256, bias=True)\n",
      ")\n",
      "Mask decoder: transformer.layers.0.Adapter\n",
      "Adapter(\n",
      "  (act): GELU(approximate='none')\n",
      "  (D_fc1): Linear(in_features=256, out_features=64, bias=True)\n",
      "  (D_fc2): Linear(in_features=64, out_features=256, bias=True)\n",
      ")\n",
      "Mask decoder: transformer.layers.1.MLP_Adapter\n",
      "Adapter(\n",
      "  (act): GELU(approximate='none')\n",
      "  (D_fc1): Linear(in_features=256, out_features=64, bias=True)\n",
      "  (D_fc2): Linear(in_features=64, out_features=256, bias=True)\n",
      ")\n",
      "Mask decoder: transformer.layers.1.Adapter\n",
      "Adapter(\n",
      "  (act): GELU(approximate='none')\n",
      "  (D_fc1): Linear(in_features=256, out_features=64, bias=True)\n",
      "  (D_fc2): Linear(in_features=64, out_features=256, bias=True)\n",
      ")\n"
     ]
    }
   ],
   "source": [
    "image_encoder_layers = [\n",
    "    \"patch_embed\",\n",
    "    \"layers.1.blocks.0.MLP_Adapter\",\n",
    "    \"layers.1.blocks.0.Space_Adapter\",\n",
    "    \"layers.1.blocks.1.MLP_Adapter\",\n",
    "    \"layers.1.blocks.1.Space_Adapter\",\n",
    "    \"layers.2.blocks.0.MLP_Adapter\",\n",
    "    \"layers.2.blocks.0.Space_Adapter\",\n",
    "    \"layers.2.blocks.1.MLP_Adapter\",\n",
    "    \"layers.2.blocks.1.Space_Adapter\",\n",
    "]\n",
    "mask_decoder_layers = [\n",
    "    \"transformer.layers.0.MLP_Adapter\",\n",
    "    \"transformer.layers.0.Adapter\",\n",
    "    \"transformer.layers.1.MLP_Adapter\",\n",
    "    \"transformer.layers.1.Adapter\",\n",
    "]\n",
    "for n, m in list(sam_mevis.image_encoder.named_modules()) + list(sam_mevis.mask_decoder.named_modules()):\n",
    "    if n in image_encoder_layers:\n",
    "        print(\"Image encoder:\", n)\n",
    "        print(m)\n",
    "    if n in mask_decoder_layers:\n",
    "        print(\"Mask decoder:\", n)\n",
    "        print(m)"
   ]
  },
  {
   "cell_type": "code",
   "execution_count": 19,
   "metadata": {},
   "outputs": [
    {
     "data": {
      "application/vnd.jupyter.widget-view+json": {
       "model_id": "1168e23ac51640d78ad4117971f52150",
       "version_major": 2,
       "version_minor": 0
      },
      "text/plain": [
       "Running inference on queued batches of size 40:   0%|          | 0/66 [00:00<?, ?Batch/s]"
      ]
     },
     "metadata": {},
     "output_type": "display_data"
    }
   ],
   "source": [
    "def eval_model(net, dataset, loss_func):\n",
    "    net.eval()\n",
    "    result_dict = {}\n",
    "    with tqdm(\n",
    "        total=len(dataset),\n",
    "        desc=f\"Running inference on queued batches of size {dataset.batch_size}\",\n",
    "        unit=\"Batch\",\n",
    "    ) as pbar:\n",
    "        for ind in range(len(dataset)):\n",
    "            data = dataset[ind]\n",
    "            low_res_masks, _ = do_inference_on_batch(net, data)\n",
    "            low_res_masks_bool = low_res_masks > net.mask_threshold\n",
    "            cat_indexes = data.get(\"cat_indexes\", [0])\n",
    "            for i in range(len(cat_indexes)):\n",
    "                postfix = \"\" if i == 0 else str(i)\n",
    "                orig_size = data[f\"original_size{postfix}\"]\n",
    "                img_name = data[f\"img_name{postfix}\"]\n",
    "                slices = data[f\"slices{postfix}\"]\n",
    "\n",
    "                if i + 1 >= len(cat_indexes):\n",
    "                    sliced_mask = data[\"masks\"][cat_indexes[i] :]\n",
    "                    sliced_prediction = low_res_masks_bool[cat_indexes[i] :]\n",
    "                else:\n",
    "                    sliced_mask = data[\"masks\"][cat_indexes[i] : cat_indexes[i + 1]]\n",
    "                    sliced_prediction = low_res_masks_bool[\n",
    "                        cat_indexes[i] : cat_indexes[i + 1]\n",
    "                    ]\n",
    "\n",
    "                with torch.no_grad():\n",
    "                    dice_score_batch = dice_coeff(\n",
    "                        sliced_mask, sliced_prediction.to(torch.float32)[:, 1:2, :, :]\n",
    "                    ).item()\n",
    "\n",
    "                pixel_acc_batch = pixel_accuracy(\n",
    "                    sliced_prediction[:, 1:2, :, :], sliced_mask\n",
    "                )\n",
    "                iou_batch = iou_torch(\n",
    "                    sliced_prediction[:, 1:2, :, :], sliced_mask.clone().to(torch.int)\n",
    "                )\n",
    "\n",
    "                loss = loss_func(sliced_prediction[:, 1:2, :, :].to(torch.float32), sliced_mask)\n",
    "                # temp = eval_seg(pred[:,1:, :, :], masks, thresholds)\n",
    "                # print(f\"temp at epoch {epoch}: {temp} len:{pred.size(0)}\")\n",
    "                # for th in result_dict.keys():\n",
    "                #     for met, val in result_dict[th].items():\n",
    "                #         result_dict[th][met] = val + temp[th][met]\n",
    "\n",
    "                if img_name in result_dict.keys():\n",
    "                    result_dict[img_name][\"prediction_path\"].append(f\"{img_name.split(\".\")[0]}-{slices[0]}-{slices[-1]}\")\n",
    "                    result_dict[img_name][\"pixel_accuracy\"].append(pixel_acc_batch)\n",
    "                    result_dict[img_name][\"iou\"].append(iou_batch)\n",
    "                    result_dict[img_name][\"dice_score\"].append(dice_score_batch)\n",
    "                    result_dict[img_name][\"DiceCELoss\"].append(loss.item())\n",
    "                else:\n",
    "                    result_dict[img_name] = {\n",
    "                        \"prediction_path\": [f\"{img_name.split(\".\")[0]}-{slices[0]}-{slices[-1]}\"],\n",
    "                        \"pixel_accuracy\": [pixel_acc_batch],\n",
    "                        \"iou\": [iou_batch],\n",
    "                        \"dice_score\": [dice_score_batch],\n",
    "                        \"DiceCELoss\": [loss.item()],\n",
    "                    }\n",
    "            pbar.update(1)\n",
    "    return result_dict\n",
    "\n",
    "\n",
    "result_dict_eval = eval_model(sam_mevis, dataset_test, loss_func=lossfunc)"
   ]
  },
  {
   "cell_type": "code",
   "execution_count": null,
   "metadata": {},
   "outputs": [],
   "source": [
    "result_dict_eval_merged = merge_metrics(result_dict_eval)\n",
    "\n",
    "# result_dict_eval_merged\n",
    "result_dict_eval"
   ]
  },
  {
   "cell_type": "code",
   "execution_count": 22,
   "metadata": {},
   "outputs": [],
   "source": [
    "with open(\"./eval_results/decoder_only_resampled_2024-08-12 10:30:07_epoch60_model_test.json\", \"w\") as f:\n",
    "    json.dump(\n",
    "        result_dict_eval_merged,\n",
    "        f,\n",
    "        indent=4,\n",
    "        sort_keys=False,\n",
    "        separators=(\",\", \": \"),\n",
    "    )"
   ]
  },
  {
   "cell_type": "code",
   "execution_count": 21,
   "metadata": {},
   "outputs": [
    {
     "data": {
      "text/plain": [
       "pixel_accuracy    0.983529\n",
       "iou               0.633876\n",
       "dice_score        0.656472\n",
       "DiceCELoss        1.519845\n",
       "dtype: object"
      ]
     },
     "execution_count": 21,
     "metadata": {},
     "output_type": "execute_result"
    }
   ],
   "source": [
    "\"\"\"pixel_accuracy    0.985118\n",
    "iou                0.60849\n",
    "dice_score        0.617276\n",
    "DiceCELoss        1.539488\n",
    "dtype: object\n",
    "\"\"\"\n",
    "df = pd.DataFrame.from_dict(result_dict_eval_merged).T.drop(\"prediction_path\", axis=1)\n",
    "df.mean(axis=0)"
   ]
  },
  {
   "cell_type": "code",
   "execution_count": 26,
   "metadata": {},
   "outputs": [
    {
     "name": "stderr",
     "output_type": "stream",
     "text": [
      "/tmp/ipykernel_366368/3707489999.py:5: FutureWarning: You are using `torch.load` with `weights_only=False` (the current default value), which uses the default pickle module implicitly. It is possible to construct malicious pickle data which will execute arbitrary code during unpickling (See https://github.com/pytorch/pytorch/blob/main/SECURITY.md#untrusted-models for more details). In a future release, the default value for `weights_only` will be flipped to `True`. This limits the functions that could be executed during unpickling. Arbitrary objects will no longer be allowed to be loaded via this mode unless they are explicitly allowlisted by the user via `torch.serialization.add_safe_globals`. We recommend you start setting `weights_only=True` for any use case where you don't have full control of the loaded file. Please open an issue on GitHub for any issues related to this experimental feature.\n",
      "  torch.load(\n"
     ]
    },
    {
     "data": {
      "application/vnd.jupyter.widget-view+json": {
       "model_id": "0d0a9fc5e2c9460bb12fd35636b37517",
       "version_major": 2,
       "version_minor": 0
      },
      "text/plain": [
       "Running inference on queued batches of size 40:   0%|          | 0/66 [00:00<?, ?Batch/s]"
      ]
     },
     "metadata": {},
     "output_type": "display_data"
    },
    {
     "data": {
      "application/vnd.jupyter.widget-view+json": {
       "model_id": "3fed402b4714419d9a5b1615124ffee3",
       "version_major": 2,
       "version_minor": 0
      },
      "text/plain": [
       "Running inference on queued batches of size 40:   0%|          | 0/66 [00:00<?, ?Batch/s]"
      ]
     },
     "metadata": {},
     "output_type": "display_data"
    },
    {
     "data": {
      "application/vnd.jupyter.widget-view+json": {
       "model_id": "405fb1c26a7a4a8883474ced167b867d",
       "version_major": 2,
       "version_minor": 0
      },
      "text/plain": [
       "Running inference on queued batches of size 40:   0%|          | 0/66 [00:00<?, ?Batch/s]"
      ]
     },
     "metadata": {},
     "output_type": "display_data"
    },
    {
     "data": {
      "application/vnd.jupyter.widget-view+json": {
       "model_id": "0edd298f89f2414ab869cabad9b0d00f",
       "version_major": 2,
       "version_minor": 0
      },
      "text/plain": [
       "Running inference on queued batches of size 40:   0%|          | 0/66 [00:00<?, ?Batch/s]"
      ]
     },
     "metadata": {},
     "output_type": "display_data"
    },
    {
     "data": {
      "application/vnd.jupyter.widget-view+json": {
       "model_id": "1dc39b031c1342f78d0cbae104df5dad",
       "version_major": 2,
       "version_minor": 0
      },
      "text/plain": [
       "Running inference on queued batches of size 40:   0%|          | 0/66 [00:00<?, ?Batch/s]"
      ]
     },
     "metadata": {},
     "output_type": "display_data"
    },
    {
     "data": {
      "application/vnd.jupyter.widget-view+json": {
       "model_id": "aa722373e005484eb08967a042223a96",
       "version_major": 2,
       "version_minor": 0
      },
      "text/plain": [
       "Running inference on queued batches of size 40:   0%|          | 0/66 [00:00<?, ?Batch/s]"
      ]
     },
     "metadata": {},
     "output_type": "display_data"
    },
    {
     "data": {
      "application/vnd.jupyter.widget-view+json": {
       "model_id": "dd7e3ae8fcba4716ac47a93129aa5312",
       "version_major": 2,
       "version_minor": 0
      },
      "text/plain": [
       "Running inference on queued batches of size 40:   0%|          | 0/66 [00:00<?, ?Batch/s]"
      ]
     },
     "metadata": {},
     "output_type": "display_data"
    },
    {
     "data": {
      "application/vnd.jupyter.widget-view+json": {
       "model_id": "92f961224b1c4fc386d601c831a259fc",
       "version_major": 2,
       "version_minor": 0
      },
      "text/plain": [
       "Running inference on queued batches of size 40:   0%|          | 0/66 [00:00<?, ?Batch/s]"
      ]
     },
     "metadata": {},
     "output_type": "display_data"
    },
    {
     "data": {
      "application/vnd.jupyter.widget-view+json": {
       "model_id": "9e639368accf4850843c4e4afe626636",
       "version_major": 2,
       "version_minor": 0
      },
      "text/plain": [
       "Running inference on queued batches of size 40:   0%|          | 0/66 [00:00<?, ?Batch/s]"
      ]
     },
     "metadata": {},
     "output_type": "display_data"
    },
    {
     "data": {
      "application/vnd.jupyter.widget-view+json": {
       "model_id": "add101c631a344888e1be4992b181758",
       "version_major": 2,
       "version_minor": 0
      },
      "text/plain": [
       "Running inference on queued batches of size 40:   0%|          | 0/66 [00:00<?, ?Batch/s]"
      ]
     },
     "metadata": {},
     "output_type": "display_data"
    },
    {
     "data": {
      "application/vnd.jupyter.widget-view+json": {
       "model_id": "0cd8053305c54e6599147bcd0d2f11b1",
       "version_major": 2,
       "version_minor": 0
      },
      "text/plain": [
       "Running inference on queued batches of size 40:   0%|          | 0/66 [00:00<?, ?Batch/s]"
      ]
     },
     "metadata": {},
     "output_type": "display_data"
    },
    {
     "data": {
      "application/vnd.jupyter.widget-view+json": {
       "model_id": "0cb7a5c821984f699e4f1d498be5cdf8",
       "version_major": 2,
       "version_minor": 0
      },
      "text/plain": [
       "Running inference on queued batches of size 40:   0%|          | 0/66 [00:00<?, ?Batch/s]"
      ]
     },
     "metadata": {},
     "output_type": "display_data"
    },
    {
     "data": {
      "application/vnd.jupyter.widget-view+json": {
       "model_id": "3162e5a3f9564f04aa8926ee953cdb26",
       "version_major": 2,
       "version_minor": 0
      },
      "text/plain": [
       "Running inference on queued batches of size 40:   0%|          | 0/66 [00:00<?, ?Batch/s]"
      ]
     },
     "metadata": {},
     "output_type": "display_data"
    },
    {
     "data": {
      "application/vnd.jupyter.widget-view+json": {
       "model_id": "dabf1c800fc2473d8378b5a9c2230e27",
       "version_major": 2,
       "version_minor": 0
      },
      "text/plain": [
       "Running inference on queued batches of size 40:   0%|          | 0/66 [00:00<?, ?Batch/s]"
      ]
     },
     "metadata": {},
     "output_type": "display_data"
    },
    {
     "data": {
      "application/vnd.jupyter.widget-view+json": {
       "model_id": "1c4dbc5b2be24b388f5f1c8bee3c05df",
       "version_major": 2,
       "version_minor": 0
      },
      "text/plain": [
       "Running inference on queued batches of size 40:   0%|          | 0/66 [00:00<?, ?Batch/s]"
      ]
     },
     "metadata": {},
     "output_type": "display_data"
    },
    {
     "data": {
      "application/vnd.jupyter.widget-view+json": {
       "model_id": "b3634c6e29af41a7bc793b584dc7fba3",
       "version_major": 2,
       "version_minor": 0
      },
      "text/plain": [
       "Running inference on queued batches of size 40:   0%|          | 0/66 [00:00<?, ?Batch/s]"
      ]
     },
     "metadata": {},
     "output_type": "display_data"
    },
    {
     "data": {
      "application/vnd.jupyter.widget-view+json": {
       "model_id": "c25b33bf6f50430c8974c8402e8047d9",
       "version_major": 2,
       "version_minor": 0
      },
      "text/plain": [
       "Running inference on queued batches of size 40:   0%|          | 0/66 [00:00<?, ?Batch/s]"
      ]
     },
     "metadata": {},
     "output_type": "display_data"
    },
    {
     "data": {
      "application/vnd.jupyter.widget-view+json": {
       "model_id": "8d566e7f6f0e41358de3838495260dff",
       "version_major": 2,
       "version_minor": 0
      },
      "text/plain": [
       "Running inference on queued batches of size 40:   0%|          | 0/66 [00:00<?, ?Batch/s]"
      ]
     },
     "metadata": {},
     "output_type": "display_data"
    },
    {
     "data": {
      "application/vnd.jupyter.widget-view+json": {
       "model_id": "0c8f7c6fd1324df1b4b8f5128d10f294",
       "version_major": 2,
       "version_minor": 0
      },
      "text/plain": [
       "Running inference on queued batches of size 40:   0%|          | 0/66 [00:00<?, ?Batch/s]"
      ]
     },
     "metadata": {},
     "output_type": "display_data"
    },
    {
     "data": {
      "application/vnd.jupyter.widget-view+json": {
       "model_id": "6a3afb3696534ec48041c73e0d1ad2cf",
       "version_major": 2,
       "version_minor": 0
      },
      "text/plain": [
       "Running inference on queued batches of size 40:   0%|          | 0/66 [00:00<?, ?Batch/s]"
      ]
     },
     "metadata": {},
     "output_type": "display_data"
    },
    {
     "data": {
      "application/vnd.jupyter.widget-view+json": {
       "model_id": "cf1bea31b69246dc9d2ff44426b283f0",
       "version_major": 2,
       "version_minor": 0
      },
      "text/plain": [
       "Running inference on queued batches of size 40:   0%|          | 0/66 [00:00<?, ?Batch/s]"
      ]
     },
     "metadata": {},
     "output_type": "display_data"
    },
    {
     "data": {
      "application/vnd.jupyter.widget-view+json": {
       "model_id": "2305e5d05cc84fdaa65605dd4770865c",
       "version_major": 2,
       "version_minor": 0
      },
      "text/plain": [
       "Running inference on queued batches of size 40:   0%|          | 0/66 [00:00<?, ?Batch/s]"
      ]
     },
     "metadata": {},
     "output_type": "display_data"
    },
    {
     "data": {
      "application/vnd.jupyter.widget-view+json": {
       "model_id": "2ed02a55bfc04f53bd6fef432cd65653",
       "version_major": 2,
       "version_minor": 0
      },
      "text/plain": [
       "Running inference on queued batches of size 40:   0%|          | 0/66 [00:00<?, ?Batch/s]"
      ]
     },
     "metadata": {},
     "output_type": "display_data"
    },
    {
     "data": {
      "application/vnd.jupyter.widget-view+json": {
       "model_id": "3b8bcfd1ca3841b298c784c10af3bc8a",
       "version_major": 2,
       "version_minor": 0
      },
      "text/plain": [
       "Running inference on queued batches of size 40:   0%|          | 0/66 [00:00<?, ?Batch/s]"
      ]
     },
     "metadata": {},
     "output_type": "display_data"
    },
    {
     "data": {
      "application/vnd.jupyter.widget-view+json": {
       "model_id": "da6807661a774778a6e56cc778020adc",
       "version_major": 2,
       "version_minor": 0
      },
      "text/plain": [
       "Running inference on queued batches of size 40:   0%|          | 0/66 [00:00<?, ?Batch/s]"
      ]
     },
     "metadata": {},
     "output_type": "display_data"
    },
    {
     "data": {
      "application/vnd.jupyter.widget-view+json": {
       "model_id": "47dd0a2bfce74b2f8d44517fa9576c0d",
       "version_major": 2,
       "version_minor": 0
      },
      "text/plain": [
       "Running inference on queued batches of size 40:   0%|          | 0/66 [00:00<?, ?Batch/s]"
      ]
     },
     "metadata": {},
     "output_type": "display_data"
    },
    {
     "data": {
      "application/vnd.jupyter.widget-view+json": {
       "model_id": "477e3861b16e42779f632b4ee17eb7c9",
       "version_major": 2,
       "version_minor": 0
      },
      "text/plain": [
       "Running inference on queued batches of size 40:   0%|          | 0/66 [00:00<?, ?Batch/s]"
      ]
     },
     "metadata": {},
     "output_type": "display_data"
    },
    {
     "data": {
      "application/vnd.jupyter.widget-view+json": {
       "model_id": "92f9c1082f0246fa993442ad0b6ea7cb",
       "version_major": 2,
       "version_minor": 0
      },
      "text/plain": [
       "Running inference on queued batches of size 40:   0%|          | 0/66 [00:00<?, ?Batch/s]"
      ]
     },
     "metadata": {},
     "output_type": "display_data"
    },
    {
     "data": {
      "application/vnd.jupyter.widget-view+json": {
       "model_id": "c6731690a74943f89e269c068483a68e",
       "version_major": 2,
       "version_minor": 0
      },
      "text/plain": [
       "Running inference on queued batches of size 40:   0%|          | 0/66 [00:00<?, ?Batch/s]"
      ]
     },
     "metadata": {},
     "output_type": "display_data"
    },
    {
     "data": {
      "application/vnd.jupyter.widget-view+json": {
       "model_id": "e7c111142aa348018af39eec096fe3f1",
       "version_major": 2,
       "version_minor": 0
      },
      "text/plain": [
       "Running inference on queued batches of size 40:   0%|          | 0/66 [00:00<?, ?Batch/s]"
      ]
     },
     "metadata": {},
     "output_type": "display_data"
    },
    {
     "data": {
      "application/vnd.jupyter.widget-view+json": {
       "model_id": "94064c6221d34b7399c502313531644e",
       "version_major": 2,
       "version_minor": 0
      },
      "text/plain": [
       "Running inference on queued batches of size 40:   0%|          | 0/66 [00:00<?, ?Batch/s]"
      ]
     },
     "metadata": {},
     "output_type": "display_data"
    }
   ],
   "source": [
    "def sort_names(name):\n",
    "    # Extract number\n",
    "    match = re.search(r\"(\\d+)\", name)\n",
    "    number = int(match.group(1)) if match else float(\"inf\")\n",
    "    return number\n",
    "\n",
    "\n",
    "sam_checkpoints = list(\n",
    "    (CHECKPOINT_DIRECTORY / \"decoder_only/resampled/2024-08-12 10:30:07/\").glob(\"*.pth\")\n",
    ")\n",
    "all_result_dicts = {}\n",
    "for chkpnt in sam_checkpoints:\n",
    "    sam_mevis.load_state_dict(\n",
    "        torch.load(\n",
    "            chkpnt,\n",
    "            map_location=torch.device(DEVICE),\n",
    "        ),\n",
    "        strict=True,\n",
    "    )\n",
    "    sam_mevis = sam_mevis.to(DEVICE)\n",
    "    result_dict_eval = eval_model(sam_mevis, dataset_test, loss_func=lossfunc)\n",
    "    result_dict_eval_merged = merge_metrics(result_dict_eval)\n",
    "    all_result_dicts[chkpnt.name] = result_dict_eval_merged\n",
    "    \n",
    "all_result_dicts = {\n",
    "    k: v for k, v in sorted(all_result_dicts.items(), key=lambda x: sort_names(x[0]))\n",
    "}"
   ]
  },
  {
   "cell_type": "code",
   "execution_count": 34,
   "metadata": {},
   "outputs": [
    {
     "name": "stdout",
     "output_type": "stream",
     "text": [
      "mevis_sam-epoch0.pth \n",
      " pixel_accuracy    0.976646\n",
      "iou               0.527404\n",
      "dice_score        0.538444\n",
      "DiceCELoss        1.527275 \n",
      "\n",
      "mevis_sam-epoch3.pth \n",
      " pixel_accuracy    0.982004\n",
      "iou               0.615592\n",
      "dice_score        0.615522\n",
      "DiceCELoss        1.520586 \n",
      "\n",
      "mevis_sam-epoch6.pth \n",
      " pixel_accuracy    0.981213\n",
      "iou               0.605275\n",
      "dice_score        0.621958\n",
      "DiceCELoss        1.521463 \n",
      "\n",
      "mevis_sam-epoch9.pth \n",
      " pixel_accuracy    0.982838\n",
      "iou               0.635008\n",
      "dice_score        0.648476\n",
      "DiceCELoss        1.519185 \n",
      "\n",
      "mevis_sam-epoch12.pth \n",
      " pixel_accuracy    0.982427\n",
      "iou               0.628734\n",
      "dice_score        0.651373\n",
      "DiceCELoss        1.519778 \n",
      "\n",
      "mevis_sam-epoch15.pth \n",
      " pixel_accuracy    0.982805\n",
      "iou                0.64226\n",
      "dice_score        0.665056\n",
      "DiceCELoss        1.518501 \n",
      "\n",
      "mevis_sam-epoch18.pth \n",
      " pixel_accuracy    0.982585\n",
      "iou               0.633171\n",
      "dice_score        0.660878\n",
      "DiceCELoss        1.519621 \n",
      "\n",
      "mevis_sam-epoch21.pth \n",
      " pixel_accuracy    0.983008\n",
      "iou               0.648179\n",
      "dice_score        0.677706\n",
      "DiceCELoss        1.517988 \n",
      "\n",
      "mevis_sam-epoch24.pth \n",
      " pixel_accuracy    0.983341\n",
      "iou                0.64485\n",
      "dice_score        0.672729\n",
      "DiceCELoss         1.51877 \n",
      "\n",
      "mevis_sam-epoch27.pth \n",
      " pixel_accuracy    0.983393\n",
      "iou               0.653847\n",
      "dice_score        0.680711\n",
      "DiceCELoss        1.517555 \n",
      "\n",
      "mevis_sam-epoch30.pth \n",
      " pixel_accuracy     0.98356\n",
      "iou               0.648511\n",
      "dice_score        0.678752\n",
      "DiceCELoss        1.518261 \n",
      "\n",
      "mevis_sam-epoch33.pth \n",
      " pixel_accuracy    0.984339\n",
      "iou                0.65798\n",
      "dice_score        0.681297\n",
      "DiceCELoss        1.517714 \n",
      "\n",
      "mevis_sam-epoch36.pth \n",
      " pixel_accuracy    0.984385\n",
      "iou               0.644653\n",
      "dice_score        0.669169\n",
      "DiceCELoss        1.519238 \n",
      "\n",
      "mevis_sam-epoch39.pth \n",
      " pixel_accuracy    0.984568\n",
      "iou               0.659997\n",
      "dice_score        0.681185\n",
      "DiceCELoss        1.517701 \n",
      "\n",
      "mevis_sam-epoch42.pth \n",
      " pixel_accuracy    0.984576\n",
      "iou               0.654523\n",
      "dice_score        0.675883\n",
      "DiceCELoss        1.518397 \n",
      "\n",
      "mevis_sam-epoch45.pth \n",
      " pixel_accuracy    0.985052\n",
      "iou               0.669418\n",
      "dice_score        0.690584\n",
      "DiceCELoss        1.517016 \n",
      "\n",
      "mevis_sam-epoch48.pth \n",
      " pixel_accuracy    0.982881\n",
      "iou               0.619414\n",
      "dice_score        0.636445\n",
      "DiceCELoss        1.520957 \n",
      "\n",
      "mevis_sam-epoch51.pth \n",
      " pixel_accuracy    0.983032\n",
      "iou                0.63904\n",
      "dice_score        0.657714\n",
      "DiceCELoss        1.518929 \n",
      "\n",
      "mevis_sam-epoch54.pth \n",
      " pixel_accuracy    0.982707\n",
      "iou               0.620478\n",
      "dice_score        0.638824\n",
      "DiceCELoss        1.520954 \n",
      "\n",
      "mevis_sam-epoch57.pth \n",
      " pixel_accuracy    0.983039\n",
      "iou                0.60942\n",
      "dice_score        0.615992\n",
      "DiceCELoss        1.522016 \n",
      "\n",
      "mevis_sam-epoch60.pth \n",
      " pixel_accuracy    0.983529\n",
      "iou               0.633876\n",
      "dice_score        0.656472\n",
      "DiceCELoss        1.519845 \n",
      "\n",
      "mevis_sam-epoch63.pth \n",
      " pixel_accuracy    0.984277\n",
      "iou               0.650786\n",
      "dice_score         0.66348\n",
      "DiceCELoss        1.518567 \n",
      "\n",
      "mevis_sam-epoch66.pth \n",
      " pixel_accuracy    0.983207\n",
      "iou               0.621185\n",
      "dice_score        0.641494\n",
      "DiceCELoss        1.521104 \n",
      "\n",
      "mevis_sam-epoch69.pth \n",
      " pixel_accuracy    0.984108\n",
      "iou               0.642034\n",
      "dice_score        0.657328\n",
      "DiceCELoss        1.519318 \n",
      "\n",
      "mevis_sam-epoch72.pth \n",
      " pixel_accuracy     0.98374\n",
      "iou               0.643458\n",
      "dice_score        0.668171\n",
      "DiceCELoss        1.518992 \n",
      "\n",
      "mevis_sam-epoch75.pth \n",
      " pixel_accuracy    0.984249\n",
      "iou                0.65086\n",
      "dice_score        0.677639\n",
      "DiceCELoss        1.518495 \n",
      "\n",
      "mevis_sam-epoch78.pth \n",
      " pixel_accuracy    0.983865\n",
      "iou               0.629958\n",
      "dice_score        0.648571\n",
      "DiceCELoss        1.520393 \n",
      "\n",
      "mevis_sam-epoch81.pth \n",
      " pixel_accuracy    0.981161\n",
      "iou               0.561995\n",
      "dice_score        0.590955\n",
      "DiceCELoss        1.525736 \n",
      "\n",
      "mevis_sam-epoch84.pth \n",
      " pixel_accuracy    0.981123\n",
      "iou               0.570652\n",
      "dice_score        0.609872\n",
      "DiceCELoss        1.524978 \n",
      "\n",
      "mevis_sam-epoch87.pth \n",
      " pixel_accuracy    0.982484\n",
      "iou               0.596686\n",
      "dice_score        0.626424\n",
      "DiceCELoss        1.522986 \n",
      "\n",
      "mevis_sam-epoch90-final.pth \n",
      " pixel_accuracy     0.97949\n",
      "iou               0.528803\n",
      "dice_score        0.558892\n",
      "DiceCELoss        1.528246 \n",
      "\n"
     ]
    }
   ],
   "source": [
    "for chkpnt in sorted(sam_checkpoints, key=lambda x: sort_names(x.name)):\n",
    "    red_dict = all_result_dicts[chkpnt.name]\n",
    "    df = pd.DataFrame.from_dict(red_dict).T.drop(\"prediction_path\", axis=1)\n",
    "    print(chkpnt.name, \"\\n\", df.mean(axis=0).to_string(), \"\\n\")\n",
    "\n",
    "\n",
    "with open(\n",
    "    \"./eval_results/decoder_only_resampled_2024-08-12 10:30:07_all_models_test.json\",\n",
    "    \"w\",\n",
    ") as f:\n",
    "    json.dump(\n",
    "        all_result_dicts,\n",
    "        f,\n",
    "        indent=4,\n",
    "        sort_keys=False,\n",
    "        separators=(\",\", \": \"),\n",
    "    )"
   ]
  },
  {
   "cell_type": "code",
   "execution_count": 9,
   "metadata": {},
   "outputs": [],
   "source": [
    "LOGDIR.mkdir(parents=True, exist_ok=True)\n",
    "writer = SummaryWriter(LOGDIR/\"learning\")"
   ]
  },
  {
   "cell_type": "code",
   "execution_count": 28,
   "metadata": {},
   "outputs": [],
   "source": [
    "def forward(images, masks=None, atten_map=None, prompt=False):\n",
    "    bs = images.shape[0]\n",
    "    device = images.device\n",
    "    atten_map = torch.zeros((bs, 1, 64, 64), device=device) if atten_map == None else atten_map \n",
    "    \n",
    "    with torch.no_grad():\n",
    "        image_embeddings = sam_mevis.image_encoder(images)\n",
    "        if prompt and masks != None:\n",
    "            images, point_coords, masks = generate_click_prompt(images, masks)\n",
    "            point_labels = torch.ones(images.size(0), device=device)\n",
    "            coords_torch = torch.as_tensor(\n",
    "                point_coords, dtype=torch.float, device=device\n",
    "            )\n",
    "            labels_torch = torch.as_tensor(point_labels, dtype=torch.int, device=device)\n",
    "            coords_torch, labels_torch = (\n",
    "                coords_torch[None, :, :],\n",
    "                labels_torch[None, :],\n",
    "            )\n",
    "            pt = (coords_torch, labels_torch)\n",
    "        else:\n",
    "            pt = None\n",
    "        sparse_embeddings, dense_embeddings = sam_mevis.prompt_encoder(\n",
    "            points=pt, boxes=None, masks=None\n",
    "        )\n",
    "\n",
    "        image_pe = torch.stack(\n",
    "            [sam_mevis.prompt_encoder.get_dense_pe() for i in range(bs)], dim=0\n",
    "        ).squeeze(1)\n",
    "        image_embeddings = sam_mevis.attention_fusion(image_embeddings, atten_map)\n",
    "        low_res_masks, iou_predictions = sam_mevis.mask_decoder(\n",
    "            image_embeddings=image_embeddings,\n",
    "            image_pe=image_pe,\n",
    "            sparse_prompt_embeddings=sparse_embeddings,\n",
    "            dense_prompt_embeddings=dense_embeddings,\n",
    "            multimask_output=True,\n",
    "        )\n",
    "    return low_res_masks, iou_predictions\n",
    "\n",
    "sam_mevis.forward = forward"
   ]
  },
  {
   "cell_type": "code",
   "execution_count": 29,
   "metadata": {},
   "outputs": [
    {
     "name": "stderr",
     "output_type": "stream",
     "text": [
      "/home/ubuntu/Thesis_code/models/sam/modeling/tiny_vit_sam.py:347: TracerWarning: Converting a tensor to a Python boolean might cause the trace to be incorrect. We can't record the data flow of Python values, so this value will be treated as a constant in the future. This means that the trace might not generalize to other inputs!\n",
      "  assert L == H * W, \"input feature has wrong size\"\n",
      "/home/ubuntu/Thesis_code/models/sam/modeling/tiny_vit_sam.py:137: TracerWarning: Using len to get tensor shape might cause the trace to be incorrect. Recommended usage would be tensor.shape[0]. Passing a tensor of different shape might lead to errors or silently give incorrect results.\n",
      "  B = len(x)\n",
      "/home/ubuntu/Thesis_code/models/sam/modeling/mask_decoder.py:216: TracerWarning: Converting a tensor to a Python boolean might cause the trace to be incorrect. We can't record the data flow of Python values, so this value will be treated as a constant in the future. This means that the trace might not generalize to other inputs!\n",
      "  if image_embeddings.shape[0] != tokens.shape[0]:\n",
      "/home/ubuntu/Thesis_code/models/sam/modeling/transformer.py:258: TracerWarning: Converting a tensor to a Python float might cause the trace to be incorrect. We can't record the data flow of Python values, so this value will be treated as a constant in the future. This means that the trace might not generalize to other inputs!\n",
      "  attn = attn / math.sqrt(c_per_head)\n"
     ]
    }
   ],
   "source": [
    "writer.add_graph(model=sam_mevis, input_to_model=dataset_test[2][\"images\"])"
   ]
  },
  {
   "cell_type": "code",
   "execution_count": 12,
   "metadata": {},
   "outputs": [
    {
     "name": "stdout",
     "output_type": "stream",
     "text": [
      "mask decoder 0 torch.Size([4, 256]) torch.Size([256, 64, 64])\n",
      "mask decoder 1 torch.Size([256, 4, 256]) torch.Size([256, 64, 64])\n",
      "Sizes of tensors must match except in dimension 1. Expected size 256 but got size 64 for tensor number 1 in the list.\n",
      "Error occurs, No graph saved\n"
     ]
    },
    {
     "ename": "RuntimeError",
     "evalue": "Sizes of tensors must match except in dimension 1. Expected size 256 but got size 64 for tensor number 1 in the list.",
     "output_type": "error",
     "traceback": [
      "\u001b[0;31m---------------------------------------------------------------------------\u001b[0m",
      "\u001b[0;31mRuntimeError\u001b[0m                              Traceback (most recent call last)",
      "Cell \u001b[0;32mIn[12], line 38\u001b[0m\n\u001b[1;32m     28\u001b[0m     \u001b[38;5;28;01mreturn\u001b[39;00m {\n\u001b[1;32m     29\u001b[0m         \u001b[38;5;124m\"\u001b[39m\u001b[38;5;124mimage_embeddings\u001b[39m\u001b[38;5;124m\"\u001b[39m: image_embeddings,\n\u001b[1;32m     30\u001b[0m         \u001b[38;5;124m\"\u001b[39m\u001b[38;5;124msparse_prompt_embeddings\u001b[39m\u001b[38;5;124m\"\u001b[39m: sparse_embeddings,\n\u001b[0;32m   (...)\u001b[0m\n\u001b[1;32m     33\u001b[0m         \u001b[38;5;124m\"\u001b[39m\u001b[38;5;124mmultimask_output\u001b[39m\u001b[38;5;124m\"\u001b[39m: torch\u001b[38;5;241m.\u001b[39mtensor(\u001b[38;5;28;01mTrue\u001b[39;00m, dtype\u001b[38;5;241m=\u001b[39mtorch\u001b[38;5;241m.\u001b[39mbool, device\u001b[38;5;241m=\u001b[39mDEVICE),\n\u001b[1;32m     34\u001b[0m     }\n\u001b[1;32m     36\u001b[0m m_decoder_input \u001b[38;5;241m=\u001b[39m m_decoder_input_maker(mris_batched[\u001b[38;5;241m2\u001b[39m], sam_mevis)\u001b[38;5;241m.\u001b[39mvalues()\n\u001b[0;32m---> 38\u001b[0m \u001b[43mwriter\u001b[49m\u001b[38;5;241;43m.\u001b[39;49m\u001b[43madd_graph\u001b[49m\u001b[43m(\u001b[49m\n\u001b[1;32m     39\u001b[0m \u001b[43m    \u001b[49m\u001b[43mmodel\u001b[49m\u001b[38;5;241;43m=\u001b[39;49m\u001b[43msam_mevis\u001b[49m\u001b[38;5;241;43m.\u001b[39;49m\u001b[43mmask_decoder\u001b[49m\u001b[43m,\u001b[49m\n\u001b[1;32m     40\u001b[0m \u001b[43m    \u001b[49m\u001b[43minput_to_model\u001b[49m\u001b[38;5;241;43m=\u001b[39;49m\u001b[43mm_decoder_input\u001b[49m\u001b[43m,\u001b[49m\n\u001b[1;32m     41\u001b[0m \u001b[43m)\u001b[49m\n",
      "File \u001b[0;32m~/miniconda3/envs/sab_env2/lib/python3.12/site-packages/torch/utils/tensorboard/writer.py:841\u001b[0m, in \u001b[0;36mSummaryWriter.add_graph\u001b[0;34m(self, model, input_to_model, verbose, use_strict_trace)\u001b[0m\n\u001b[1;32m    838\u001b[0m torch\u001b[38;5;241m.\u001b[39m_C\u001b[38;5;241m.\u001b[39m_log_api_usage_once(\u001b[38;5;124m\"\u001b[39m\u001b[38;5;124mtensorboard.logging.add_graph\u001b[39m\u001b[38;5;124m\"\u001b[39m)\n\u001b[1;32m    839\u001b[0m \u001b[38;5;66;03m# A valid PyTorch model should have a 'forward' method\u001b[39;00m\n\u001b[1;32m    840\u001b[0m \u001b[38;5;28mself\u001b[39m\u001b[38;5;241m.\u001b[39m_get_file_writer()\u001b[38;5;241m.\u001b[39madd_graph(\n\u001b[0;32m--> 841\u001b[0m     \u001b[43mgraph\u001b[49m\u001b[43m(\u001b[49m\u001b[43mmodel\u001b[49m\u001b[43m,\u001b[49m\u001b[43m \u001b[49m\u001b[43minput_to_model\u001b[49m\u001b[43m,\u001b[49m\u001b[43m \u001b[49m\u001b[43mverbose\u001b[49m\u001b[43m,\u001b[49m\u001b[43m \u001b[49m\u001b[43muse_strict_trace\u001b[49m\u001b[43m)\u001b[49m\n\u001b[1;32m    842\u001b[0m )\n",
      "File \u001b[0;32m~/miniconda3/envs/sab_env2/lib/python3.12/site-packages/torch/utils/tensorboard/_pytorch_graph.py:337\u001b[0m, in \u001b[0;36mgraph\u001b[0;34m(model, args, verbose, use_strict_trace)\u001b[0m\n\u001b[1;32m    335\u001b[0m         \u001b[38;5;28mprint\u001b[39m(e)\n\u001b[1;32m    336\u001b[0m         \u001b[38;5;28mprint\u001b[39m(\u001b[38;5;124m\"\u001b[39m\u001b[38;5;124mError occurs, No graph saved\u001b[39m\u001b[38;5;124m\"\u001b[39m)\n\u001b[0;32m--> 337\u001b[0m         \u001b[38;5;28;01mraise\u001b[39;00m e\n\u001b[1;32m    339\u001b[0m \u001b[38;5;28;01mif\u001b[39;00m verbose:\n\u001b[1;32m    340\u001b[0m     \u001b[38;5;28mprint\u001b[39m(graph)\n",
      "File \u001b[0;32m~/miniconda3/envs/sab_env2/lib/python3.12/site-packages/torch/utils/tensorboard/_pytorch_graph.py:331\u001b[0m, in \u001b[0;36mgraph\u001b[0;34m(model, args, verbose, use_strict_trace)\u001b[0m\n\u001b[1;32m    329\u001b[0m \u001b[38;5;28;01mwith\u001b[39;00m _set_model_to_eval(model):\n\u001b[1;32m    330\u001b[0m     \u001b[38;5;28;01mtry\u001b[39;00m:\n\u001b[0;32m--> 331\u001b[0m         trace \u001b[38;5;241m=\u001b[39m \u001b[43mtorch\u001b[49m\u001b[38;5;241;43m.\u001b[39;49m\u001b[43mjit\u001b[49m\u001b[38;5;241;43m.\u001b[39;49m\u001b[43mtrace\u001b[49m\u001b[43m(\u001b[49m\u001b[43mmodel\u001b[49m\u001b[43m,\u001b[49m\u001b[43m \u001b[49m\u001b[43margs\u001b[49m\u001b[43m,\u001b[49m\u001b[43m \u001b[49m\u001b[43mstrict\u001b[49m\u001b[38;5;241;43m=\u001b[39;49m\u001b[43muse_strict_trace\u001b[49m\u001b[43m)\u001b[49m\n\u001b[1;32m    332\u001b[0m         graph \u001b[38;5;241m=\u001b[39m trace\u001b[38;5;241m.\u001b[39mgraph\n\u001b[1;32m    333\u001b[0m         torch\u001b[38;5;241m.\u001b[39m_C\u001b[38;5;241m.\u001b[39m_jit_pass_inline(graph)\n",
      "File \u001b[0;32m~/miniconda3/envs/sab_env2/lib/python3.12/site-packages/torch/jit/_trace.py:1000\u001b[0m, in \u001b[0;36mtrace\u001b[0;34m(func, example_inputs, optimize, check_trace, check_inputs, check_tolerance, strict, _force_outplace, _module_class, _compilation_unit, example_kwarg_inputs, _store_inputs)\u001b[0m\n\u001b[1;32m    993\u001b[0m \u001b[38;5;28;01mfrom\u001b[39;00m \u001b[38;5;21;01mtorch\u001b[39;00m\u001b[38;5;21;01m.\u001b[39;00m\u001b[38;5;21;01m_utils_internal\u001b[39;00m \u001b[38;5;28;01mimport\u001b[39;00m (\n\u001b[1;32m    994\u001b[0m     check_if_torch_exportable,\n\u001b[1;32m    995\u001b[0m     log_torch_jit_trace_exportability,\n\u001b[1;32m    996\u001b[0m     log_torchscript_usage,\n\u001b[1;32m    997\u001b[0m )\n\u001b[1;32m    999\u001b[0m log_torchscript_usage(\u001b[38;5;124m\"\u001b[39m\u001b[38;5;124mtrace\u001b[39m\u001b[38;5;124m\"\u001b[39m)\n\u001b[0;32m-> 1000\u001b[0m traced_func \u001b[38;5;241m=\u001b[39m \u001b[43m_trace_impl\u001b[49m\u001b[43m(\u001b[49m\n\u001b[1;32m   1001\u001b[0m \u001b[43m    \u001b[49m\u001b[43mfunc\u001b[49m\u001b[43m,\u001b[49m\n\u001b[1;32m   1002\u001b[0m \u001b[43m    \u001b[49m\u001b[43mexample_inputs\u001b[49m\u001b[43m,\u001b[49m\n\u001b[1;32m   1003\u001b[0m \u001b[43m    \u001b[49m\u001b[43moptimize\u001b[49m\u001b[43m,\u001b[49m\n\u001b[1;32m   1004\u001b[0m \u001b[43m    \u001b[49m\u001b[43mcheck_trace\u001b[49m\u001b[43m,\u001b[49m\n\u001b[1;32m   1005\u001b[0m \u001b[43m    \u001b[49m\u001b[43mcheck_inputs\u001b[49m\u001b[43m,\u001b[49m\n\u001b[1;32m   1006\u001b[0m \u001b[43m    \u001b[49m\u001b[43mcheck_tolerance\u001b[49m\u001b[43m,\u001b[49m\n\u001b[1;32m   1007\u001b[0m \u001b[43m    \u001b[49m\u001b[43mstrict\u001b[49m\u001b[43m,\u001b[49m\n\u001b[1;32m   1008\u001b[0m \u001b[43m    \u001b[49m\u001b[43m_force_outplace\u001b[49m\u001b[43m,\u001b[49m\n\u001b[1;32m   1009\u001b[0m \u001b[43m    \u001b[49m\u001b[43m_module_class\u001b[49m\u001b[43m,\u001b[49m\n\u001b[1;32m   1010\u001b[0m \u001b[43m    \u001b[49m\u001b[43m_compilation_unit\u001b[49m\u001b[43m,\u001b[49m\n\u001b[1;32m   1011\u001b[0m \u001b[43m    \u001b[49m\u001b[43mexample_kwarg_inputs\u001b[49m\u001b[43m,\u001b[49m\n\u001b[1;32m   1012\u001b[0m \u001b[43m    \u001b[49m\u001b[43m_store_inputs\u001b[49m\u001b[43m,\u001b[49m\n\u001b[1;32m   1013\u001b[0m \u001b[43m\u001b[49m\u001b[43m)\u001b[49m\n\u001b[1;32m   1015\u001b[0m \u001b[38;5;28;01mif\u001b[39;00m check_if_torch_exportable():\n\u001b[1;32m   1016\u001b[0m     \u001b[38;5;28;01mfrom\u001b[39;00m \u001b[38;5;21;01mtorch\u001b[39;00m\u001b[38;5;21;01m.\u001b[39;00m\u001b[38;5;21;01m_export\u001b[39;00m\u001b[38;5;21;01m.\u001b[39;00m\u001b[38;5;21;01mconverter\u001b[39;00m \u001b[38;5;28;01mimport\u001b[39;00m TS2EPConverter\n",
      "File \u001b[0;32m~/miniconda3/envs/sab_env2/lib/python3.12/site-packages/torch/jit/_trace.py:695\u001b[0m, in \u001b[0;36m_trace_impl\u001b[0;34m(func, example_inputs, optimize, check_trace, check_inputs, check_tolerance, strict, _force_outplace, _module_class, _compilation_unit, example_kwarg_inputs, _store_inputs)\u001b[0m\n\u001b[1;32m    693\u001b[0m         \u001b[38;5;28;01melse\u001b[39;00m:\n\u001b[1;32m    694\u001b[0m             \u001b[38;5;28;01mraise\u001b[39;00m \u001b[38;5;167;01mRuntimeError\u001b[39;00m(\u001b[38;5;124m\"\u001b[39m\u001b[38;5;124mexample_kwarg_inputs should be a dict\u001b[39m\u001b[38;5;124m\"\u001b[39m)\n\u001b[0;32m--> 695\u001b[0m     \u001b[38;5;28;01mreturn\u001b[39;00m \u001b[43mtrace_module\u001b[49m\u001b[43m(\u001b[49m\n\u001b[1;32m    696\u001b[0m \u001b[43m        \u001b[49m\u001b[43mfunc\u001b[49m\u001b[43m,\u001b[49m\n\u001b[1;32m    697\u001b[0m \u001b[43m        \u001b[49m\u001b[43m{\u001b[49m\u001b[38;5;124;43m\"\u001b[39;49m\u001b[38;5;124;43mforward\u001b[39;49m\u001b[38;5;124;43m\"\u001b[39;49m\u001b[43m:\u001b[49m\u001b[43m \u001b[49m\u001b[43mexample_inputs\u001b[49m\u001b[43m}\u001b[49m\u001b[43m,\u001b[49m\n\u001b[1;32m    698\u001b[0m \u001b[43m        \u001b[49m\u001b[38;5;28;43;01mNone\u001b[39;49;00m\u001b[43m,\u001b[49m\n\u001b[1;32m    699\u001b[0m \u001b[43m        \u001b[49m\u001b[43mcheck_trace\u001b[49m\u001b[43m,\u001b[49m\n\u001b[1;32m    700\u001b[0m \u001b[43m        \u001b[49m\u001b[43mwrap_check_inputs\u001b[49m\u001b[43m(\u001b[49m\u001b[43mcheck_inputs\u001b[49m\u001b[43m)\u001b[49m\u001b[43m,\u001b[49m\n\u001b[1;32m    701\u001b[0m \u001b[43m        \u001b[49m\u001b[43mcheck_tolerance\u001b[49m\u001b[43m,\u001b[49m\n\u001b[1;32m    702\u001b[0m \u001b[43m        \u001b[49m\u001b[43mstrict\u001b[49m\u001b[43m,\u001b[49m\n\u001b[1;32m    703\u001b[0m \u001b[43m        \u001b[49m\u001b[43m_force_outplace\u001b[49m\u001b[43m,\u001b[49m\n\u001b[1;32m    704\u001b[0m \u001b[43m        \u001b[49m\u001b[43m_module_class\u001b[49m\u001b[43m,\u001b[49m\n\u001b[1;32m    705\u001b[0m \u001b[43m        \u001b[49m\u001b[43mexample_inputs_is_kwarg\u001b[49m\u001b[38;5;241;43m=\u001b[39;49m\u001b[38;5;28;43misinstance\u001b[39;49m\u001b[43m(\u001b[49m\u001b[43mexample_kwarg_inputs\u001b[49m\u001b[43m,\u001b[49m\u001b[43m \u001b[49m\u001b[38;5;28;43mdict\u001b[39;49m\u001b[43m)\u001b[49m\u001b[43m,\u001b[49m\n\u001b[1;32m    706\u001b[0m \u001b[43m        \u001b[49m\u001b[43m_store_inputs\u001b[49m\u001b[38;5;241;43m=\u001b[39;49m\u001b[43m_store_inputs\u001b[49m\u001b[43m,\u001b[49m\n\u001b[1;32m    707\u001b[0m \u001b[43m    \u001b[49m\u001b[43m)\u001b[49m\n\u001b[1;32m    708\u001b[0m \u001b[38;5;28;01mif\u001b[39;00m (\n\u001b[1;32m    709\u001b[0m     \u001b[38;5;28mhasattr\u001b[39m(func, \u001b[38;5;124m\"\u001b[39m\u001b[38;5;124m__self__\u001b[39m\u001b[38;5;124m\"\u001b[39m)\n\u001b[1;32m    710\u001b[0m     \u001b[38;5;129;01mand\u001b[39;00m \u001b[38;5;28misinstance\u001b[39m(func\u001b[38;5;241m.\u001b[39m\u001b[38;5;18m__self__\u001b[39m, torch\u001b[38;5;241m.\u001b[39mnn\u001b[38;5;241m.\u001b[39mModule)\n\u001b[1;32m    711\u001b[0m     \u001b[38;5;129;01mand\u001b[39;00m func\u001b[38;5;241m.\u001b[39m\u001b[38;5;18m__name__\u001b[39m \u001b[38;5;241m==\u001b[39m \u001b[38;5;124m\"\u001b[39m\u001b[38;5;124mforward\u001b[39m\u001b[38;5;124m\"\u001b[39m\n\u001b[1;32m    712\u001b[0m ):\n\u001b[1;32m    713\u001b[0m     \u001b[38;5;28;01mif\u001b[39;00m example_inputs \u001b[38;5;129;01mis\u001b[39;00m \u001b[38;5;28;01mNone\u001b[39;00m:\n",
      "File \u001b[0;32m~/miniconda3/envs/sab_env2/lib/python3.12/site-packages/torch/jit/_trace.py:1275\u001b[0m, in \u001b[0;36mtrace_module\u001b[0;34m(mod, inputs, optimize, check_trace, check_inputs, check_tolerance, strict, _force_outplace, _module_class, _compilation_unit, example_inputs_is_kwarg, _store_inputs)\u001b[0m\n\u001b[1;32m   1273\u001b[0m \u001b[38;5;28;01melse\u001b[39;00m:\n\u001b[1;32m   1274\u001b[0m     example_inputs \u001b[38;5;241m=\u001b[39m make_tuple(example_inputs)\n\u001b[0;32m-> 1275\u001b[0m     \u001b[43mmodule\u001b[49m\u001b[38;5;241;43m.\u001b[39;49m\u001b[43m_c\u001b[49m\u001b[38;5;241;43m.\u001b[39;49m\u001b[43m_create_method_from_trace\u001b[49m\u001b[43m(\u001b[49m\n\u001b[1;32m   1276\u001b[0m \u001b[43m        \u001b[49m\u001b[43mmethod_name\u001b[49m\u001b[43m,\u001b[49m\n\u001b[1;32m   1277\u001b[0m \u001b[43m        \u001b[49m\u001b[43mfunc\u001b[49m\u001b[43m,\u001b[49m\n\u001b[1;32m   1278\u001b[0m \u001b[43m        \u001b[49m\u001b[43mexample_inputs\u001b[49m\u001b[43m,\u001b[49m\n\u001b[1;32m   1279\u001b[0m \u001b[43m        \u001b[49m\u001b[43mvar_lookup_fn\u001b[49m\u001b[43m,\u001b[49m\n\u001b[1;32m   1280\u001b[0m \u001b[43m        \u001b[49m\u001b[43mstrict\u001b[49m\u001b[43m,\u001b[49m\n\u001b[1;32m   1281\u001b[0m \u001b[43m        \u001b[49m\u001b[43m_force_outplace\u001b[49m\u001b[43m,\u001b[49m\n\u001b[1;32m   1282\u001b[0m \u001b[43m        \u001b[49m\u001b[43margument_names\u001b[49m\u001b[43m,\u001b[49m\n\u001b[1;32m   1283\u001b[0m \u001b[43m        \u001b[49m\u001b[43m_store_inputs\u001b[49m\u001b[43m,\u001b[49m\n\u001b[1;32m   1284\u001b[0m \u001b[43m    \u001b[49m\u001b[43m)\u001b[49m\n\u001b[1;32m   1286\u001b[0m check_trace_method \u001b[38;5;241m=\u001b[39m module\u001b[38;5;241m.\u001b[39m_c\u001b[38;5;241m.\u001b[39m_get_method(method_name)\n\u001b[1;32m   1288\u001b[0m \u001b[38;5;66;03m# Check the trace against new traces created from user-specified inputs\u001b[39;00m\n",
      "File \u001b[0;32m~/miniconda3/envs/sab_env2/lib/python3.12/site-packages/torch/nn/modules/module.py:1553\u001b[0m, in \u001b[0;36mModule._wrapped_call_impl\u001b[0;34m(self, *args, **kwargs)\u001b[0m\n\u001b[1;32m   1551\u001b[0m     \u001b[38;5;28;01mreturn\u001b[39;00m \u001b[38;5;28mself\u001b[39m\u001b[38;5;241m.\u001b[39m_compiled_call_impl(\u001b[38;5;241m*\u001b[39margs, \u001b[38;5;241m*\u001b[39m\u001b[38;5;241m*\u001b[39mkwargs)  \u001b[38;5;66;03m# type: ignore[misc]\u001b[39;00m\n\u001b[1;32m   1552\u001b[0m \u001b[38;5;28;01melse\u001b[39;00m:\n\u001b[0;32m-> 1553\u001b[0m     \u001b[38;5;28;01mreturn\u001b[39;00m \u001b[38;5;28;43mself\u001b[39;49m\u001b[38;5;241;43m.\u001b[39;49m\u001b[43m_call_impl\u001b[49m\u001b[43m(\u001b[49m\u001b[38;5;241;43m*\u001b[39;49m\u001b[43margs\u001b[49m\u001b[43m,\u001b[49m\u001b[43m \u001b[49m\u001b[38;5;241;43m*\u001b[39;49m\u001b[38;5;241;43m*\u001b[39;49m\u001b[43mkwargs\u001b[49m\u001b[43m)\u001b[49m\n",
      "File \u001b[0;32m~/miniconda3/envs/sab_env2/lib/python3.12/site-packages/torch/nn/modules/module.py:1562\u001b[0m, in \u001b[0;36mModule._call_impl\u001b[0;34m(self, *args, **kwargs)\u001b[0m\n\u001b[1;32m   1557\u001b[0m \u001b[38;5;66;03m# If we don't have any hooks, we want to skip the rest of the logic in\u001b[39;00m\n\u001b[1;32m   1558\u001b[0m \u001b[38;5;66;03m# this function, and just call forward.\u001b[39;00m\n\u001b[1;32m   1559\u001b[0m \u001b[38;5;28;01mif\u001b[39;00m \u001b[38;5;129;01mnot\u001b[39;00m (\u001b[38;5;28mself\u001b[39m\u001b[38;5;241m.\u001b[39m_backward_hooks \u001b[38;5;129;01mor\u001b[39;00m \u001b[38;5;28mself\u001b[39m\u001b[38;5;241m.\u001b[39m_backward_pre_hooks \u001b[38;5;129;01mor\u001b[39;00m \u001b[38;5;28mself\u001b[39m\u001b[38;5;241m.\u001b[39m_forward_hooks \u001b[38;5;129;01mor\u001b[39;00m \u001b[38;5;28mself\u001b[39m\u001b[38;5;241m.\u001b[39m_forward_pre_hooks\n\u001b[1;32m   1560\u001b[0m         \u001b[38;5;129;01mor\u001b[39;00m _global_backward_pre_hooks \u001b[38;5;129;01mor\u001b[39;00m _global_backward_hooks\n\u001b[1;32m   1561\u001b[0m         \u001b[38;5;129;01mor\u001b[39;00m _global_forward_hooks \u001b[38;5;129;01mor\u001b[39;00m _global_forward_pre_hooks):\n\u001b[0;32m-> 1562\u001b[0m     \u001b[38;5;28;01mreturn\u001b[39;00m \u001b[43mforward_call\u001b[49m\u001b[43m(\u001b[49m\u001b[38;5;241;43m*\u001b[39;49m\u001b[43margs\u001b[49m\u001b[43m,\u001b[49m\u001b[43m \u001b[49m\u001b[38;5;241;43m*\u001b[39;49m\u001b[38;5;241;43m*\u001b[39;49m\u001b[43mkwargs\u001b[49m\u001b[43m)\u001b[49m\n\u001b[1;32m   1564\u001b[0m \u001b[38;5;28;01mtry\u001b[39;00m:\n\u001b[1;32m   1565\u001b[0m     result \u001b[38;5;241m=\u001b[39m \u001b[38;5;28;01mNone\u001b[39;00m\n",
      "File \u001b[0;32m~/miniconda3/envs/sab_env2/lib/python3.12/site-packages/torch/nn/modules/module.py:1543\u001b[0m, in \u001b[0;36mModule._slow_forward\u001b[0;34m(self, *input, **kwargs)\u001b[0m\n\u001b[1;32m   1541\u001b[0m         recording_scopes \u001b[38;5;241m=\u001b[39m \u001b[38;5;28;01mFalse\u001b[39;00m\n\u001b[1;32m   1542\u001b[0m \u001b[38;5;28;01mtry\u001b[39;00m:\n\u001b[0;32m-> 1543\u001b[0m     result \u001b[38;5;241m=\u001b[39m \u001b[38;5;28;43mself\u001b[39;49m\u001b[38;5;241;43m.\u001b[39;49m\u001b[43mforward\u001b[49m\u001b[43m(\u001b[49m\u001b[38;5;241;43m*\u001b[39;49m\u001b[38;5;28;43minput\u001b[39;49m\u001b[43m,\u001b[49m\u001b[43m \u001b[49m\u001b[38;5;241;43m*\u001b[39;49m\u001b[38;5;241;43m*\u001b[39;49m\u001b[43mkwargs\u001b[49m\u001b[43m)\u001b[49m\n\u001b[1;32m   1544\u001b[0m \u001b[38;5;28;01mfinally\u001b[39;00m:\n\u001b[1;32m   1545\u001b[0m     \u001b[38;5;28;01mif\u001b[39;00m recording_scopes:\n",
      "File \u001b[0;32m~/Thesis_code/models/sam/modeling/mask_decoder.py:184\u001b[0m, in \u001b[0;36mMaskDecoder.forward\u001b[0;34m(self, image_embeddings, image_pe, sparse_prompt_embeddings, dense_prompt_embeddings, multimask_output)\u001b[0m\n\u001b[1;32m    161\u001b[0m \u001b[38;5;28;01mdef\u001b[39;00m \u001b[38;5;21mforward\u001b[39m(\n\u001b[1;32m    162\u001b[0m     \u001b[38;5;28mself\u001b[39m,\n\u001b[1;32m    163\u001b[0m     image_embeddings: torch\u001b[38;5;241m.\u001b[39mTensor,\n\u001b[0;32m   (...)\u001b[0m\n\u001b[1;32m    167\u001b[0m     multimask_output: \u001b[38;5;28mbool\u001b[39m,\n\u001b[1;32m    168\u001b[0m ) \u001b[38;5;241m-\u001b[39m\u001b[38;5;241m>\u001b[39m Tuple[torch\u001b[38;5;241m.\u001b[39mTensor, torch\u001b[38;5;241m.\u001b[39mTensor]:\n\u001b[1;32m    169\u001b[0m \u001b[38;5;250m    \u001b[39m\u001b[38;5;124;03m\"\"\"\u001b[39;00m\n\u001b[1;32m    170\u001b[0m \u001b[38;5;124;03m    Predict masks given image and prompt embeddings.\u001b[39;00m\n\u001b[1;32m    171\u001b[0m \n\u001b[0;32m   (...)\u001b[0m\n\u001b[1;32m    182\u001b[0m \u001b[38;5;124;03m      torch.Tensor: batched predictions of mask quality\u001b[39;00m\n\u001b[1;32m    183\u001b[0m \u001b[38;5;124;03m    \"\"\"\u001b[39;00m\n\u001b[0;32m--> 184\u001b[0m     masks, iou_pred \u001b[38;5;241m=\u001b[39m \u001b[38;5;28;43mself\u001b[39;49m\u001b[38;5;241;43m.\u001b[39;49m\u001b[43mpredict_masks\u001b[49m\u001b[43m(\u001b[49m\n\u001b[1;32m    185\u001b[0m \u001b[43m        \u001b[49m\u001b[43mimage_embeddings\u001b[49m\u001b[38;5;241;43m=\u001b[39;49m\u001b[43mimage_embeddings\u001b[49m\u001b[43m,\u001b[49m\n\u001b[1;32m    186\u001b[0m \u001b[43m        \u001b[49m\u001b[43mimage_pe\u001b[49m\u001b[38;5;241;43m=\u001b[39;49m\u001b[43mimage_pe\u001b[49m\u001b[43m,\u001b[49m\n\u001b[1;32m    187\u001b[0m \u001b[43m        \u001b[49m\u001b[43msparse_prompt_embeddings\u001b[49m\u001b[38;5;241;43m=\u001b[39;49m\u001b[43msparse_prompt_embeddings\u001b[49m\u001b[43m,\u001b[49m\n\u001b[1;32m    188\u001b[0m \u001b[43m        \u001b[49m\u001b[43mdense_prompt_embeddings\u001b[49m\u001b[38;5;241;43m=\u001b[39;49m\u001b[43mdense_prompt_embeddings\u001b[49m\u001b[43m,\u001b[49m\n\u001b[1;32m    189\u001b[0m \u001b[43m    \u001b[49m\u001b[43m)\u001b[49m\n\u001b[1;32m    191\u001b[0m     \u001b[38;5;66;03m# Select the correct mask or masks for output\u001b[39;00m\n\u001b[1;32m    192\u001b[0m     \u001b[38;5;28;01mif\u001b[39;00m multimask_output:\n",
      "File \u001b[0;32m~/Thesis_code/models/sam/modeling/mask_decoder.py:216\u001b[0m, in \u001b[0;36mMaskDecoder.predict_masks\u001b[0;34m(self, image_embeddings, image_pe, sparse_prompt_embeddings, dense_prompt_embeddings)\u001b[0m\n\u001b[1;32m    214\u001b[0m output_tokens \u001b[38;5;241m=\u001b[39m output_tokens\u001b[38;5;241m.\u001b[39munsqueeze(\u001b[38;5;241m0\u001b[39m)\u001b[38;5;241m.\u001b[39mexpand(sparse_prompt_embeddings\u001b[38;5;241m.\u001b[39msize(\u001b[38;5;241m0\u001b[39m), \u001b[38;5;241m-\u001b[39m\u001b[38;5;241m1\u001b[39m, \u001b[38;5;241m-\u001b[39m\u001b[38;5;241m1\u001b[39m)\n\u001b[1;32m    215\u001b[0m \u001b[38;5;28mprint\u001b[39m(\u001b[38;5;124m\"\u001b[39m\u001b[38;5;124mmask decoder 1\u001b[39m\u001b[38;5;124m\"\u001b[39m, output_tokens\u001b[38;5;241m.\u001b[39mshape, sparse_prompt_embeddings\u001b[38;5;241m.\u001b[39mshape)\n\u001b[0;32m--> 216\u001b[0m tokens \u001b[38;5;241m=\u001b[39m \u001b[43mtorch\u001b[49m\u001b[38;5;241;43m.\u001b[39;49m\u001b[43mcat\u001b[49m\u001b[43m(\u001b[49m\u001b[43m(\u001b[49m\u001b[43moutput_tokens\u001b[49m\u001b[43m,\u001b[49m\u001b[43m \u001b[49m\u001b[43msparse_prompt_embeddings\u001b[49m\u001b[43m)\u001b[49m\u001b[43m,\u001b[49m\u001b[43m \u001b[49m\u001b[43mdim\u001b[49m\u001b[38;5;241;43m=\u001b[39;49m\u001b[38;5;241;43m1\u001b[39;49m\u001b[43m)\u001b[49m\n\u001b[1;32m    218\u001b[0m \u001b[38;5;66;03m# Expand per-image data in batch direction to be per-mask\u001b[39;00m\n\u001b[1;32m    219\u001b[0m \u001b[38;5;28;01mif\u001b[39;00m image_embeddings\u001b[38;5;241m.\u001b[39mshape[\u001b[38;5;241m0\u001b[39m] \u001b[38;5;241m!=\u001b[39m tokens\u001b[38;5;241m.\u001b[39mshape[\u001b[38;5;241m0\u001b[39m]:\n",
      "\u001b[0;31mRuntimeError\u001b[0m: Sizes of tensors must match except in dimension 1. Expected size 256 but got size 64 for tensor number 1 in the list."
     ]
    }
   ],
   "source": [
    "# try to make training loop\n",
    "def m_decoder_input_maker(batch, sam):\n",
    "    bs = batch[\"images\"].shape[0]\n",
    "    image_embeddings = sam.image_encoder(batch[\"images\"])\n",
    "    sparse_embeddings, dense_embeddings = sam.prompt_encoder(\n",
    "        points=None, boxes=None, masks=None\n",
    "    )\n",
    "    sparse_embeddings = sparse_embeddings.squeeze(0)\n",
    "    dense_embeddings = dense_embeddings.squeeze(0)\n",
    "\n",
    "    image_pe = torch.stack(\n",
    "        [sam.prompt_encoder.get_dense_pe() for i in range(bs)], dim=0\n",
    "    ).squeeze(1)\n",
    "    for i in range(image_embeddings.shape[0]):\n",
    "        image_embeddings[i] = sam.attention_fusion(\n",
    "            image_embeddings[i : i + 1], batch[\"atten_map\"][i : i + 1]\n",
    "        )\n",
    "    # low_res_masks, iou_predictions = sam.mask_decoder(\n",
    "    #     image_embeddings=image_embeddings,\n",
    "    #     image_pe=image_pe,\n",
    "    #     sparse_prompt_embeddings=sparse_embeddings,\n",
    "    #     dense_prompt_embeddings=dense_embeddings,\n",
    "    #     multimask_output=True,\n",
    "    # )\n",
    "\n",
    "    # low_res_masks_bool = low_res_masks > sam_fine_tune.mask_threshold\n",
    "    \n",
    "    return {\n",
    "        \"image_embeddings\": image_embeddings,\n",
    "        \"sparse_prompt_embeddings\": sparse_embeddings,\n",
    "        \"dense_prompt_embeddings\": dense_embeddings,\n",
    "        \"image_pe\": image_pe,\n",
    "        \"multimask_output\": torch.tensor(True, dtype=torch.bool, device=DEVICE),\n",
    "    }\n",
    "\n",
    "m_decoder_input = m_decoder_input_maker(mris_batched[2], sam_mevis).values()\n",
    "\n",
    "writer.add_graph(\n",
    "    model=sam_mevis.mask_decoder,\n",
    "    input_to_model=m_decoder_input,\n",
    ")"
   ]
  },
  {
   "cell_type": "code",
   "execution_count": 7,
   "metadata": {},
   "outputs": [
    {
     "ename": "TypeError",
     "evalue": "'type' object is not iterable",
     "output_type": "error",
     "traceback": [
      "\u001b[0;31m---------------------------------------------------------------------------\u001b[0m",
      "\u001b[0;31mTypeError\u001b[0m                                 Traceback (most recent call last)",
      "Cell \u001b[0;32mIn[7], line 1\u001b[0m\n\u001b[0;32m----> 1\u001b[0m \u001b[38;5;28;01mfor\u001b[39;00m ind, batch \u001b[38;5;129;01min\u001b[39;00m \u001b[38;5;28;43menumerate\u001b[39;49m\u001b[43m(\u001b[49m\u001b[43mtrain_dataset\u001b[49m\u001b[43m)\u001b[49m:\n\u001b[1;32m      2\u001b[0m     inp \u001b[38;5;241m=\u001b[39m [\n\u001b[1;32m      3\u001b[0m         {\n\u001b[1;32m      4\u001b[0m             \u001b[38;5;124m\"\u001b[39m\u001b[38;5;124mimage\u001b[39m\u001b[38;5;124m\"\u001b[39m: batch[\u001b[38;5;124m\"\u001b[39m\u001b[38;5;124mimages\u001b[39m\u001b[38;5;124m\"\u001b[39m],\n\u001b[0;32m   (...)\u001b[0m\n\u001b[1;32m      7\u001b[0m         }\n\u001b[1;32m      8\u001b[0m     ]\n\u001b[1;32m      9\u001b[0m     out \u001b[38;5;241m=\u001b[39m sam_mevis(inp)\n",
      "\u001b[0;31mTypeError\u001b[0m: 'type' object is not iterable"
     ]
    }
   ],
   "source": [
    "sam_mevis.train()\n",
    "for param in sam_mevis.parameters():\n",
    "    param.requires_grad = False\n",
    "for name, param in sam_mevis.image_encoder.named_parameters():\n",
    "    if name in image_encoder_layers:\n",
    "        param.requires_grad = True\n",
    "for name, param in sam_mevis.mask_decoder.named_parameters():\n",
    "    if name in mask_decoder_layers:\n",
    "        param.requires_grad = True"
   ]
  },
  {
   "cell_type": "markdown",
   "metadata": {
    "vscode": {
     "languageId": "raw"
    }
   },
   "source": [
    "python\\nimport torch\\nimport torch.nn as nn\\nimport torch.optim as optim\\nfrom torch.utils.data import DataLoader\\nfrom torch.utils.tensorboard import SummaryWriter\\n\\ndef train_model(model, train_loader, val_loader, criterion, optimizer, num_epochs, writer):\\n    for epoch in range(num_epochs):\\n        model.train()\\n        running_loss = 0.0\\n        for i, (inputs, labels) in enumerate(train_loader):\\n            optimizer.zero_grad()\\n            outputs = model(inputs)\\n            loss = criterion(outputs, labels)\\n            loss.backward()\\n            optimizer.step()\\n            running_loss += loss.item()\\n\\n            # Log training loss every 100 batches\\n            if i % 100 == 99:\\n                writer.add_scalar('Training Loss', running_loss / 100, epoch * len(train_loader) + i)\\n                running_loss = 0.0\\n\\n        validate_model(model, val_loader, criterion, writer, epoch)\\n\\ndef validate_model(model, val_loader, criterion, writer, epoch):\\n    model.eval()\\n    val_loss = 0.0\\n    correct = 0\\n    total = 0\\n    with torch.no_grad():\\n        for inputs, labels in val_loader:\\n            outputs = model(inputs)\\n            loss = criterion(outputs, labels)\\n            val_loss += loss.item()\\n            _, predicted = torch.max(outputs.data, 1)\\n            total += labels.size(0)\\n            correct += (predicted == labels).sum().item()\\n\\n    avg_val_loss = val_loss / len(val_loader)\\n    accuracy = 100 * correct / total\\n    writer.add_scalar('Validation Loss', avg_val_loss, epoch)\\n    writer.add_scalar('Validation Accuracy', accuracy, epoch)\\n\\n    print(f\\\"Validation Loss: {avg_val_loss}, Accuracy: {accuracy}%\\\")\\n\\n# Example usage\\nif __name__ == \\\"__main__\\\":\\n    model = ...  # Your model here\\n    train_dataset = ...  # Your training dataset here\\n    val_dataset = ...  # Your validation dataset here\\n\\n    train_loader = DataLoader(train_dataset, batch_size=32, shuffle=True)\\n    val_loader = DataLoader(val_dataset, batch_size=32, shuffle=False)\\n\\n    criterion = nn.CrossEntropyLoss()\\n    optimizer = optim.Adam(model.parameters(), lr=0.001)\\n    num_epochs = 10\\n\\n    # Initialize TensorBoard writer\\n    writer = SummaryWriter('runs/experiment_1')\\n\\n    train_model(model, train_loader, val_loader, criterion, optimizer, num_epochs, writer)\\n\\n    # Close the writer\\n    writer.close()\\n"
   ]
  }
 ],
 "metadata": {
  "kernelspec": {
   "display_name": "Python 3 (ipykernel)",
   "language": "python",
   "name": "python3"
  },
  "language_info": {
   "codemirror_mode": {
    "name": "ipython",
    "version": 3
   },
   "file_extension": ".py",
   "mimetype": "text/x-python",
   "name": "python",
   "nbconvert_exporter": "python",
   "pygments_lexer": "ipython3",
   "version": "3.12.4"
  }
 },
 "nbformat": 4,
 "nbformat_minor": 2
}
